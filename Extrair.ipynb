{
  "cells": [
    {
      "cell_type": "markdown",
      "metadata": {
        "id": "AISIa_L9_tWv"
      },
      "source": [
        "## Dados - Origem arquivos HTML's\n",
        "\n",
        "---\n",
        "\n"
      ]
    },
    {
      "cell_type": "code",
      "execution_count": null,
      "metadata": {
        "id": "HIvjp7L9lKW9"
      },
      "outputs": [],
      "source": [
        "import os\n",
        "import pandas as pd\n",
        "import numpy as np\n",
        "import matplotlib.pyplot as plt"
      ]
    },
    {
      "cell_type": "markdown",
      "metadata": {
        "id": "NbxnCyiyk7jv"
      },
      "source": [
        "## Dados - Seta se vai usar caminho Local/Ou Não"
      ]
    },
    {
      "cell_type": "code",
      "execution_count": null,
      "metadata": {
        "id": "ltpVUvG_k7jw"
      },
      "outputs": [],
      "source": [
        "# True  => LOCAL Desktop\n",
        "# False => colab\n",
        "isPathLocal = False"
      ]
    },
    {
      "cell_type": "code",
      "source": [
        "from google.colab import drive\n",
        "drive.mount('/content/drive')"
      ],
      "metadata": {
        "colab": {
          "base_uri": "https://localhost:8080/"
        },
        "id": "yot4Yzi0lfmO",
        "outputId": "0a7a1ba9-5ffc-44f5-e3cb-1d6a37f04647"
      },
      "execution_count": null,
      "outputs": [
        {
          "output_type": "stream",
          "name": "stdout",
          "text": [
            "Drive already mounted at /content/drive; to attempt to forcibly remount, call drive.mount(\"/content/drive\", force_remount=True).\n"
          ]
        }
      ]
    },
    {
      "cell_type": "code",
      "execution_count": null,
      "metadata": {
        "id": "zBKh7KsQlKmc"
      },
      "outputs": [],
      "source": [
        "if isPathLocal:\n",
        "    path = 'D:\\\\2. Ciência de Dados\\\\1. Trabalho de Conclusão\\\\Dados\\\\NPS - Suporte\\\\NPS - Suporte - HTML\\\\01 - TELEFONE - JANEIRO.html'\n",
        "else:\n",
        "    path = '/content/drive/MyDrive/1. Pós Ciência de Dados/1. Trabalho de Conclusão/Testes/Extrair Dados/Dados/NPS - Suporte/NPS - Suporte - HTML/01 - TELEFONE - JANEIRO.html'"
      ]
    },
    {
      "cell_type": "code",
      "source": [
        "path"
      ],
      "metadata": {
        "colab": {
          "base_uri": "https://localhost:8080/",
          "height": 35
        },
        "id": "BEoY3vk8lHaa",
        "outputId": "64dc9838-8b20-4824-ef55-78d0b45e8263"
      },
      "execution_count": null,
      "outputs": [
        {
          "output_type": "execute_result",
          "data": {
            "application/vnd.google.colaboratory.intrinsic+json": {
              "type": "string"
            },
            "text/plain": [
              "'/content/drive/MyDrive/1. Pós Ciência de Dados/1. Trabalho de Conclusão/Testes/Extrair Dados/Dados/NPS - Suporte/NPS - Suporte - HTML/01 - TELEFONE - JANEIRO.html'"
            ]
          },
          "metadata": {},
          "execution_count": 83
        }
      ]
    },
    {
      "cell_type": "code",
      "execution_count": null,
      "metadata": {
        "id": "YtYrYww2lOJn"
      },
      "outputs": [],
      "source": [
        "df = pd.read_html(path)"
      ]
    },
    {
      "cell_type": "code",
      "execution_count": null,
      "metadata": {
        "colab": {
          "base_uri": "https://localhost:8080/"
        },
        "id": "KQ__MvPbmQbd",
        "outputId": "1ac0080c-2ee9-4e66-a649-785763877b1b"
      },
      "outputs": [
        {
          "output_type": "execute_result",
          "data": {
            "text/plain": [
              "list"
            ]
          },
          "metadata": {},
          "execution_count": 7
        }
      ],
      "source": [
        "type(df)"
      ]
    },
    {
      "cell_type": "code",
      "execution_count": null,
      "metadata": {
        "colab": {
          "base_uri": "https://localhost:8080/",
          "height": 424
        },
        "id": "fOZRHgRgmbMw",
        "outputId": "586ef9e4-2517-4a1b-8544-aedc05f9fbb3"
      },
      "outputs": [
        {
          "output_type": "execute_result",
          "data": {
            "text/html": [
              "\n",
              "  <div id=\"df-1bfab3bf-1620-40cd-9f2a-404c92fd592f\">\n",
              "    <div class=\"colab-df-container\">\n",
              "      <div>\n",
              "<style scoped>\n",
              "    .dataframe tbody tr th:only-of-type {\n",
              "        vertical-align: middle;\n",
              "    }\n",
              "\n",
              "    .dataframe tbody tr th {\n",
              "        vertical-align: top;\n",
              "    }\n",
              "\n",
              "    .dataframe thead th {\n",
              "        text-align: right;\n",
              "    }\n",
              "</style>\n",
              "<table border=\"1\" class=\"dataframe\">\n",
              "  <thead>\n",
              "    <tr style=\"text-align: right;\">\n",
              "      <th></th>\n",
              "      <th>0</th>\n",
              "      <th>1</th>\n",
              "      <th>2</th>\n",
              "      <th>3</th>\n",
              "    </tr>\n",
              "  </thead>\n",
              "  <tbody>\n",
              "    <tr>\n",
              "      <th>0</th>\n",
              "      <td>RequisiÃ§Ã£o</td>\n",
              "      <td>Nota</td>\n",
              "      <td>ObservaÃ§Ã£o</td>\n",
              "      <td>ResponsÃ¡vel</td>\n",
              "    </tr>\n",
              "    <tr>\n",
              "      <th>1</th>\n",
              "      <td>277910</td>\n",
              "      <td>10</td>\n",
              "      <td>Qualidade do Atendimento e Pos Vendas</td>\n",
              "      <td>Matheus Alves Bandeira</td>\n",
              "    </tr>\n",
              "    <tr>\n",
              "      <th>2</th>\n",
              "      <td>277969</td>\n",
              "      <td>10</td>\n",
              "      <td>Fui bem atendida e o Murilo tentou de todas as...</td>\n",
              "      <td>Murillo de Souza Rodrigues</td>\n",
              "    </tr>\n",
              "    <tr>\n",
              "      <th>3</th>\n",
              "      <td>277954</td>\n",
              "      <td>10</td>\n",
              "      <td>otimo atendimento sem problemas e agilidade</td>\n",
              "      <td>Thailene Terra</td>\n",
              "    </tr>\n",
              "    <tr>\n",
              "      <th>4</th>\n",
              "      <td>278018</td>\n",
              "      <td>10</td>\n",
              "      <td>Fui prontamente atendido e o que precisava foi...</td>\n",
              "      <td>Matheus Alves Bandeira</td>\n",
              "    </tr>\n",
              "    <tr>\n",
              "      <th>...</th>\n",
              "      <td>...</td>\n",
              "      <td>...</td>\n",
              "      <td>...</td>\n",
              "      <td>...</td>\n",
              "    </tr>\n",
              "    <tr>\n",
              "      <th>1193</th>\n",
              "      <td>285787</td>\n",
              "      <td>10</td>\n",
              "      <td>NaN</td>\n",
              "      <td>Lucas do Carmo Ferreira</td>\n",
              "    </tr>\n",
              "    <tr>\n",
              "      <th>1194</th>\n",
              "      <td>287058</td>\n",
              "      <td>10</td>\n",
              "      <td>NaN</td>\n",
              "      <td>Mattheus Faleiro</td>\n",
              "    </tr>\n",
              "    <tr>\n",
              "      <th>1195</th>\n",
              "      <td>278482</td>\n",
              "      <td>10</td>\n",
              "      <td>NaN</td>\n",
              "      <td>Leonardo Ferreira Rodrigues</td>\n",
              "    </tr>\n",
              "    <tr>\n",
              "      <th>1196</th>\n",
              "      <td>287914</td>\n",
              "      <td>10</td>\n",
              "      <td>NaN</td>\n",
              "      <td>Mattheus Faleiro</td>\n",
              "    </tr>\n",
              "    <tr>\n",
              "      <th>1197</th>\n",
              "      <td>283045</td>\n",
              "      <td>8</td>\n",
              "      <td>NaN</td>\n",
              "      <td>Marcelo Santos Souto</td>\n",
              "    </tr>\n",
              "  </tbody>\n",
              "</table>\n",
              "<p>1198 rows × 4 columns</p>\n",
              "</div>\n",
              "      <button class=\"colab-df-convert\" onclick=\"convertToInteractive('df-1bfab3bf-1620-40cd-9f2a-404c92fd592f')\"\n",
              "              title=\"Convert this dataframe to an interactive table.\"\n",
              "              style=\"display:none;\">\n",
              "        \n",
              "  <svg xmlns=\"http://www.w3.org/2000/svg\" height=\"24px\"viewBox=\"0 0 24 24\"\n",
              "       width=\"24px\">\n",
              "    <path d=\"M0 0h24v24H0V0z\" fill=\"none\"/>\n",
              "    <path d=\"M18.56 5.44l.94 2.06.94-2.06 2.06-.94-2.06-.94-.94-2.06-.94 2.06-2.06.94zm-11 1L8.5 8.5l.94-2.06 2.06-.94-2.06-.94L8.5 2.5l-.94 2.06-2.06.94zm10 10l.94 2.06.94-2.06 2.06-.94-2.06-.94-.94-2.06-.94 2.06-2.06.94z\"/><path d=\"M17.41 7.96l-1.37-1.37c-.4-.4-.92-.59-1.43-.59-.52 0-1.04.2-1.43.59L10.3 9.45l-7.72 7.72c-.78.78-.78 2.05 0 2.83L4 21.41c.39.39.9.59 1.41.59.51 0 1.02-.2 1.41-.59l7.78-7.78 2.81-2.81c.8-.78.8-2.07 0-2.86zM5.41 20L4 18.59l7.72-7.72 1.47 1.35L5.41 20z\"/>\n",
              "  </svg>\n",
              "      </button>\n",
              "      \n",
              "  <style>\n",
              "    .colab-df-container {\n",
              "      display:flex;\n",
              "      flex-wrap:wrap;\n",
              "      gap: 12px;\n",
              "    }\n",
              "\n",
              "    .colab-df-convert {\n",
              "      background-color: #E8F0FE;\n",
              "      border: none;\n",
              "      border-radius: 50%;\n",
              "      cursor: pointer;\n",
              "      display: none;\n",
              "      fill: #1967D2;\n",
              "      height: 32px;\n",
              "      padding: 0 0 0 0;\n",
              "      width: 32px;\n",
              "    }\n",
              "\n",
              "    .colab-df-convert:hover {\n",
              "      background-color: #E2EBFA;\n",
              "      box-shadow: 0px 1px 2px rgba(60, 64, 67, 0.3), 0px 1px 3px 1px rgba(60, 64, 67, 0.15);\n",
              "      fill: #174EA6;\n",
              "    }\n",
              "\n",
              "    [theme=dark] .colab-df-convert {\n",
              "      background-color: #3B4455;\n",
              "      fill: #D2E3FC;\n",
              "    }\n",
              "\n",
              "    [theme=dark] .colab-df-convert:hover {\n",
              "      background-color: #434B5C;\n",
              "      box-shadow: 0px 1px 3px 1px rgba(0, 0, 0, 0.15);\n",
              "      filter: drop-shadow(0px 1px 2px rgba(0, 0, 0, 0.3));\n",
              "      fill: #FFFFFF;\n",
              "    }\n",
              "  </style>\n",
              "\n",
              "      <script>\n",
              "        const buttonEl =\n",
              "          document.querySelector('#df-1bfab3bf-1620-40cd-9f2a-404c92fd592f button.colab-df-convert');\n",
              "        buttonEl.style.display =\n",
              "          google.colab.kernel.accessAllowed ? 'block' : 'none';\n",
              "\n",
              "        async function convertToInteractive(key) {\n",
              "          const element = document.querySelector('#df-1bfab3bf-1620-40cd-9f2a-404c92fd592f');\n",
              "          const dataTable =\n",
              "            await google.colab.kernel.invokeFunction('convertToInteractive',\n",
              "                                                     [key], {});\n",
              "          if (!dataTable) return;\n",
              "\n",
              "          const docLinkHtml = 'Like what you see? Visit the ' +\n",
              "            '<a target=\"_blank\" href=https://colab.research.google.com/notebooks/data_table.ipynb>data table notebook</a>'\n",
              "            + ' to learn more about interactive tables.';\n",
              "          element.innerHTML = '';\n",
              "          dataTable['output_type'] = 'display_data';\n",
              "          await google.colab.output.renderOutput(dataTable, element);\n",
              "          const docLink = document.createElement('div');\n",
              "          docLink.innerHTML = docLinkHtml;\n",
              "          element.appendChild(docLink);\n",
              "        }\n",
              "      </script>\n",
              "    </div>\n",
              "  </div>\n",
              "  "
            ],
            "text/plain": [
              "                 0  ...                            3\n",
              "0     RequisiÃ§Ã£o  ...                 ResponsÃ¡vel\n",
              "1           277910  ...       Matheus Alves Bandeira\n",
              "2           277969  ...   Murillo de Souza Rodrigues\n",
              "3           277954  ...               Thailene Terra\n",
              "4           278018  ...       Matheus Alves Bandeira\n",
              "...            ...  ...                          ...\n",
              "1193        285787  ...      Lucas do Carmo Ferreira\n",
              "1194        287058  ...             Mattheus Faleiro\n",
              "1195        278482  ...  Leonardo Ferreira Rodrigues\n",
              "1196        287914  ...             Mattheus Faleiro\n",
              "1197        283045  ...         Marcelo Santos Souto\n",
              "\n",
              "[1198 rows x 4 columns]"
            ]
          },
          "metadata": {},
          "execution_count": 18
        }
      ],
      "source": [
        "df[0]"
      ]
    },
    {
      "cell_type": "code",
      "execution_count": null,
      "metadata": {
        "id": "lHtz6pt1r32Q"
      },
      "outputs": [],
      "source": [
        "if isPathLocal:\n",
        "    path_root = 'D:\\\\2. Ciência de Dados\\\\1. Trabalho de Conclusão\\\\Dados\\\\NPS - Suporte\\\\NPS - Suporte - HTML\\\\'\n",
        "else:\n",
        "    path_root = '/content/drive/MyDrive/1. Pós Ciência de Dados/1. Trabalho de Conclusão/Testes/Extrair Dados/Dados/NPS - Suporte/NPS - Suporte - HTML/'"
      ]
    },
    {
      "cell_type": "code",
      "execution_count": null,
      "metadata": {
        "id": "bAHl7MrFnDUU"
      },
      "outputs": [],
      "source": [
        "# Obtem os arquivos na pasta\n",
        "if isPathLocal:\n",
        "    files = os.listdir('D:\\\\2. Ciência de Dados\\\\1. Trabalho de Conclusão\\\\Dados\\\\NPS - Suporte\\\\NPS - Suporte - HTML\\\\')\n",
        "else:\n",
        "    files = os.listdir(\"./drive/MyDrive/1. Pós Ciência de Dados/1. Trabalho de Conclusão/Testes/Extrair Dados/Dados/NPS - Suporte/NPS - Suporte - HTML/\")"
      ]
    },
    {
      "cell_type": "code",
      "execution_count": null,
      "metadata": {
        "id": "MkdTdm8YrqRR"
      },
      "outputs": [],
      "source": [
        "# https://www.kite.com/python/answers/how-to-save-a-pandas-dataframe-in-python"
      ]
    },
    {
      "cell_type": "code",
      "execution_count": null,
      "metadata": {
        "id": "SDKeQQfUm3D-"
      },
      "outputs": [],
      "source": [
        "list_dfs = []\n",
        "\n",
        "for file in files:\n",
        "  path_full = path_root + file\n",
        "  df = pd.DataFrame(pd.read_html(path_full)[0])\n",
        "  month = file.split(' - ')[2].replace('.html', '')\n",
        "  # print(month)\n",
        "  # print(type(df))\n",
        "  #print(df.shape)\n",
        "\n",
        "  df['Mês'] = pd.Series([month for x in range(df.shape[0])])\n",
        "\n",
        "  #print(df.shape)\n",
        "  #print(df[0:-1])\n",
        "\n",
        "  # DROPA a primeira linha, que contem => Requisição\tNota\tObservação Responsável\n",
        "  df.drop(df.index[[0]], inplace=True)\n",
        "\n",
        "  list_dfs.append(df)\n",
        "\n",
        "  #break  "
      ]
    },
    {
      "cell_type": "code",
      "execution_count": null,
      "metadata": {
        "id": "0oAHQB1Ixve7"
      },
      "outputs": [],
      "source": [
        "# Junta todos os dataframes\n",
        "df_full = pd.concat(list_dfs)"
      ]
    },
    {
      "cell_type": "code",
      "execution_count": null,
      "metadata": {
        "colab": {
          "base_uri": "https://localhost:8080/"
        },
        "id": "bj4mhbMFw2Ey",
        "outputId": "428d5fba-4723-4b09-f41d-e3cd68253c14"
      },
      "outputs": [
        {
          "output_type": "execute_result",
          "data": {
            "text/plain": [
              "(15970, 5)"
            ]
          },
          "metadata": {},
          "execution_count": 24
        }
      ],
      "source": [
        "df_full.shape"
      ]
    },
    {
      "cell_type": "code",
      "execution_count": null,
      "metadata": {
        "id": "kDYyGob30_fp"
      },
      "outputs": [],
      "source": [
        "# Renomear as colunas\n",
        "df_full.columns = ['Requisição', 'Nota', 'Comentário', 'Responsável', 'Mês']"
      ]
    },
    {
      "cell_type": "code",
      "execution_count": null,
      "metadata": {
        "colab": {
          "base_uri": "https://localhost:8080/",
          "height": 424
        },
        "id": "GIvdgiVhx-i5",
        "outputId": "046d957a-d60e-48c8-dad3-6abb07a971bc"
      },
      "outputs": [
        {
          "output_type": "execute_result",
          "data": {
            "text/html": [
              "\n",
              "  <div id=\"df-89cd046a-6b09-4389-a2da-151d87a7fda8\">\n",
              "    <div class=\"colab-df-container\">\n",
              "      <div>\n",
              "<style scoped>\n",
              "    .dataframe tbody tr th:only-of-type {\n",
              "        vertical-align: middle;\n",
              "    }\n",
              "\n",
              "    .dataframe tbody tr th {\n",
              "        vertical-align: top;\n",
              "    }\n",
              "\n",
              "    .dataframe thead th {\n",
              "        text-align: right;\n",
              "    }\n",
              "</style>\n",
              "<table border=\"1\" class=\"dataframe\">\n",
              "  <thead>\n",
              "    <tr style=\"text-align: right;\">\n",
              "      <th></th>\n",
              "      <th>Requisição</th>\n",
              "      <th>Nota</th>\n",
              "      <th>Comentário</th>\n",
              "      <th>Responsável</th>\n",
              "      <th>Mês</th>\n",
              "    </tr>\n",
              "  </thead>\n",
              "  <tbody>\n",
              "    <tr>\n",
              "      <th>1</th>\n",
              "      <td>435362</td>\n",
              "      <td>10</td>\n",
              "      <td>NaN</td>\n",
              "      <td>Luis Henrique de Oliveira</td>\n",
              "      <td>NOVEMBRO</td>\n",
              "    </tr>\n",
              "    <tr>\n",
              "      <th>2</th>\n",
              "      <td>439607</td>\n",
              "      <td>10</td>\n",
              "      <td>NaN</td>\n",
              "      <td>Cesar Missio Nunes</td>\n",
              "      <td>NOVEMBRO</td>\n",
              "    </tr>\n",
              "    <tr>\n",
              "      <th>3</th>\n",
              "      <td>428223</td>\n",
              "      <td>10</td>\n",
              "      <td>NaN</td>\n",
              "      <td>JoÃ£o Pedro Medeiros</td>\n",
              "      <td>NOVEMBRO</td>\n",
              "    </tr>\n",
              "    <tr>\n",
              "      <th>4</th>\n",
              "      <td>439630</td>\n",
              "      <td>10</td>\n",
              "      <td>NaN</td>\n",
              "      <td>Luis Henrique de Oliveira</td>\n",
              "      <td>NOVEMBRO</td>\n",
              "    </tr>\n",
              "    <tr>\n",
              "      <th>5</th>\n",
              "      <td>430994</td>\n",
              "      <td>10</td>\n",
              "      <td>NaN</td>\n",
              "      <td>Leonardo Lauermann dos Santos</td>\n",
              "      <td>NOVEMBRO</td>\n",
              "    </tr>\n",
              "    <tr>\n",
              "      <th>...</th>\n",
              "      <td>...</td>\n",
              "      <td>...</td>\n",
              "      <td>...</td>\n",
              "      <td>...</td>\n",
              "      <td>...</td>\n",
              "    </tr>\n",
              "    <tr>\n",
              "      <th>1409</th>\n",
              "      <td>419518</td>\n",
              "      <td>9</td>\n",
              "      <td>NaN</td>\n",
              "      <td>Howard Furtado Antunes</td>\n",
              "      <td>OUTUBRO</td>\n",
              "    </tr>\n",
              "    <tr>\n",
              "      <th>1410</th>\n",
              "      <td>415041</td>\n",
              "      <td>9</td>\n",
              "      <td>NaN</td>\n",
              "      <td>Guilherme Verruck da Silva</td>\n",
              "      <td>OUTUBRO</td>\n",
              "    </tr>\n",
              "    <tr>\n",
              "      <th>1411</th>\n",
              "      <td>417205</td>\n",
              "      <td>10</td>\n",
              "      <td>NaN</td>\n",
              "      <td>Howard Furtado Antunes</td>\n",
              "      <td>OUTUBRO</td>\n",
              "    </tr>\n",
              "    <tr>\n",
              "      <th>1412</th>\n",
              "      <td>414649</td>\n",
              "      <td>9</td>\n",
              "      <td>NaN</td>\n",
              "      <td>Luis Henrique de Oliveira</td>\n",
              "      <td>OUTUBRO</td>\n",
              "    </tr>\n",
              "    <tr>\n",
              "      <th>1413</th>\n",
              "      <td>422913</td>\n",
              "      <td>10</td>\n",
              "      <td>NaN</td>\n",
              "      <td>Howard Furtado Antunes</td>\n",
              "      <td>OUTUBRO</td>\n",
              "    </tr>\n",
              "  </tbody>\n",
              "</table>\n",
              "<p>15970 rows × 5 columns</p>\n",
              "</div>\n",
              "      <button class=\"colab-df-convert\" onclick=\"convertToInteractive('df-89cd046a-6b09-4389-a2da-151d87a7fda8')\"\n",
              "              title=\"Convert this dataframe to an interactive table.\"\n",
              "              style=\"display:none;\">\n",
              "        \n",
              "  <svg xmlns=\"http://www.w3.org/2000/svg\" height=\"24px\"viewBox=\"0 0 24 24\"\n",
              "       width=\"24px\">\n",
              "    <path d=\"M0 0h24v24H0V0z\" fill=\"none\"/>\n",
              "    <path d=\"M18.56 5.44l.94 2.06.94-2.06 2.06-.94-2.06-.94-.94-2.06-.94 2.06-2.06.94zm-11 1L8.5 8.5l.94-2.06 2.06-.94-2.06-.94L8.5 2.5l-.94 2.06-2.06.94zm10 10l.94 2.06.94-2.06 2.06-.94-2.06-.94-.94-2.06-.94 2.06-2.06.94z\"/><path d=\"M17.41 7.96l-1.37-1.37c-.4-.4-.92-.59-1.43-.59-.52 0-1.04.2-1.43.59L10.3 9.45l-7.72 7.72c-.78.78-.78 2.05 0 2.83L4 21.41c.39.39.9.59 1.41.59.51 0 1.02-.2 1.41-.59l7.78-7.78 2.81-2.81c.8-.78.8-2.07 0-2.86zM5.41 20L4 18.59l7.72-7.72 1.47 1.35L5.41 20z\"/>\n",
              "  </svg>\n",
              "      </button>\n",
              "      \n",
              "  <style>\n",
              "    .colab-df-container {\n",
              "      display:flex;\n",
              "      flex-wrap:wrap;\n",
              "      gap: 12px;\n",
              "    }\n",
              "\n",
              "    .colab-df-convert {\n",
              "      background-color: #E8F0FE;\n",
              "      border: none;\n",
              "      border-radius: 50%;\n",
              "      cursor: pointer;\n",
              "      display: none;\n",
              "      fill: #1967D2;\n",
              "      height: 32px;\n",
              "      padding: 0 0 0 0;\n",
              "      width: 32px;\n",
              "    }\n",
              "\n",
              "    .colab-df-convert:hover {\n",
              "      background-color: #E2EBFA;\n",
              "      box-shadow: 0px 1px 2px rgba(60, 64, 67, 0.3), 0px 1px 3px 1px rgba(60, 64, 67, 0.15);\n",
              "      fill: #174EA6;\n",
              "    }\n",
              "\n",
              "    [theme=dark] .colab-df-convert {\n",
              "      background-color: #3B4455;\n",
              "      fill: #D2E3FC;\n",
              "    }\n",
              "\n",
              "    [theme=dark] .colab-df-convert:hover {\n",
              "      background-color: #434B5C;\n",
              "      box-shadow: 0px 1px 3px 1px rgba(0, 0, 0, 0.15);\n",
              "      filter: drop-shadow(0px 1px 2px rgba(0, 0, 0, 0.3));\n",
              "      fill: #FFFFFF;\n",
              "    }\n",
              "  </style>\n",
              "\n",
              "      <script>\n",
              "        const buttonEl =\n",
              "          document.querySelector('#df-89cd046a-6b09-4389-a2da-151d87a7fda8 button.colab-df-convert');\n",
              "        buttonEl.style.display =\n",
              "          google.colab.kernel.accessAllowed ? 'block' : 'none';\n",
              "\n",
              "        async function convertToInteractive(key) {\n",
              "          const element = document.querySelector('#df-89cd046a-6b09-4389-a2da-151d87a7fda8');\n",
              "          const dataTable =\n",
              "            await google.colab.kernel.invokeFunction('convertToInteractive',\n",
              "                                                     [key], {});\n",
              "          if (!dataTable) return;\n",
              "\n",
              "          const docLinkHtml = 'Like what you see? Visit the ' +\n",
              "            '<a target=\"_blank\" href=https://colab.research.google.com/notebooks/data_table.ipynb>data table notebook</a>'\n",
              "            + ' to learn more about interactive tables.';\n",
              "          element.innerHTML = '';\n",
              "          dataTable['output_type'] = 'display_data';\n",
              "          await google.colab.output.renderOutput(dataTable, element);\n",
              "          const docLink = document.createElement('div');\n",
              "          docLink.innerHTML = docLinkHtml;\n",
              "          element.appendChild(docLink);\n",
              "        }\n",
              "      </script>\n",
              "    </div>\n",
              "  </div>\n",
              "  "
            ],
            "text/plain": [
              "     Requisição Nota Comentário                    Responsável       Mês\n",
              "1        435362   10        NaN      Luis Henrique de Oliveira  NOVEMBRO\n",
              "2        439607   10        NaN             Cesar Missio Nunes  NOVEMBRO\n",
              "3        428223   10        NaN           JoÃ£o Pedro Medeiros  NOVEMBRO\n",
              "4        439630   10        NaN      Luis Henrique de Oliveira  NOVEMBRO\n",
              "5        430994   10        NaN  Leonardo Lauermann dos Santos  NOVEMBRO\n",
              "...         ...  ...        ...                            ...       ...\n",
              "1409     419518    9        NaN         Howard Furtado Antunes   OUTUBRO\n",
              "1410     415041    9        NaN     Guilherme Verruck da Silva   OUTUBRO\n",
              "1411     417205   10        NaN         Howard Furtado Antunes   OUTUBRO\n",
              "1412     414649    9        NaN      Luis Henrique de Oliveira   OUTUBRO\n",
              "1413     422913   10        NaN         Howard Furtado Antunes   OUTUBRO\n",
              "\n",
              "[15970 rows x 5 columns]"
            ]
          },
          "metadata": {},
          "execution_count": 26
        }
      ],
      "source": [
        "df_full"
      ]
    },
    {
      "cell_type": "code",
      "execution_count": null,
      "metadata": {
        "colab": {
          "base_uri": "https://localhost:8080/"
        },
        "id": "Z7fjHx5cQCSV",
        "outputId": "0f99c6d3-fe72-4b81-dd0b-979b96c037ed"
      },
      "outputs": [
        {
          "output_type": "execute_result",
          "data": {
            "text/plain": [
              "1       NaN\n",
              "2       NaN\n",
              "3       NaN\n",
              "4       NaN\n",
              "5       NaN\n",
              "       ... \n",
              "1409    NaN\n",
              "1410    NaN\n",
              "1411    NaN\n",
              "1412    NaN\n",
              "1413    NaN\n",
              "Name: Comentário, Length: 15970, dtype: object"
            ]
          },
          "metadata": {},
          "execution_count": 27
        }
      ],
      "source": [
        "df_full['Comentário']"
      ]
    },
    {
      "cell_type": "code",
      "execution_count": null,
      "metadata": {
        "colab": {
          "base_uri": "https://localhost:8080/"
        },
        "id": "RbGj8TBvyDHM",
        "outputId": "6d3af802-44a3-45e4-dc45-20fe4124d3e8"
      },
      "outputs": [
        {
          "output_type": "execute_result",
          "data": {
            "text/plain": [
              "(7521, 5)"
            ]
          },
          "metadata": {},
          "execution_count": 28
        }
      ],
      "source": [
        "# Total de Observções validas\n",
        "df_full[df_full['Comentário'].notnull()].shape"
      ]
    },
    {
      "cell_type": "markdown",
      "metadata": {
        "id": "RYxBcQ5JADm2"
      },
      "source": [
        "## Dados - Origem arquivos EXCEL/xlsx'"
      ]
    },
    {
      "cell_type": "code",
      "execution_count": null,
      "metadata": {
        "id": "980uLaceI2G9"
      },
      "outputs": [],
      "source": [
        "import pandas as pd"
      ]
    },
    {
      "cell_type": "code",
      "execution_count": null,
      "metadata": {
        "id": "OSD7iOK_I2J-"
      },
      "outputs": [],
      "source": [
        "if isPathLocal:\n",
        "    path_excel = 'D:\\\\2. Ciência de Dados\\\\1. Trabalho de Conclusão\\\\Dados\\\\Excel\\\\Financeiro NPS.xlsx'\n",
        "else:\n",
        "    path_excel = '/content/drive/MyDrive/1. Pós Ciência de Dados/1. Trabalho de Conclusão/Testes/Extrair Dados/Dados/Excel/Financeiro NPS.xlsx'"
      ]
    },
    {
      "cell_type": "code",
      "execution_count": null,
      "metadata": {
        "id": "_IwGmhC4I2Ml"
      },
      "outputs": [],
      "source": [
        "sheet_page = 0\n",
        "df_excel = pd.read_excel(path_excel, sheet_name=sheet_page)"
      ]
    },
    {
      "cell_type": "code",
      "execution_count": null,
      "metadata": {
        "colab": {
          "base_uri": "https://localhost:8080/",
          "height": 1000
        },
        "id": "5tCXYh8fJWAK",
        "outputId": "db4c4215-060d-4283-c44e-599dfa2f53bb"
      },
      "outputs": [
        {
          "output_type": "execute_result",
          "data": {
            "text/html": [
              "\n",
              "  <div id=\"df-cdbc4a27-b04f-4110-a485-e75933c63ac4\">\n",
              "    <div class=\"colab-df-container\">\n",
              "      <div>\n",
              "<style scoped>\n",
              "    .dataframe tbody tr th:only-of-type {\n",
              "        vertical-align: middle;\n",
              "    }\n",
              "\n",
              "    .dataframe tbody tr th {\n",
              "        vertical-align: top;\n",
              "    }\n",
              "\n",
              "    .dataframe thead th {\n",
              "        text-align: right;\n",
              "    }\n",
              "</style>\n",
              "<table border=\"1\" class=\"dataframe\">\n",
              "  <thead>\n",
              "    <tr style=\"text-align: right;\">\n",
              "      <th></th>\n",
              "      <th>25/11/2021\\nAtendimento Online</th>\n",
              "      <th>Unnamed: 1</th>\n",
              "      <th>Unnamed: 2</th>\n",
              "      <th>Unnamed: 3</th>\n",
              "      <th>Unnamed: 4</th>\n",
              "      <th>Unnamed: 5</th>\n",
              "      <th>Unnamed: 6</th>\n",
              "      <th>Unnamed: 7</th>\n",
              "      <th>Unnamed: 8</th>\n",
              "      <th>Unnamed: 9</th>\n",
              "    </tr>\n",
              "  </thead>\n",
              "  <tbody>\n",
              "    <tr>\n",
              "      <th>0</th>\n",
              "      <td>Customizado - Avaliação NPS</td>\n",
              "      <td>NaN</td>\n",
              "      <td>NaN</td>\n",
              "      <td>NaN</td>\n",
              "      <td>NaN</td>\n",
              "      <td>NaN</td>\n",
              "      <td>NaN</td>\n",
              "      <td>NaN</td>\n",
              "      <td>NaN</td>\n",
              "      <td>NaN</td>\n",
              "    </tr>\n",
              "    <tr>\n",
              "      <th>1</th>\n",
              "      <td>Operador: Paulo Di Martino</td>\n",
              "      <td>NaN</td>\n",
              "      <td>NaN</td>\n",
              "      <td>NaN</td>\n",
              "      <td>NaN</td>\n",
              "      <td>NaN</td>\n",
              "      <td>NaN</td>\n",
              "      <td>NaN</td>\n",
              "      <td>NaN</td>\n",
              "      <td>NaN</td>\n",
              "    </tr>\n",
              "    <tr>\n",
              "      <th>2</th>\n",
              "      <td>CLASSIFICAÇÃO DOS CLIENTES</td>\n",
              "      <td>NaN</td>\n",
              "      <td>NOTAS</td>\n",
              "      <td>NaN</td>\n",
              "      <td>Nº DE RESPOSTAS</td>\n",
              "      <td>% DE RESPOSTAS</td>\n",
              "      <td>RESULTADOS</td>\n",
              "      <td>NPS</td>\n",
              "      <td>ZONA DE CLASSIFICAÇÃO</td>\n",
              "      <td>NaN</td>\n",
              "    </tr>\n",
              "    <tr>\n",
              "      <th>3</th>\n",
              "      <td>PROMOTORES</td>\n",
              "      <td>NaN</td>\n",
              "      <td>10</td>\n",
              "      <td>NaN</td>\n",
              "      <td>1</td>\n",
              "      <td>1</td>\n",
              "      <td>1</td>\n",
              "      <td>1</td>\n",
              "      <td>Zona de Excelência</td>\n",
              "      <td>NaN</td>\n",
              "    </tr>\n",
              "    <tr>\n",
              "      <th>4</th>\n",
              "      <td>NaN</td>\n",
              "      <td>NaN</td>\n",
              "      <td>9</td>\n",
              "      <td>NaN</td>\n",
              "      <td>0</td>\n",
              "      <td>0</td>\n",
              "      <td>NaN</td>\n",
              "      <td>NaN</td>\n",
              "      <td>NaN</td>\n",
              "      <td>NaN</td>\n",
              "    </tr>\n",
              "    <tr>\n",
              "      <th>5</th>\n",
              "      <td>NEUTROS</td>\n",
              "      <td>NaN</td>\n",
              "      <td>8</td>\n",
              "      <td>NaN</td>\n",
              "      <td>0</td>\n",
              "      <td>0</td>\n",
              "      <td>0</td>\n",
              "      <td>NaN</td>\n",
              "      <td>NaN</td>\n",
              "      <td>NaN</td>\n",
              "    </tr>\n",
              "    <tr>\n",
              "      <th>6</th>\n",
              "      <td>NaN</td>\n",
              "      <td>NaN</td>\n",
              "      <td>7</td>\n",
              "      <td>NaN</td>\n",
              "      <td>0</td>\n",
              "      <td>0</td>\n",
              "      <td>NaN</td>\n",
              "      <td>NaN</td>\n",
              "      <td>NaN</td>\n",
              "      <td>NaN</td>\n",
              "    </tr>\n",
              "    <tr>\n",
              "      <th>7</th>\n",
              "      <td>DETRATORES</td>\n",
              "      <td>NaN</td>\n",
              "      <td>6</td>\n",
              "      <td>NaN</td>\n",
              "      <td>0</td>\n",
              "      <td>0</td>\n",
              "      <td>0</td>\n",
              "      <td>NaN</td>\n",
              "      <td>NaN</td>\n",
              "      <td>NaN</td>\n",
              "    </tr>\n",
              "    <tr>\n",
              "      <th>8</th>\n",
              "      <td>NaN</td>\n",
              "      <td>NaN</td>\n",
              "      <td>5</td>\n",
              "      <td>NaN</td>\n",
              "      <td>0</td>\n",
              "      <td>0</td>\n",
              "      <td>NaN</td>\n",
              "      <td>NaN</td>\n",
              "      <td>NaN</td>\n",
              "      <td>NaN</td>\n",
              "    </tr>\n",
              "    <tr>\n",
              "      <th>9</th>\n",
              "      <td>NaN</td>\n",
              "      <td>NaN</td>\n",
              "      <td>4</td>\n",
              "      <td>NaN</td>\n",
              "      <td>0</td>\n",
              "      <td>0</td>\n",
              "      <td>NaN</td>\n",
              "      <td>NaN</td>\n",
              "      <td>NaN</td>\n",
              "      <td>NaN</td>\n",
              "    </tr>\n",
              "    <tr>\n",
              "      <th>10</th>\n",
              "      <td>NaN</td>\n",
              "      <td>NaN</td>\n",
              "      <td>3</td>\n",
              "      <td>NaN</td>\n",
              "      <td>0</td>\n",
              "      <td>0</td>\n",
              "      <td>NaN</td>\n",
              "      <td>NaN</td>\n",
              "      <td>NaN</td>\n",
              "      <td>NaN</td>\n",
              "    </tr>\n",
              "    <tr>\n",
              "      <th>11</th>\n",
              "      <td>NaN</td>\n",
              "      <td>NaN</td>\n",
              "      <td>2</td>\n",
              "      <td>NaN</td>\n",
              "      <td>0</td>\n",
              "      <td>0</td>\n",
              "      <td>NaN</td>\n",
              "      <td>NaN</td>\n",
              "      <td>NaN</td>\n",
              "      <td>NaN</td>\n",
              "    </tr>\n",
              "    <tr>\n",
              "      <th>12</th>\n",
              "      <td>NaN</td>\n",
              "      <td>NaN</td>\n",
              "      <td>1</td>\n",
              "      <td>NaN</td>\n",
              "      <td>0</td>\n",
              "      <td>0</td>\n",
              "      <td>NaN</td>\n",
              "      <td>NaN</td>\n",
              "      <td>NaN</td>\n",
              "      <td>NaN</td>\n",
              "    </tr>\n",
              "    <tr>\n",
              "      <th>13</th>\n",
              "      <td>NaN</td>\n",
              "      <td>NaN</td>\n",
              "      <td>0</td>\n",
              "      <td>NaN</td>\n",
              "      <td>0</td>\n",
              "      <td>0</td>\n",
              "      <td>NaN</td>\n",
              "      <td>NaN</td>\n",
              "      <td>NaN</td>\n",
              "      <td>NaN</td>\n",
              "    </tr>\n",
              "    <tr>\n",
              "      <th>14</th>\n",
              "      <td>Nº DE RESPOSTAS</td>\n",
              "      <td>NaN</td>\n",
              "      <td>NaN</td>\n",
              "      <td>NaN</td>\n",
              "      <td>1</td>\n",
              "      <td>NaN</td>\n",
              "      <td>NaN</td>\n",
              "      <td>NaN</td>\n",
              "      <td>NaN</td>\n",
              "      <td>NaN</td>\n",
              "    </tr>\n",
              "    <tr>\n",
              "      <th>15</th>\n",
              "      <td>NaN</td>\n",
              "      <td>NaN</td>\n",
              "      <td>NaN</td>\n",
              "      <td>NaN</td>\n",
              "      <td>NaN</td>\n",
              "      <td>NaN</td>\n",
              "      <td>NaN</td>\n",
              "      <td>NaN</td>\n",
              "      <td>NaN</td>\n",
              "      <td>NaN</td>\n",
              "    </tr>\n",
              "    <tr>\n",
              "      <th>16</th>\n",
              "      <td>Protocolo</td>\n",
              "      <td>Nota</td>\n",
              "      <td>NaN</td>\n",
              "      <td>Comentário</td>\n",
              "      <td>NaN</td>\n",
              "      <td>NaN</td>\n",
              "      <td>NaN</td>\n",
              "      <td>NaN</td>\n",
              "      <td>NaN</td>\n",
              "      <td>NaN</td>\n",
              "    </tr>\n",
              "    <tr>\n",
              "      <th>17</th>\n",
              "      <td>1619458199743_407</td>\n",
              "      <td>10</td>\n",
              "      <td>NaN</td>\n",
              "      <td>NaN</td>\n",
              "      <td>NaN</td>\n",
              "      <td>NaN</td>\n",
              "      <td>NaN</td>\n",
              "      <td>NaN</td>\n",
              "      <td>NaN</td>\n",
              "      <td>NaN</td>\n",
              "    </tr>\n",
              "    <tr>\n",
              "      <th>18</th>\n",
              "      <td>Operador: Bruna Hoffmann</td>\n",
              "      <td>NaN</td>\n",
              "      <td>NaN</td>\n",
              "      <td>NaN</td>\n",
              "      <td>NaN</td>\n",
              "      <td>NaN</td>\n",
              "      <td>NaN</td>\n",
              "      <td>NaN</td>\n",
              "      <td>NaN</td>\n",
              "      <td>NaN</td>\n",
              "    </tr>\n",
              "    <tr>\n",
              "      <th>19</th>\n",
              "      <td>CLASSIFICAÇÃO DOS CLIENTES</td>\n",
              "      <td>NaN</td>\n",
              "      <td>NOTAS</td>\n",
              "      <td>NaN</td>\n",
              "      <td>Nº DE RESPOSTAS</td>\n",
              "      <td>% DE RESPOSTAS</td>\n",
              "      <td>RESULTADOS</td>\n",
              "      <td>NPS</td>\n",
              "      <td>ZONA DE CLASSIFICAÇÃO</td>\n",
              "      <td>NaN</td>\n",
              "    </tr>\n",
              "    <tr>\n",
              "      <th>20</th>\n",
              "      <td>PROMOTORES</td>\n",
              "      <td>NaN</td>\n",
              "      <td>10</td>\n",
              "      <td>NaN</td>\n",
              "      <td>210</td>\n",
              "      <td>0.7955</td>\n",
              "      <td>0.8409</td>\n",
              "      <td>0.7235</td>\n",
              "      <td>Zona de Qualidade</td>\n",
              "      <td>NaN</td>\n",
              "    </tr>\n",
              "    <tr>\n",
              "      <th>21</th>\n",
              "      <td>NaN</td>\n",
              "      <td>NaN</td>\n",
              "      <td>9</td>\n",
              "      <td>NaN</td>\n",
              "      <td>12</td>\n",
              "      <td>0.0455</td>\n",
              "      <td>NaN</td>\n",
              "      <td>NaN</td>\n",
              "      <td>NaN</td>\n",
              "      <td>NaN</td>\n",
              "    </tr>\n",
              "    <tr>\n",
              "      <th>22</th>\n",
              "      <td>NEUTROS</td>\n",
              "      <td>NaN</td>\n",
              "      <td>8</td>\n",
              "      <td>NaN</td>\n",
              "      <td>10</td>\n",
              "      <td>0.0379</td>\n",
              "      <td>0.0417</td>\n",
              "      <td>NaN</td>\n",
              "      <td>NaN</td>\n",
              "      <td>NaN</td>\n",
              "    </tr>\n",
              "    <tr>\n",
              "      <th>23</th>\n",
              "      <td>NaN</td>\n",
              "      <td>NaN</td>\n",
              "      <td>7</td>\n",
              "      <td>NaN</td>\n",
              "      <td>1</td>\n",
              "      <td>0.0038</td>\n",
              "      <td>NaN</td>\n",
              "      <td>NaN</td>\n",
              "      <td>NaN</td>\n",
              "      <td>NaN</td>\n",
              "    </tr>\n",
              "    <tr>\n",
              "      <th>24</th>\n",
              "      <td>DETRATORES</td>\n",
              "      <td>NaN</td>\n",
              "      <td>6</td>\n",
              "      <td>NaN</td>\n",
              "      <td>3</td>\n",
              "      <td>0.0114</td>\n",
              "      <td>0.1174</td>\n",
              "      <td>NaN</td>\n",
              "      <td>NaN</td>\n",
              "      <td>NaN</td>\n",
              "    </tr>\n",
              "    <tr>\n",
              "      <th>25</th>\n",
              "      <td>NaN</td>\n",
              "      <td>NaN</td>\n",
              "      <td>5</td>\n",
              "      <td>NaN</td>\n",
              "      <td>5</td>\n",
              "      <td>0.0189</td>\n",
              "      <td>NaN</td>\n",
              "      <td>NaN</td>\n",
              "      <td>NaN</td>\n",
              "      <td>NaN</td>\n",
              "    </tr>\n",
              "    <tr>\n",
              "      <th>26</th>\n",
              "      <td>NaN</td>\n",
              "      <td>NaN</td>\n",
              "      <td>4</td>\n",
              "      <td>NaN</td>\n",
              "      <td>1</td>\n",
              "      <td>0.0038</td>\n",
              "      <td>NaN</td>\n",
              "      <td>NaN</td>\n",
              "      <td>NaN</td>\n",
              "      <td>NaN</td>\n",
              "    </tr>\n",
              "    <tr>\n",
              "      <th>27</th>\n",
              "      <td>NaN</td>\n",
              "      <td>NaN</td>\n",
              "      <td>3</td>\n",
              "      <td>NaN</td>\n",
              "      <td>3</td>\n",
              "      <td>0.0114</td>\n",
              "      <td>NaN</td>\n",
              "      <td>NaN</td>\n",
              "      <td>NaN</td>\n",
              "      <td>NaN</td>\n",
              "    </tr>\n",
              "    <tr>\n",
              "      <th>28</th>\n",
              "      <td>NaN</td>\n",
              "      <td>NaN</td>\n",
              "      <td>2</td>\n",
              "      <td>NaN</td>\n",
              "      <td>0</td>\n",
              "      <td>0</td>\n",
              "      <td>NaN</td>\n",
              "      <td>NaN</td>\n",
              "      <td>NaN</td>\n",
              "      <td>NaN</td>\n",
              "    </tr>\n",
              "    <tr>\n",
              "      <th>29</th>\n",
              "      <td>NaN</td>\n",
              "      <td>NaN</td>\n",
              "      <td>1</td>\n",
              "      <td>NaN</td>\n",
              "      <td>1</td>\n",
              "      <td>0.0038</td>\n",
              "      <td>NaN</td>\n",
              "      <td>NaN</td>\n",
              "      <td>NaN</td>\n",
              "      <td>NaN</td>\n",
              "    </tr>\n",
              "    <tr>\n",
              "      <th>30</th>\n",
              "      <td>NaN</td>\n",
              "      <td>NaN</td>\n",
              "      <td>0</td>\n",
              "      <td>NaN</td>\n",
              "      <td>18</td>\n",
              "      <td>0.0682</td>\n",
              "      <td>NaN</td>\n",
              "      <td>NaN</td>\n",
              "      <td>NaN</td>\n",
              "      <td>NaN</td>\n",
              "    </tr>\n",
              "    <tr>\n",
              "      <th>31</th>\n",
              "      <td>Nº DE RESPOSTAS</td>\n",
              "      <td>NaN</td>\n",
              "      <td>NaN</td>\n",
              "      <td>NaN</td>\n",
              "      <td>264</td>\n",
              "      <td>NaN</td>\n",
              "      <td>NaN</td>\n",
              "      <td>NaN</td>\n",
              "      <td>NaN</td>\n",
              "      <td>NaN</td>\n",
              "    </tr>\n",
              "    <tr>\n",
              "      <th>32</th>\n",
              "      <td>NaN</td>\n",
              "      <td>NaN</td>\n",
              "      <td>NaN</td>\n",
              "      <td>NaN</td>\n",
              "      <td>NaN</td>\n",
              "      <td>NaN</td>\n",
              "      <td>NaN</td>\n",
              "      <td>NaN</td>\n",
              "      <td>NaN</td>\n",
              "      <td>NaN</td>\n",
              "    </tr>\n",
              "    <tr>\n",
              "      <th>33</th>\n",
              "      <td>Protocolo</td>\n",
              "      <td>Nota</td>\n",
              "      <td>NaN</td>\n",
              "      <td>Comentário</td>\n",
              "      <td>NaN</td>\n",
              "      <td>NaN</td>\n",
              "      <td>NaN</td>\n",
              "      <td>NaN</td>\n",
              "      <td>NaN</td>\n",
              "      <td>NaN</td>\n",
              "    </tr>\n",
              "    <tr>\n",
              "      <th>34</th>\n",
              "      <td>1618837769765_158</td>\n",
              "      <td>10</td>\n",
              "      <td>NaN</td>\n",
              "      <td>NaN</td>\n",
              "      <td>NaN</td>\n",
              "      <td>NaN</td>\n",
              "      <td>NaN</td>\n",
              "      <td>NaN</td>\n",
              "      <td>NaN</td>\n",
              "      <td>NaN</td>\n",
              "    </tr>\n",
              "    <tr>\n",
              "      <th>35</th>\n",
              "      <td>1618838033074_164</td>\n",
              "      <td>10</td>\n",
              "      <td>NaN</td>\n",
              "      <td>NaN</td>\n",
              "      <td>NaN</td>\n",
              "      <td>NaN</td>\n",
              "      <td>NaN</td>\n",
              "      <td>NaN</td>\n",
              "      <td>NaN</td>\n",
              "      <td>NaN</td>\n",
              "    </tr>\n",
              "    <tr>\n",
              "      <th>36</th>\n",
              "      <td>1618838514139_176</td>\n",
              "      <td>10</td>\n",
              "      <td>NaN</td>\n",
              "      <td>NaN</td>\n",
              "      <td>NaN</td>\n",
              "      <td>NaN</td>\n",
              "      <td>NaN</td>\n",
              "      <td>NaN</td>\n",
              "      <td>NaN</td>\n",
              "      <td>NaN</td>\n",
              "    </tr>\n",
              "    <tr>\n",
              "      <th>37</th>\n",
              "      <td>1618839764647_204</td>\n",
              "      <td>10</td>\n",
              "      <td>NaN</td>\n",
              "      <td>NaN</td>\n",
              "      <td>NaN</td>\n",
              "      <td>NaN</td>\n",
              "      <td>NaN</td>\n",
              "      <td>NaN</td>\n",
              "      <td>NaN</td>\n",
              "      <td>NaN</td>\n",
              "    </tr>\n",
              "    <tr>\n",
              "      <th>38</th>\n",
              "      <td>1618841829260_240</td>\n",
              "      <td>10</td>\n",
              "      <td>NaN</td>\n",
              "      <td>ótimo</td>\n",
              "      <td>NaN</td>\n",
              "      <td>NaN</td>\n",
              "      <td>NaN</td>\n",
              "      <td>NaN</td>\n",
              "      <td>NaN</td>\n",
              "      <td>NaN</td>\n",
              "    </tr>\n",
              "    <tr>\n",
              "      <th>39</th>\n",
              "      <td>1618854889507_467</td>\n",
              "      <td>10</td>\n",
              "      <td>NaN</td>\n",
              "      <td>NaN</td>\n",
              "      <td>NaN</td>\n",
              "      <td>NaN</td>\n",
              "      <td>NaN</td>\n",
              "      <td>NaN</td>\n",
              "      <td>NaN</td>\n",
              "      <td>NaN</td>\n",
              "    </tr>\n",
              "    <tr>\n",
              "      <th>40</th>\n",
              "      <td>1618856781072_514</td>\n",
              "      <td>10</td>\n",
              "      <td>NaN</td>\n",
              "      <td>NaN</td>\n",
              "      <td>NaN</td>\n",
              "      <td>NaN</td>\n",
              "      <td>NaN</td>\n",
              "      <td>NaN</td>\n",
              "      <td>NaN</td>\n",
              "      <td>NaN</td>\n",
              "    </tr>\n",
              "    <tr>\n",
              "      <th>41</th>\n",
              "      <td>1618857176464_524</td>\n",
              "      <td>10</td>\n",
              "      <td>NaN</td>\n",
              "      <td>NaN</td>\n",
              "      <td>NaN</td>\n",
              "      <td>NaN</td>\n",
              "      <td>NaN</td>\n",
              "      <td>NaN</td>\n",
              "      <td>NaN</td>\n",
              "      <td>NaN</td>\n",
              "    </tr>\n",
              "    <tr>\n",
              "      <th>42</th>\n",
              "      <td>1618859311869_575</td>\n",
              "      <td>10</td>\n",
              "      <td>NaN</td>\n",
              "      <td>Obrigada&lt;br&gt;</td>\n",
              "      <td>NaN</td>\n",
              "      <td>NaN</td>\n",
              "      <td>NaN</td>\n",
              "      <td>NaN</td>\n",
              "      <td>NaN</td>\n",
              "      <td>NaN</td>\n",
              "    </tr>\n",
              "    <tr>\n",
              "      <th>43</th>\n",
              "      <td>1618859660321_587</td>\n",
              "      <td>10</td>\n",
              "      <td>NaN</td>\n",
              "      <td>NaN</td>\n",
              "      <td>NaN</td>\n",
              "      <td>NaN</td>\n",
              "      <td>NaN</td>\n",
              "      <td>NaN</td>\n",
              "      <td>NaN</td>\n",
              "      <td>NaN</td>\n",
              "    </tr>\n",
              "  </tbody>\n",
              "</table>\n",
              "</div>\n",
              "      <button class=\"colab-df-convert\" onclick=\"convertToInteractive('df-cdbc4a27-b04f-4110-a485-e75933c63ac4')\"\n",
              "              title=\"Convert this dataframe to an interactive table.\"\n",
              "              style=\"display:none;\">\n",
              "        \n",
              "  <svg xmlns=\"http://www.w3.org/2000/svg\" height=\"24px\"viewBox=\"0 0 24 24\"\n",
              "       width=\"24px\">\n",
              "    <path d=\"M0 0h24v24H0V0z\" fill=\"none\"/>\n",
              "    <path d=\"M18.56 5.44l.94 2.06.94-2.06 2.06-.94-2.06-.94-.94-2.06-.94 2.06-2.06.94zm-11 1L8.5 8.5l.94-2.06 2.06-.94-2.06-.94L8.5 2.5l-.94 2.06-2.06.94zm10 10l.94 2.06.94-2.06 2.06-.94-2.06-.94-.94-2.06-.94 2.06-2.06.94z\"/><path d=\"M17.41 7.96l-1.37-1.37c-.4-.4-.92-.59-1.43-.59-.52 0-1.04.2-1.43.59L10.3 9.45l-7.72 7.72c-.78.78-.78 2.05 0 2.83L4 21.41c.39.39.9.59 1.41.59.51 0 1.02-.2 1.41-.59l7.78-7.78 2.81-2.81c.8-.78.8-2.07 0-2.86zM5.41 20L4 18.59l7.72-7.72 1.47 1.35L5.41 20z\"/>\n",
              "  </svg>\n",
              "      </button>\n",
              "      \n",
              "  <style>\n",
              "    .colab-df-container {\n",
              "      display:flex;\n",
              "      flex-wrap:wrap;\n",
              "      gap: 12px;\n",
              "    }\n",
              "\n",
              "    .colab-df-convert {\n",
              "      background-color: #E8F0FE;\n",
              "      border: none;\n",
              "      border-radius: 50%;\n",
              "      cursor: pointer;\n",
              "      display: none;\n",
              "      fill: #1967D2;\n",
              "      height: 32px;\n",
              "      padding: 0 0 0 0;\n",
              "      width: 32px;\n",
              "    }\n",
              "\n",
              "    .colab-df-convert:hover {\n",
              "      background-color: #E2EBFA;\n",
              "      box-shadow: 0px 1px 2px rgba(60, 64, 67, 0.3), 0px 1px 3px 1px rgba(60, 64, 67, 0.15);\n",
              "      fill: #174EA6;\n",
              "    }\n",
              "\n",
              "    [theme=dark] .colab-df-convert {\n",
              "      background-color: #3B4455;\n",
              "      fill: #D2E3FC;\n",
              "    }\n",
              "\n",
              "    [theme=dark] .colab-df-convert:hover {\n",
              "      background-color: #434B5C;\n",
              "      box-shadow: 0px 1px 3px 1px rgba(0, 0, 0, 0.15);\n",
              "      filter: drop-shadow(0px 1px 2px rgba(0, 0, 0, 0.3));\n",
              "      fill: #FFFFFF;\n",
              "    }\n",
              "  </style>\n",
              "\n",
              "      <script>\n",
              "        const buttonEl =\n",
              "          document.querySelector('#df-cdbc4a27-b04f-4110-a485-e75933c63ac4 button.colab-df-convert');\n",
              "        buttonEl.style.display =\n",
              "          google.colab.kernel.accessAllowed ? 'block' : 'none';\n",
              "\n",
              "        async function convertToInteractive(key) {\n",
              "          const element = document.querySelector('#df-cdbc4a27-b04f-4110-a485-e75933c63ac4');\n",
              "          const dataTable =\n",
              "            await google.colab.kernel.invokeFunction('convertToInteractive',\n",
              "                                                     [key], {});\n",
              "          if (!dataTable) return;\n",
              "\n",
              "          const docLinkHtml = 'Like what you see? Visit the ' +\n",
              "            '<a target=\"_blank\" href=https://colab.research.google.com/notebooks/data_table.ipynb>data table notebook</a>'\n",
              "            + ' to learn more about interactive tables.';\n",
              "          element.innerHTML = '';\n",
              "          dataTable['output_type'] = 'display_data';\n",
              "          await google.colab.output.renderOutput(dataTable, element);\n",
              "          const docLink = document.createElement('div');\n",
              "          docLink.innerHTML = docLinkHtml;\n",
              "          element.appendChild(docLink);\n",
              "        }\n",
              "      </script>\n",
              "    </div>\n",
              "  </div>\n",
              "  "
            ],
            "text/plain": [
              "   25/11/2021\\nAtendimento Online Unnamed: 1  ...             Unnamed: 8 Unnamed: 9\n",
              "0     Customizado - Avaliação NPS        NaN  ...                    NaN        NaN\n",
              "1      Operador: Paulo Di Martino        NaN  ...                    NaN        NaN\n",
              "2      CLASSIFICAÇÃO DOS CLIENTES        NaN  ...  ZONA DE CLASSIFICAÇÃO        NaN\n",
              "3                      PROMOTORES        NaN  ...     Zona de Excelência        NaN\n",
              "4                             NaN        NaN  ...                    NaN        NaN\n",
              "5                         NEUTROS        NaN  ...                    NaN        NaN\n",
              "6                             NaN        NaN  ...                    NaN        NaN\n",
              "7                      DETRATORES        NaN  ...                    NaN        NaN\n",
              "8                             NaN        NaN  ...                    NaN        NaN\n",
              "9                             NaN        NaN  ...                    NaN        NaN\n",
              "10                            NaN        NaN  ...                    NaN        NaN\n",
              "11                            NaN        NaN  ...                    NaN        NaN\n",
              "12                            NaN        NaN  ...                    NaN        NaN\n",
              "13                            NaN        NaN  ...                    NaN        NaN\n",
              "14                Nº DE RESPOSTAS        NaN  ...                    NaN        NaN\n",
              "15                            NaN        NaN  ...                    NaN        NaN\n",
              "16                      Protocolo       Nota  ...                    NaN        NaN\n",
              "17              1619458199743_407         10  ...                    NaN        NaN\n",
              "18       Operador: Bruna Hoffmann        NaN  ...                    NaN        NaN\n",
              "19     CLASSIFICAÇÃO DOS CLIENTES        NaN  ...  ZONA DE CLASSIFICAÇÃO        NaN\n",
              "20                     PROMOTORES        NaN  ...      Zona de Qualidade        NaN\n",
              "21                            NaN        NaN  ...                    NaN        NaN\n",
              "22                        NEUTROS        NaN  ...                    NaN        NaN\n",
              "23                            NaN        NaN  ...                    NaN        NaN\n",
              "24                     DETRATORES        NaN  ...                    NaN        NaN\n",
              "25                            NaN        NaN  ...                    NaN        NaN\n",
              "26                            NaN        NaN  ...                    NaN        NaN\n",
              "27                            NaN        NaN  ...                    NaN        NaN\n",
              "28                            NaN        NaN  ...                    NaN        NaN\n",
              "29                            NaN        NaN  ...                    NaN        NaN\n",
              "30                            NaN        NaN  ...                    NaN        NaN\n",
              "31                Nº DE RESPOSTAS        NaN  ...                    NaN        NaN\n",
              "32                            NaN        NaN  ...                    NaN        NaN\n",
              "33                      Protocolo       Nota  ...                    NaN        NaN\n",
              "34              1618837769765_158         10  ...                    NaN        NaN\n",
              "35              1618838033074_164         10  ...                    NaN        NaN\n",
              "36              1618838514139_176         10  ...                    NaN        NaN\n",
              "37              1618839764647_204         10  ...                    NaN        NaN\n",
              "38              1618841829260_240         10  ...                    NaN        NaN\n",
              "39              1618854889507_467         10  ...                    NaN        NaN\n",
              "40              1618856781072_514         10  ...                    NaN        NaN\n",
              "41              1618857176464_524         10  ...                    NaN        NaN\n",
              "42              1618859311869_575         10  ...                    NaN        NaN\n",
              "43              1618859660321_587         10  ...                    NaN        NaN\n",
              "\n",
              "[44 rows x 10 columns]"
            ]
          },
          "metadata": {},
          "execution_count": 32
        }
      ],
      "source": [
        "df_excel"
      ]
    },
    {
      "cell_type": "code",
      "execution_count": null,
      "metadata": {
        "colab": {
          "base_uri": "https://localhost:8080/",
          "height": 1000
        },
        "id": "DTAcAFbZwhdN",
        "outputId": "d6307e0b-6b60-417e-85df-784511dae9ba"
      },
      "outputs": [
        {
          "output_type": "execute_result",
          "data": {
            "text/html": [
              "\n",
              "  <div id=\"df-7d5f3ac4-57ed-4670-b539-8421afd34c21\">\n",
              "    <div class=\"colab-df-container\">\n",
              "      <div>\n",
              "<style scoped>\n",
              "    .dataframe tbody tr th:only-of-type {\n",
              "        vertical-align: middle;\n",
              "    }\n",
              "\n",
              "    .dataframe tbody tr th {\n",
              "        vertical-align: top;\n",
              "    }\n",
              "\n",
              "    .dataframe thead th {\n",
              "        text-align: right;\n",
              "    }\n",
              "</style>\n",
              "<table border=\"1\" class=\"dataframe\">\n",
              "  <thead>\n",
              "    <tr style=\"text-align: right;\">\n",
              "      <th></th>\n",
              "      <th>Protocolo</th>\n",
              "      <th>Nota</th>\n",
              "      <th>Unnamed: 2</th>\n",
              "      <th>Comentário</th>\n",
              "      <th>Unnamed: 4</th>\n",
              "      <th>Unnamed: 5</th>\n",
              "      <th>Unnamed: 6</th>\n",
              "      <th>Unnamed: 7</th>\n",
              "      <th>Unnamed: 8</th>\n",
              "      <th>Unnamed: 9</th>\n",
              "    </tr>\n",
              "  </thead>\n",
              "  <tbody>\n",
              "    <tr>\n",
              "      <th>0</th>\n",
              "      <td>1637085125238_504</td>\n",
              "      <td>10.0</td>\n",
              "      <td>NaN</td>\n",
              "      <td>NaN</td>\n",
              "      <td>NaN</td>\n",
              "      <td>NaN</td>\n",
              "      <td>NaN</td>\n",
              "      <td>NaN</td>\n",
              "      <td>NaN</td>\n",
              "      <td>NaN</td>\n",
              "    </tr>\n",
              "    <tr>\n",
              "      <th>1</th>\n",
              "      <td>1637088481447_597</td>\n",
              "      <td>10.0</td>\n",
              "      <td>NaN</td>\n",
              "      <td>NaN</td>\n",
              "      <td>NaN</td>\n",
              "      <td>NaN</td>\n",
              "      <td>NaN</td>\n",
              "      <td>NaN</td>\n",
              "      <td>NaN</td>\n",
              "      <td>NaN</td>\n",
              "    </tr>\n",
              "    <tr>\n",
              "      <th>2</th>\n",
              "      <td>1637091636087_668</td>\n",
              "      <td>10.0</td>\n",
              "      <td>NaN</td>\n",
              "      <td>NaN</td>\n",
              "      <td>NaN</td>\n",
              "      <td>NaN</td>\n",
              "      <td>NaN</td>\n",
              "      <td>NaN</td>\n",
              "      <td>NaN</td>\n",
              "      <td>NaN</td>\n",
              "    </tr>\n",
              "    <tr>\n",
              "      <th>3</th>\n",
              "      <td>1637171142358_597</td>\n",
              "      <td>10.0</td>\n",
              "      <td>NaN</td>\n",
              "      <td>NaN</td>\n",
              "      <td>NaN</td>\n",
              "      <td>NaN</td>\n",
              "      <td>NaN</td>\n",
              "      <td>NaN</td>\n",
              "      <td>NaN</td>\n",
              "      <td>NaN</td>\n",
              "    </tr>\n",
              "    <tr>\n",
              "      <th>4</th>\n",
              "      <td>1637173120749_649</td>\n",
              "      <td>10.0</td>\n",
              "      <td>NaN</td>\n",
              "      <td>NaN</td>\n",
              "      <td>NaN</td>\n",
              "      <td>NaN</td>\n",
              "      <td>NaN</td>\n",
              "      <td>NaN</td>\n",
              "      <td>NaN</td>\n",
              "      <td>NaN</td>\n",
              "    </tr>\n",
              "    <tr>\n",
              "      <th>5</th>\n",
              "      <td>1637175778229_720</td>\n",
              "      <td>10.0</td>\n",
              "      <td>NaN</td>\n",
              "      <td>NaN</td>\n",
              "      <td>NaN</td>\n",
              "      <td>NaN</td>\n",
              "      <td>NaN</td>\n",
              "      <td>NaN</td>\n",
              "      <td>NaN</td>\n",
              "      <td>NaN</td>\n",
              "    </tr>\n",
              "    <tr>\n",
              "      <th>6</th>\n",
              "      <td>1637175637001_713</td>\n",
              "      <td>10.0</td>\n",
              "      <td>NaN</td>\n",
              "      <td>NaN</td>\n",
              "      <td>NaN</td>\n",
              "      <td>NaN</td>\n",
              "      <td>NaN</td>\n",
              "      <td>NaN</td>\n",
              "      <td>NaN</td>\n",
              "      <td>NaN</td>\n",
              "    </tr>\n",
              "    <tr>\n",
              "      <th>7</th>\n",
              "      <td>1637177891109_774</td>\n",
              "      <td>10.0</td>\n",
              "      <td>NaN</td>\n",
              "      <td>NaN</td>\n",
              "      <td>NaN</td>\n",
              "      <td>NaN</td>\n",
              "      <td>NaN</td>\n",
              "      <td>NaN</td>\n",
              "      <td>NaN</td>\n",
              "      <td>NaN</td>\n",
              "    </tr>\n",
              "    <tr>\n",
              "      <th>8</th>\n",
              "      <td>1637177742954_770</td>\n",
              "      <td>10.0</td>\n",
              "      <td>NaN</td>\n",
              "      <td>NaN</td>\n",
              "      <td>NaN</td>\n",
              "      <td>NaN</td>\n",
              "      <td>NaN</td>\n",
              "      <td>NaN</td>\n",
              "      <td>NaN</td>\n",
              "      <td>NaN</td>\n",
              "    </tr>\n",
              "    <tr>\n",
              "      <th>9</th>\n",
              "      <td>1637256305341_577</td>\n",
              "      <td>10.0</td>\n",
              "      <td>NaN</td>\n",
              "      <td>NaN</td>\n",
              "      <td>NaN</td>\n",
              "      <td>NaN</td>\n",
              "      <td>NaN</td>\n",
              "      <td>NaN</td>\n",
              "      <td>NaN</td>\n",
              "      <td>NaN</td>\n",
              "    </tr>\n",
              "    <tr>\n",
              "      <th>10</th>\n",
              "      <td>1637262765084_770</td>\n",
              "      <td>10.0</td>\n",
              "      <td>NaN</td>\n",
              "      <td>NaN</td>\n",
              "      <td>NaN</td>\n",
              "      <td>NaN</td>\n",
              "      <td>NaN</td>\n",
              "      <td>NaN</td>\n",
              "      <td>NaN</td>\n",
              "      <td>NaN</td>\n",
              "    </tr>\n",
              "    <tr>\n",
              "      <th>11</th>\n",
              "      <td>1637264073029_808</td>\n",
              "      <td>10.0</td>\n",
              "      <td>NaN</td>\n",
              "      <td>NaN</td>\n",
              "      <td>NaN</td>\n",
              "      <td>NaN</td>\n",
              "      <td>NaN</td>\n",
              "      <td>NaN</td>\n",
              "      <td>NaN</td>\n",
              "      <td>NaN</td>\n",
              "    </tr>\n",
              "    <tr>\n",
              "      <th>12</th>\n",
              "      <td>1637263312586_778</td>\n",
              "      <td>10.0</td>\n",
              "      <td>NaN</td>\n",
              "      <td>NaN</td>\n",
              "      <td>NaN</td>\n",
              "      <td>NaN</td>\n",
              "      <td>NaN</td>\n",
              "      <td>NaN</td>\n",
              "      <td>NaN</td>\n",
              "      <td>NaN</td>\n",
              "    </tr>\n",
              "    <tr>\n",
              "      <th>13</th>\n",
              "      <td>1637605938408_692</td>\n",
              "      <td>10.0</td>\n",
              "      <td>NaN</td>\n",
              "      <td>NaN</td>\n",
              "      <td>NaN</td>\n",
              "      <td>NaN</td>\n",
              "      <td>NaN</td>\n",
              "      <td>NaN</td>\n",
              "      <td>NaN</td>\n",
              "      <td>NaN</td>\n",
              "    </tr>\n",
              "    <tr>\n",
              "      <th>14</th>\n",
              "      <td>1637606847114_716</td>\n",
              "      <td>10.0</td>\n",
              "      <td>NaN</td>\n",
              "      <td>NaN</td>\n",
              "      <td>NaN</td>\n",
              "      <td>NaN</td>\n",
              "      <td>NaN</td>\n",
              "      <td>NaN</td>\n",
              "      <td>NaN</td>\n",
              "      <td>NaN</td>\n",
              "    </tr>\n",
              "    <tr>\n",
              "      <th>15</th>\n",
              "      <td>1637608029759_756</td>\n",
              "      <td>10.0</td>\n",
              "      <td>NaN</td>\n",
              "      <td>NaN</td>\n",
              "      <td>NaN</td>\n",
              "      <td>NaN</td>\n",
              "      <td>NaN</td>\n",
              "      <td>NaN</td>\n",
              "      <td>NaN</td>\n",
              "      <td>NaN</td>\n",
              "    </tr>\n",
              "    <tr>\n",
              "      <th>16</th>\n",
              "      <td>1637610782259_830</td>\n",
              "      <td>10.0</td>\n",
              "      <td>NaN</td>\n",
              "      <td>NaN</td>\n",
              "      <td>NaN</td>\n",
              "      <td>NaN</td>\n",
              "      <td>NaN</td>\n",
              "      <td>NaN</td>\n",
              "      <td>NaN</td>\n",
              "      <td>NaN</td>\n",
              "    </tr>\n",
              "    <tr>\n",
              "      <th>17</th>\n",
              "      <td>1637614530764_907</td>\n",
              "      <td>10.0</td>\n",
              "      <td>NaN</td>\n",
              "      <td>NaN</td>\n",
              "      <td>NaN</td>\n",
              "      <td>NaN</td>\n",
              "      <td>NaN</td>\n",
              "      <td>NaN</td>\n",
              "      <td>NaN</td>\n",
              "      <td>NaN</td>\n",
              "    </tr>\n",
              "    <tr>\n",
              "      <th>18</th>\n",
              "      <td>1637688392520_515</td>\n",
              "      <td>10.0</td>\n",
              "      <td>NaN</td>\n",
              "      <td>NaN</td>\n",
              "      <td>NaN</td>\n",
              "      <td>NaN</td>\n",
              "      <td>NaN</td>\n",
              "      <td>NaN</td>\n",
              "      <td>NaN</td>\n",
              "      <td>NaN</td>\n",
              "    </tr>\n",
              "    <tr>\n",
              "      <th>19</th>\n",
              "      <td>1637774834374_559</td>\n",
              "      <td>10.0</td>\n",
              "      <td>NaN</td>\n",
              "      <td>NaN</td>\n",
              "      <td>NaN</td>\n",
              "      <td>NaN</td>\n",
              "      <td>NaN</td>\n",
              "      <td>NaN</td>\n",
              "      <td>NaN</td>\n",
              "      <td>NaN</td>\n",
              "    </tr>\n",
              "    <tr>\n",
              "      <th>20</th>\n",
              "      <td>1637776309006_604</td>\n",
              "      <td>10.0</td>\n",
              "      <td>NaN</td>\n",
              "      <td>NaN</td>\n",
              "      <td>NaN</td>\n",
              "      <td>NaN</td>\n",
              "      <td>NaN</td>\n",
              "      <td>NaN</td>\n",
              "      <td>NaN</td>\n",
              "      <td>NaN</td>\n",
              "    </tr>\n",
              "    <tr>\n",
              "      <th>21</th>\n",
              "      <td>1637785976695_874</td>\n",
              "      <td>10.0</td>\n",
              "      <td>NaN</td>\n",
              "      <td>NaN</td>\n",
              "      <td>NaN</td>\n",
              "      <td>NaN</td>\n",
              "      <td>NaN</td>\n",
              "      <td>NaN</td>\n",
              "      <td>NaN</td>\n",
              "      <td>NaN</td>\n",
              "    </tr>\n",
              "    <tr>\n",
              "      <th>22</th>\n",
              "      <td>1637787344794_897</td>\n",
              "      <td>10.0</td>\n",
              "      <td>NaN</td>\n",
              "      <td>NaN</td>\n",
              "      <td>NaN</td>\n",
              "      <td>NaN</td>\n",
              "      <td>NaN</td>\n",
              "      <td>NaN</td>\n",
              "      <td>NaN</td>\n",
              "      <td>NaN</td>\n",
              "    </tr>\n",
              "    <tr>\n",
              "      <th>23</th>\n",
              "      <td>1635186859670_704</td>\n",
              "      <td>9.0</td>\n",
              "      <td>NaN</td>\n",
              "      <td>NaN</td>\n",
              "      <td>NaN</td>\n",
              "      <td>NaN</td>\n",
              "      <td>NaN</td>\n",
              "      <td>NaN</td>\n",
              "      <td>NaN</td>\n",
              "      <td>NaN</td>\n",
              "    </tr>\n",
              "    <tr>\n",
              "      <th>24</th>\n",
              "      <td>1635191618641_835</td>\n",
              "      <td>9.0</td>\n",
              "      <td>NaN</td>\n",
              "      <td>demorou um pouco, mas pelo menos resolveu</td>\n",
              "      <td>NaN</td>\n",
              "      <td>NaN</td>\n",
              "      <td>NaN</td>\n",
              "      <td>NaN</td>\n",
              "      <td>NaN</td>\n",
              "      <td>NaN</td>\n",
              "    </tr>\n",
              "    <tr>\n",
              "      <th>25</th>\n",
              "      <td>1637171685679_612</td>\n",
              "      <td>9.0</td>\n",
              "      <td>NaN</td>\n",
              "      <td>NaN</td>\n",
              "      <td>NaN</td>\n",
              "      <td>NaN</td>\n",
              "      <td>NaN</td>\n",
              "      <td>NaN</td>\n",
              "      <td>NaN</td>\n",
              "      <td>NaN</td>\n",
              "    </tr>\n",
              "    <tr>\n",
              "      <th>26</th>\n",
              "      <td>1637602772005_564</td>\n",
              "      <td>9.0</td>\n",
              "      <td>NaN</td>\n",
              "      <td>NaN</td>\n",
              "      <td>NaN</td>\n",
              "      <td>NaN</td>\n",
              "      <td>NaN</td>\n",
              "      <td>NaN</td>\n",
              "      <td>NaN</td>\n",
              "      <td>NaN</td>\n",
              "    </tr>\n",
              "    <tr>\n",
              "      <th>27</th>\n",
              "      <td>1637605523288_679</td>\n",
              "      <td>9.0</td>\n",
              "      <td>NaN</td>\n",
              "      <td>NaN</td>\n",
              "      <td>NaN</td>\n",
              "      <td>NaN</td>\n",
              "      <td>NaN</td>\n",
              "      <td>NaN</td>\n",
              "      <td>NaN</td>\n",
              "      <td>NaN</td>\n",
              "    </tr>\n",
              "    <tr>\n",
              "      <th>28</th>\n",
              "      <td>1634240034190_612</td>\n",
              "      <td>8.0</td>\n",
              "      <td>NaN</td>\n",
              "      <td>NaN</td>\n",
              "      <td>NaN</td>\n",
              "      <td>NaN</td>\n",
              "      <td>NaN</td>\n",
              "      <td>NaN</td>\n",
              "      <td>NaN</td>\n",
              "      <td>NaN</td>\n",
              "    </tr>\n",
              "    <tr>\n",
              "      <th>29</th>\n",
              "      <td>1634576784602_410</td>\n",
              "      <td>8.0</td>\n",
              "      <td>NaN</td>\n",
              "      <td>NaN</td>\n",
              "      <td>NaN</td>\n",
              "      <td>NaN</td>\n",
              "      <td>NaN</td>\n",
              "      <td>NaN</td>\n",
              "      <td>NaN</td>\n",
              "      <td>NaN</td>\n",
              "    </tr>\n",
              "    <tr>\n",
              "      <th>30</th>\n",
              "      <td>1634663406717_460</td>\n",
              "      <td>8.0</td>\n",
              "      <td>NaN</td>\n",
              "      <td>NaN</td>\n",
              "      <td>NaN</td>\n",
              "      <td>NaN</td>\n",
              "      <td>NaN</td>\n",
              "      <td>NaN</td>\n",
              "      <td>NaN</td>\n",
              "      <td>NaN</td>\n",
              "    </tr>\n",
              "    <tr>\n",
              "      <th>31</th>\n",
              "      <td>1636650916321_542</td>\n",
              "      <td>8.0</td>\n",
              "      <td>NaN</td>\n",
              "      <td>NaN</td>\n",
              "      <td>NaN</td>\n",
              "      <td>NaN</td>\n",
              "      <td>NaN</td>\n",
              "      <td>NaN</td>\n",
              "      <td>NaN</td>\n",
              "      <td>NaN</td>\n",
              "    </tr>\n",
              "    <tr>\n",
              "      <th>32</th>\n",
              "      <td>1634156808058_728</td>\n",
              "      <td>7.0</td>\n",
              "      <td>NaN</td>\n",
              "      <td>NaN</td>\n",
              "      <td>NaN</td>\n",
              "      <td>NaN</td>\n",
              "      <td>NaN</td>\n",
              "      <td>NaN</td>\n",
              "      <td>NaN</td>\n",
              "      <td>NaN</td>\n",
              "    </tr>\n",
              "    <tr>\n",
              "      <th>33</th>\n",
              "      <td>1634750006965_555</td>\n",
              "      <td>7.0</td>\n",
              "      <td>NaN</td>\n",
              "      <td>NaN</td>\n",
              "      <td>NaN</td>\n",
              "      <td>NaN</td>\n",
              "      <td>NaN</td>\n",
              "      <td>NaN</td>\n",
              "      <td>NaN</td>\n",
              "      <td>NaN</td>\n",
              "    </tr>\n",
              "    <tr>\n",
              "      <th>34</th>\n",
              "      <td>1636399546919_771</td>\n",
              "      <td>7.0</td>\n",
              "      <td>NaN</td>\n",
              "      <td>NaN</td>\n",
              "      <td>NaN</td>\n",
              "      <td>NaN</td>\n",
              "      <td>NaN</td>\n",
              "      <td>NaN</td>\n",
              "      <td>NaN</td>\n",
              "      <td>NaN</td>\n",
              "    </tr>\n",
              "    <tr>\n",
              "      <th>35</th>\n",
              "      <td>1633546719599_699</td>\n",
              "      <td>6.0</td>\n",
              "      <td>NaN</td>\n",
              "      <td>NaN</td>\n",
              "      <td>NaN</td>\n",
              "      <td>NaN</td>\n",
              "      <td>NaN</td>\n",
              "      <td>NaN</td>\n",
              "      <td>NaN</td>\n",
              "      <td>NaN</td>\n",
              "    </tr>\n",
              "    <tr>\n",
              "      <th>36</th>\n",
              "      <td>1636570065834_682</td>\n",
              "      <td>5.0</td>\n",
              "      <td>NaN</td>\n",
              "      <td>NaN</td>\n",
              "      <td>NaN</td>\n",
              "      <td>NaN</td>\n",
              "      <td>NaN</td>\n",
              "      <td>NaN</td>\n",
              "      <td>NaN</td>\n",
              "      <td>NaN</td>\n",
              "    </tr>\n",
              "    <tr>\n",
              "      <th>37</th>\n",
              "      <td>1633976841150_406</td>\n",
              "      <td>4.0</td>\n",
              "      <td>NaN</td>\n",
              "      <td>não consegui sanar minha duvida!&lt;br&gt;</td>\n",
              "      <td>NaN</td>\n",
              "      <td>NaN</td>\n",
              "      <td>NaN</td>\n",
              "      <td>NaN</td>\n",
              "      <td>NaN</td>\n",
              "      <td>NaN</td>\n",
              "    </tr>\n",
              "    <tr>\n",
              "      <th>38</th>\n",
              "      <td>1634582425141_540</td>\n",
              "      <td>4.0</td>\n",
              "      <td>NaN</td>\n",
              "      <td>NaN</td>\n",
              "      <td>NaN</td>\n",
              "      <td>NaN</td>\n",
              "      <td>NaN</td>\n",
              "      <td>NaN</td>\n",
              "      <td>NaN</td>\n",
              "      <td>NaN</td>\n",
              "    </tr>\n",
              "    <tr>\n",
              "      <th>39</th>\n",
              "      <td>1637258266416_640</td>\n",
              "      <td>4.0</td>\n",
              "      <td>NaN</td>\n",
              "      <td>NaN</td>\n",
              "      <td>NaN</td>\n",
              "      <td>NaN</td>\n",
              "      <td>NaN</td>\n",
              "      <td>NaN</td>\n",
              "      <td>NaN</td>\n",
              "      <td>NaN</td>\n",
              "    </tr>\n",
              "    <tr>\n",
              "      <th>40</th>\n",
              "      <td>1633544261029_643</td>\n",
              "      <td>3.0</td>\n",
              "      <td>NaN</td>\n",
              "      <td>NaN</td>\n",
              "      <td>NaN</td>\n",
              "      <td>NaN</td>\n",
              "      <td>NaN</td>\n",
              "      <td>NaN</td>\n",
              "      <td>NaN</td>\n",
              "      <td>NaN</td>\n",
              "    </tr>\n",
              "    <tr>\n",
              "      <th>41</th>\n",
              "      <td>1636570848539_700</td>\n",
              "      <td>3.0</td>\n",
              "      <td>NaN</td>\n",
              "      <td>NaN</td>\n",
              "      <td>NaN</td>\n",
              "      <td>NaN</td>\n",
              "      <td>NaN</td>\n",
              "      <td>NaN</td>\n",
              "      <td>NaN</td>\n",
              "      <td>NaN</td>\n",
              "    </tr>\n",
              "    <tr>\n",
              "      <th>42</th>\n",
              "      <td>1637612580235_872</td>\n",
              "      <td>3.0</td>\n",
              "      <td>NaN</td>\n",
              "      <td>NaN</td>\n",
              "      <td>NaN</td>\n",
              "      <td>NaN</td>\n",
              "      <td>NaN</td>\n",
              "      <td>NaN</td>\n",
              "      <td>NaN</td>\n",
              "      <td>NaN</td>\n",
              "    </tr>\n",
              "    <tr>\n",
              "      <th>43</th>\n",
              "      <td>1633374932636_610</td>\n",
              "      <td>0.0</td>\n",
              "      <td>NaN</td>\n",
              "      <td>Não fui atendida</td>\n",
              "      <td>NaN</td>\n",
              "      <td>NaN</td>\n",
              "      <td>NaN</td>\n",
              "      <td>NaN</td>\n",
              "      <td>NaN</td>\n",
              "      <td>NaN</td>\n",
              "    </tr>\n",
              "    <tr>\n",
              "      <th>44</th>\n",
              "      <td>Operador: Thais Almeida</td>\n",
              "      <td>NaN</td>\n",
              "      <td>NaN</td>\n",
              "      <td>NaN</td>\n",
              "      <td>NaN</td>\n",
              "      <td>NaN</td>\n",
              "      <td>NaN</td>\n",
              "      <td>NaN</td>\n",
              "      <td>NaN</td>\n",
              "      <td>NaN</td>\n",
              "    </tr>\n",
              "    <tr>\n",
              "      <th>45</th>\n",
              "      <td>CLASSIFICAÇÃO DOS CLIENTES</td>\n",
              "      <td>NaN</td>\n",
              "      <td>NOTAS</td>\n",
              "      <td>NaN</td>\n",
              "      <td>Nº DE RESPOSTAS</td>\n",
              "      <td>% DE RESPOSTAS</td>\n",
              "      <td>RESULTADOS</td>\n",
              "      <td>NPS</td>\n",
              "      <td>ZONA DE CLASSIFICAÇÃO</td>\n",
              "      <td>NaN</td>\n",
              "    </tr>\n",
              "    <tr>\n",
              "      <th>46</th>\n",
              "      <td>PROMOTORES</td>\n",
              "      <td>NaN</td>\n",
              "      <td>10</td>\n",
              "      <td>NaN</td>\n",
              "      <td>78</td>\n",
              "      <td>0.7959</td>\n",
              "      <td>0.8367</td>\n",
              "      <td>0.7245</td>\n",
              "      <td>Zona de Qualidade</td>\n",
              "      <td>NaN</td>\n",
              "    </tr>\n",
              "    <tr>\n",
              "      <th>47</th>\n",
              "      <td>NaN</td>\n",
              "      <td>NaN</td>\n",
              "      <td>9</td>\n",
              "      <td>NaN</td>\n",
              "      <td>4</td>\n",
              "      <td>0.0408</td>\n",
              "      <td>NaN</td>\n",
              "      <td>NaN</td>\n",
              "      <td>NaN</td>\n",
              "      <td>NaN</td>\n",
              "    </tr>\n",
              "    <tr>\n",
              "      <th>48</th>\n",
              "      <td>NEUTROS</td>\n",
              "      <td>NaN</td>\n",
              "      <td>8</td>\n",
              "      <td>NaN</td>\n",
              "      <td>5</td>\n",
              "      <td>0.051</td>\n",
              "      <td>0.051</td>\n",
              "      <td>NaN</td>\n",
              "      <td>NaN</td>\n",
              "      <td>NaN</td>\n",
              "    </tr>\n",
              "    <tr>\n",
              "      <th>49</th>\n",
              "      <td>NaN</td>\n",
              "      <td>NaN</td>\n",
              "      <td>7</td>\n",
              "      <td>NaN</td>\n",
              "      <td>0</td>\n",
              "      <td>0</td>\n",
              "      <td>NaN</td>\n",
              "      <td>NaN</td>\n",
              "      <td>NaN</td>\n",
              "      <td>NaN</td>\n",
              "    </tr>\n",
              "    <tr>\n",
              "      <th>50</th>\n",
              "      <td>DETRATORES</td>\n",
              "      <td>NaN</td>\n",
              "      <td>6</td>\n",
              "      <td>NaN</td>\n",
              "      <td>0</td>\n",
              "      <td>0</td>\n",
              "      <td>0.1122</td>\n",
              "      <td>NaN</td>\n",
              "      <td>NaN</td>\n",
              "      <td>NaN</td>\n",
              "    </tr>\n",
              "    <tr>\n",
              "      <th>51</th>\n",
              "      <td>NaN</td>\n",
              "      <td>NaN</td>\n",
              "      <td>5</td>\n",
              "      <td>NaN</td>\n",
              "      <td>2</td>\n",
              "      <td>0.0204</td>\n",
              "      <td>NaN</td>\n",
              "      <td>NaN</td>\n",
              "      <td>NaN</td>\n",
              "      <td>NaN</td>\n",
              "    </tr>\n",
              "    <tr>\n",
              "      <th>52</th>\n",
              "      <td>NaN</td>\n",
              "      <td>NaN</td>\n",
              "      <td>4</td>\n",
              "      <td>NaN</td>\n",
              "      <td>1</td>\n",
              "      <td>0.0102</td>\n",
              "      <td>NaN</td>\n",
              "      <td>NaN</td>\n",
              "      <td>NaN</td>\n",
              "      <td>NaN</td>\n",
              "    </tr>\n",
              "    <tr>\n",
              "      <th>53</th>\n",
              "      <td>NaN</td>\n",
              "      <td>NaN</td>\n",
              "      <td>3</td>\n",
              "      <td>NaN</td>\n",
              "      <td>1</td>\n",
              "      <td>0.0102</td>\n",
              "      <td>NaN</td>\n",
              "      <td>NaN</td>\n",
              "      <td>NaN</td>\n",
              "      <td>NaN</td>\n",
              "    </tr>\n",
              "    <tr>\n",
              "      <th>54</th>\n",
              "      <td>NaN</td>\n",
              "      <td>NaN</td>\n",
              "      <td>2</td>\n",
              "      <td>NaN</td>\n",
              "      <td>2</td>\n",
              "      <td>0.0204</td>\n",
              "      <td>NaN</td>\n",
              "      <td>NaN</td>\n",
              "      <td>NaN</td>\n",
              "      <td>NaN</td>\n",
              "    </tr>\n",
              "    <tr>\n",
              "      <th>55</th>\n",
              "      <td>NaN</td>\n",
              "      <td>NaN</td>\n",
              "      <td>1</td>\n",
              "      <td>NaN</td>\n",
              "      <td>1</td>\n",
              "      <td>0.0102</td>\n",
              "      <td>NaN</td>\n",
              "      <td>NaN</td>\n",
              "      <td>NaN</td>\n",
              "      <td>NaN</td>\n",
              "    </tr>\n",
              "    <tr>\n",
              "      <th>56</th>\n",
              "      <td>NaN</td>\n",
              "      <td>NaN</td>\n",
              "      <td>0</td>\n",
              "      <td>NaN</td>\n",
              "      <td>4</td>\n",
              "      <td>0.0408</td>\n",
              "      <td>NaN</td>\n",
              "      <td>NaN</td>\n",
              "      <td>NaN</td>\n",
              "      <td>NaN</td>\n",
              "    </tr>\n",
              "  </tbody>\n",
              "</table>\n",
              "</div>\n",
              "      <button class=\"colab-df-convert\" onclick=\"convertToInteractive('df-7d5f3ac4-57ed-4670-b539-8421afd34c21')\"\n",
              "              title=\"Convert this dataframe to an interactive table.\"\n",
              "              style=\"display:none;\">\n",
              "        \n",
              "  <svg xmlns=\"http://www.w3.org/2000/svg\" height=\"24px\"viewBox=\"0 0 24 24\"\n",
              "       width=\"24px\">\n",
              "    <path d=\"M0 0h24v24H0V0z\" fill=\"none\"/>\n",
              "    <path d=\"M18.56 5.44l.94 2.06.94-2.06 2.06-.94-2.06-.94-.94-2.06-.94 2.06-2.06.94zm-11 1L8.5 8.5l.94-2.06 2.06-.94-2.06-.94L8.5 2.5l-.94 2.06-2.06.94zm10 10l.94 2.06.94-2.06 2.06-.94-2.06-.94-.94-2.06-.94 2.06-2.06.94z\"/><path d=\"M17.41 7.96l-1.37-1.37c-.4-.4-.92-.59-1.43-.59-.52 0-1.04.2-1.43.59L10.3 9.45l-7.72 7.72c-.78.78-.78 2.05 0 2.83L4 21.41c.39.39.9.59 1.41.59.51 0 1.02-.2 1.41-.59l7.78-7.78 2.81-2.81c.8-.78.8-2.07 0-2.86zM5.41 20L4 18.59l7.72-7.72 1.47 1.35L5.41 20z\"/>\n",
              "  </svg>\n",
              "      </button>\n",
              "      \n",
              "  <style>\n",
              "    .colab-df-container {\n",
              "      display:flex;\n",
              "      flex-wrap:wrap;\n",
              "      gap: 12px;\n",
              "    }\n",
              "\n",
              "    .colab-df-convert {\n",
              "      background-color: #E8F0FE;\n",
              "      border: none;\n",
              "      border-radius: 50%;\n",
              "      cursor: pointer;\n",
              "      display: none;\n",
              "      fill: #1967D2;\n",
              "      height: 32px;\n",
              "      padding: 0 0 0 0;\n",
              "      width: 32px;\n",
              "    }\n",
              "\n",
              "    .colab-df-convert:hover {\n",
              "      background-color: #E2EBFA;\n",
              "      box-shadow: 0px 1px 2px rgba(60, 64, 67, 0.3), 0px 1px 3px 1px rgba(60, 64, 67, 0.15);\n",
              "      fill: #174EA6;\n",
              "    }\n",
              "\n",
              "    [theme=dark] .colab-df-convert {\n",
              "      background-color: #3B4455;\n",
              "      fill: #D2E3FC;\n",
              "    }\n",
              "\n",
              "    [theme=dark] .colab-df-convert:hover {\n",
              "      background-color: #434B5C;\n",
              "      box-shadow: 0px 1px 3px 1px rgba(0, 0, 0, 0.15);\n",
              "      filter: drop-shadow(0px 1px 2px rgba(0, 0, 0, 0.3));\n",
              "      fill: #FFFFFF;\n",
              "    }\n",
              "  </style>\n",
              "\n",
              "      <script>\n",
              "        const buttonEl =\n",
              "          document.querySelector('#df-7d5f3ac4-57ed-4670-b539-8421afd34c21 button.colab-df-convert');\n",
              "        buttonEl.style.display =\n",
              "          google.colab.kernel.accessAllowed ? 'block' : 'none';\n",
              "\n",
              "        async function convertToInteractive(key) {\n",
              "          const element = document.querySelector('#df-7d5f3ac4-57ed-4670-b539-8421afd34c21');\n",
              "          const dataTable =\n",
              "            await google.colab.kernel.invokeFunction('convertToInteractive',\n",
              "                                                     [key], {});\n",
              "          if (!dataTable) return;\n",
              "\n",
              "          const docLinkHtml = 'Like what you see? Visit the ' +\n",
              "            '<a target=\"_blank\" href=https://colab.research.google.com/notebooks/data_table.ipynb>data table notebook</a>'\n",
              "            + ' to learn more about interactive tables.';\n",
              "          element.innerHTML = '';\n",
              "          dataTable['output_type'] = 'display_data';\n",
              "          await google.colab.output.renderOutput(dataTable, element);\n",
              "          const docLink = document.createElement('div');\n",
              "          docLink.innerHTML = docLinkHtml;\n",
              "          element.appendChild(docLink);\n",
              "        }\n",
              "      </script>\n",
              "    </div>\n",
              "  </div>\n",
              "  "
            ],
            "text/plain": [
              "                     Protocolo  Nota  ...             Unnamed: 8 Unnamed: 9\n",
              "0            1637085125238_504  10.0  ...                    NaN        NaN\n",
              "1            1637088481447_597  10.0  ...                    NaN        NaN\n",
              "2            1637091636087_668  10.0  ...                    NaN        NaN\n",
              "3            1637171142358_597  10.0  ...                    NaN        NaN\n",
              "4            1637173120749_649  10.0  ...                    NaN        NaN\n",
              "5            1637175778229_720  10.0  ...                    NaN        NaN\n",
              "6            1637175637001_713  10.0  ...                    NaN        NaN\n",
              "7            1637177891109_774  10.0  ...                    NaN        NaN\n",
              "8            1637177742954_770  10.0  ...                    NaN        NaN\n",
              "9            1637256305341_577  10.0  ...                    NaN        NaN\n",
              "10           1637262765084_770  10.0  ...                    NaN        NaN\n",
              "11           1637264073029_808  10.0  ...                    NaN        NaN\n",
              "12           1637263312586_778  10.0  ...                    NaN        NaN\n",
              "13           1637605938408_692  10.0  ...                    NaN        NaN\n",
              "14           1637606847114_716  10.0  ...                    NaN        NaN\n",
              "15           1637608029759_756  10.0  ...                    NaN        NaN\n",
              "16           1637610782259_830  10.0  ...                    NaN        NaN\n",
              "17           1637614530764_907  10.0  ...                    NaN        NaN\n",
              "18           1637688392520_515  10.0  ...                    NaN        NaN\n",
              "19           1637774834374_559  10.0  ...                    NaN        NaN\n",
              "20           1637776309006_604  10.0  ...                    NaN        NaN\n",
              "21           1637785976695_874  10.0  ...                    NaN        NaN\n",
              "22           1637787344794_897  10.0  ...                    NaN        NaN\n",
              "23           1635186859670_704   9.0  ...                    NaN        NaN\n",
              "24           1635191618641_835   9.0  ...                    NaN        NaN\n",
              "25           1637171685679_612   9.0  ...                    NaN        NaN\n",
              "26           1637602772005_564   9.0  ...                    NaN        NaN\n",
              "27           1637605523288_679   9.0  ...                    NaN        NaN\n",
              "28           1634240034190_612   8.0  ...                    NaN        NaN\n",
              "29           1634576784602_410   8.0  ...                    NaN        NaN\n",
              "30           1634663406717_460   8.0  ...                    NaN        NaN\n",
              "31           1636650916321_542   8.0  ...                    NaN        NaN\n",
              "32           1634156808058_728   7.0  ...                    NaN        NaN\n",
              "33           1634750006965_555   7.0  ...                    NaN        NaN\n",
              "34           1636399546919_771   7.0  ...                    NaN        NaN\n",
              "35           1633546719599_699   6.0  ...                    NaN        NaN\n",
              "36           1636570065834_682   5.0  ...                    NaN        NaN\n",
              "37           1633976841150_406   4.0  ...                    NaN        NaN\n",
              "38           1634582425141_540   4.0  ...                    NaN        NaN\n",
              "39           1637258266416_640   4.0  ...                    NaN        NaN\n",
              "40           1633544261029_643   3.0  ...                    NaN        NaN\n",
              "41           1636570848539_700   3.0  ...                    NaN        NaN\n",
              "42           1637612580235_872   3.0  ...                    NaN        NaN\n",
              "43           1633374932636_610   0.0  ...                    NaN        NaN\n",
              "44     Operador: Thais Almeida   NaN  ...                    NaN        NaN\n",
              "45  CLASSIFICAÇÃO DOS CLIENTES   NaN  ...  ZONA DE CLASSIFICAÇÃO        NaN\n",
              "46                  PROMOTORES   NaN  ...      Zona de Qualidade        NaN\n",
              "47                         NaN   NaN  ...                    NaN        NaN\n",
              "48                     NEUTROS   NaN  ...                    NaN        NaN\n",
              "49                         NaN   NaN  ...                    NaN        NaN\n",
              "50                  DETRATORES   NaN  ...                    NaN        NaN\n",
              "51                         NaN   NaN  ...                    NaN        NaN\n",
              "52                         NaN   NaN  ...                    NaN        NaN\n",
              "53                         NaN   NaN  ...                    NaN        NaN\n",
              "54                         NaN   NaN  ...                    NaN        NaN\n",
              "55                         NaN   NaN  ...                    NaN        NaN\n",
              "56                         NaN   NaN  ...                    NaN        NaN\n",
              "\n",
              "[57 rows x 10 columns]"
            ]
          },
          "metadata": {},
          "execution_count": 33
        }
      ],
      "source": [
        "sheet_page = 32\n",
        "df_excel = pd.read_excel(path_excel, sheet_name=sheet_page)\n",
        "df_excel"
      ]
    },
    {
      "cell_type": "code",
      "execution_count": null,
      "metadata": {
        "colab": {
          "base_uri": "https://localhost:8080/"
        },
        "id": "NDRH7nNO-9_g",
        "outputId": "e1807413-9232-4efa-e2d1-402262552b02"
      },
      "outputs": [
        {
          "output_type": "execute_result",
          "data": {
            "text/plain": [
              "0                                           NaN\n",
              "1                                           NaN\n",
              "2                                           NaN\n",
              "3                                           NaN\n",
              "4                                           NaN\n",
              "5                                           NaN\n",
              "6                                           NaN\n",
              "7                                           NaN\n",
              "8                                           NaN\n",
              "9                                           NaN\n",
              "10                                          NaN\n",
              "11                                          NaN\n",
              "12                                          NaN\n",
              "13                                          NaN\n",
              "14                                          NaN\n",
              "15                                          NaN\n",
              "16                                          NaN\n",
              "17                                          NaN\n",
              "18                                          NaN\n",
              "19                                          NaN\n",
              "20                                          NaN\n",
              "21                                          NaN\n",
              "22                                          NaN\n",
              "23                                          NaN\n",
              "24    demorou um pouco, mas pelo menos resolveu\n",
              "25                                          NaN\n",
              "26                                          NaN\n",
              "27                                          NaN\n",
              "28                                          NaN\n",
              "29                                          NaN\n",
              "30                                          NaN\n",
              "31                                          NaN\n",
              "32                                          NaN\n",
              "33                                          NaN\n",
              "34                                          NaN\n",
              "35                                          NaN\n",
              "36                                          NaN\n",
              "37         não consegui sanar minha duvida!<br>\n",
              "38                                          NaN\n",
              "39                                          NaN\n",
              "40                                          NaN\n",
              "41                                          NaN\n",
              "42                                          NaN\n",
              "43                             Não fui atendida\n",
              "44                                          NaN\n",
              "45                                          NaN\n",
              "46                                          NaN\n",
              "47                                          NaN\n",
              "48                                          NaN\n",
              "49                                          NaN\n",
              "50                                          NaN\n",
              "51                                          NaN\n",
              "52                                          NaN\n",
              "53                                          NaN\n",
              "54                                          NaN\n",
              "55                                          NaN\n",
              "56                                          NaN\n",
              "Name: Comentário, dtype: object"
            ]
          },
          "metadata": {},
          "execution_count": 34
        }
      ],
      "source": [
        "df_excel['Comentário']"
      ]
    },
    {
      "cell_type": "code",
      "execution_count": null,
      "metadata": {
        "colab": {
          "base_uri": "https://localhost:8080/"
        },
        "id": "w3gcm7Z3wvNk",
        "outputId": "7e764e5a-12bf-45fb-813c-8afec753436d"
      },
      "outputs": [
        {
          "output_type": "execute_result",
          "data": {
            "text/plain": [
              "(10,)"
            ]
          },
          "metadata": {},
          "execution_count": 35
        }
      ],
      "source": [
        "df_excel.columns.shape"
      ]
    },
    {
      "cell_type": "code",
      "execution_count": null,
      "metadata": {
        "id": "TcWBMuTZw-v4"
      },
      "outputs": [],
      "source": [
        "# Se contém SO as 3 colunas ['Protocolo', 'Nota', 'Comentário']\n",
        "if df_excel.columns.shape[0] == 3 and set(['Protocolo', 'Nota', 'Comentário']).issubset(df_excel.columns):\n",
        "  print('Exits columns')"
      ]
    },
    {
      "cell_type": "code",
      "execution_count": null,
      "metadata": {
        "colab": {
          "base_uri": "https://localhost:8080/"
        },
        "id": "uiOYrQU2zeLD",
        "outputId": "0c7c9c0a-857c-421f-9f41-7bdcfef4a45a"
      },
      "outputs": [
        {
          "output_type": "stream",
          "name": "stdout",
          "text": [
            "Exits columns 10\n"
          ]
        }
      ],
      "source": [
        "# Se contém SO as 3 colunas e mais outras ['Protocolo', 'Nota', 'Comentário']\n",
        "if df_excel.columns.shape[0] > 3 and set(['Protocolo', 'Nota', 'Comentário']).issubset(df_excel.columns):\n",
        "  print('Exits columns', df_excel.columns.shape[0])"
      ]
    },
    {
      "cell_type": "code",
      "execution_count": null,
      "metadata": {
        "colab": {
          "base_uri": "https://localhost:8080/"
        },
        "id": "-5hl2YYkqnn0",
        "outputId": "bedb12b7-3dfe-46d4-815a-1e271277448b"
      },
      "outputs": [
        {
          "output_type": "stream",
          "name": "stdout",
          "text": [
            "sheet_page: 0\n",
            "sheet_page: 1\n",
            "sheet_page: 2\n",
            "sheet_page: 3\n",
            "sheet_page: 4\n",
            "sheet_page: 5\n",
            "sheet_page: 6\n",
            "sheet_page: 7\n",
            "sheet_page: 8\n",
            "sheet_page: 9\n",
            "sheet_page: 10\n",
            "sheet_page: 11\n",
            "sheet_page: 12\n",
            "sheet_page: 13\n",
            "sheet_page: 14\n",
            "sheet_page: 15\n",
            "sheet_page: 16\n",
            "sheet_page: 17\n",
            "sheet_page: 18\n",
            "sheet_page: 19\n",
            "sheet_page: 20\n",
            "sheet_page: 21\n",
            "sheet_page: 22\n",
            "sheet_page: 23\n",
            "sheet_page: 24\n",
            "sheet_page: 25\n",
            "sheet_page: 26\n",
            "sheet_page: 27\n",
            "sheet_page: 28\n",
            "sheet_page: 29\n",
            "sheet_page: 30\n",
            "sheet_page: 31\n",
            "sheet_page: 32\n",
            "sheet_page: 33\n",
            "sheet_page: 34\n",
            "sheet_page: 35\n",
            "Acabou as sheets!\n",
            "isExcept True\n"
          ]
        }
      ],
      "source": [
        "\n",
        "isExcept = False\n",
        "sheet_page = 0\n",
        "\n",
        "while True:\n",
        "  print('sheet_page:', sheet_page)\n",
        "  \n",
        "  try:\n",
        "\n",
        "    ################################################################################################\n",
        "\n",
        "    df_excel = pd.read_excel(path_excel, sheet_name=sheet_page)\n",
        "\n",
        "\n",
        "    ################################################################################################\n",
        "  except: \n",
        "    isExcept = True\n",
        "    print('Acabou as sheets!')\n",
        "\n",
        "  sheet_page = sheet_page + 1\n",
        "\n",
        "  if isExcept:\n",
        "    print('isExcept', isExcept)\n",
        "    break\n"
      ]
    },
    {
      "cell_type": "code",
      "execution_count": null,
      "metadata": {
        "colab": {
          "base_uri": "https://localhost:8080/"
        },
        "id": "HscXfClvFRga",
        "outputId": "7806574b-f122-475e-beb8-b75bc64fb230"
      },
      "outputs": [
        {
          "output_type": "execute_result",
          "data": {
            "text/plain": [
              "[{'Comentário': 'Teste',\n",
              "  'Nota': 10,\n",
              "  'Requisição': '324234234',\n",
              "  'Responsável': 'Ricardo'}]"
            ]
          },
          "metadata": {},
          "execution_count": 39
        }
      ],
      "source": [
        "list_dic_nps = [] # Lista de Dictionary\n",
        "\n",
        "# calories = {'apple' : 52, 'banana' : 89, 'choco' : 546}\n",
        "list_dic_nps.append(\n",
        "    {'Requisição': '324234234', 'Nota': 10, 'Comentário': 'Teste', 'Responsável': 'Ricardo'}\n",
        ")\n",
        "list_dic_nps"
      ]
    },
    {
      "cell_type": "code",
      "execution_count": null,
      "metadata": {
        "colab": {
          "base_uri": "https://localhost:8080/",
          "height": 206
        },
        "id": "HfBTjttJBeB4",
        "outputId": "f3469740-3e76-4fba-92d1-f9226c7132fc"
      },
      "outputs": [
        {
          "output_type": "execute_result",
          "data": {
            "text/html": [
              "\n",
              "  <div id=\"df-ac11d14c-bc24-4c6d-8c7a-fb7030c26c6d\">\n",
              "    <div class=\"colab-df-container\">\n",
              "      <div>\n",
              "<style scoped>\n",
              "    .dataframe tbody tr th:only-of-type {\n",
              "        vertical-align: middle;\n",
              "    }\n",
              "\n",
              "    .dataframe tbody tr th {\n",
              "        vertical-align: top;\n",
              "    }\n",
              "\n",
              "    .dataframe thead th {\n",
              "        text-align: right;\n",
              "    }\n",
              "</style>\n",
              "<table border=\"1\" class=\"dataframe\">\n",
              "  <thead>\n",
              "    <tr style=\"text-align: right;\">\n",
              "      <th></th>\n",
              "      <th>25/11/2021\\nAtendimento Online</th>\n",
              "      <th>Unnamed: 1</th>\n",
              "      <th>Unnamed: 2</th>\n",
              "      <th>Unnamed: 3</th>\n",
              "      <th>Unnamed: 4</th>\n",
              "      <th>Unnamed: 5</th>\n",
              "      <th>Unnamed: 6</th>\n",
              "      <th>Unnamed: 7</th>\n",
              "      <th>Unnamed: 8</th>\n",
              "      <th>Unnamed: 9</th>\n",
              "    </tr>\n",
              "  </thead>\n",
              "  <tbody>\n",
              "    <tr>\n",
              "      <th>0</th>\n",
              "      <td>Customizado - Avaliação NPS</td>\n",
              "      <td>NaN</td>\n",
              "      <td>NaN</td>\n",
              "      <td>NaN</td>\n",
              "      <td>NaN</td>\n",
              "      <td>NaN</td>\n",
              "      <td>NaN</td>\n",
              "      <td>NaN</td>\n",
              "      <td>NaN</td>\n",
              "      <td>NaN</td>\n",
              "    </tr>\n",
              "    <tr>\n",
              "      <th>1</th>\n",
              "      <td>Operador: Paulo Di Martino</td>\n",
              "      <td>NaN</td>\n",
              "      <td>NaN</td>\n",
              "      <td>NaN</td>\n",
              "      <td>NaN</td>\n",
              "      <td>NaN</td>\n",
              "      <td>NaN</td>\n",
              "      <td>NaN</td>\n",
              "      <td>NaN</td>\n",
              "      <td>NaN</td>\n",
              "    </tr>\n",
              "    <tr>\n",
              "      <th>2</th>\n",
              "      <td>CLASSIFICAÇÃO DOS CLIENTES</td>\n",
              "      <td>NaN</td>\n",
              "      <td>NOTAS</td>\n",
              "      <td>NaN</td>\n",
              "      <td>Nº DE RESPOSTAS</td>\n",
              "      <td>% DE RESPOSTAS</td>\n",
              "      <td>RESULTADOS</td>\n",
              "      <td>NPS</td>\n",
              "      <td>ZONA DE CLASSIFICAÇÃO</td>\n",
              "      <td>NaN</td>\n",
              "    </tr>\n",
              "    <tr>\n",
              "      <th>3</th>\n",
              "      <td>PROMOTORES</td>\n",
              "      <td>NaN</td>\n",
              "      <td>10</td>\n",
              "      <td>NaN</td>\n",
              "      <td>1</td>\n",
              "      <td>1</td>\n",
              "      <td>1</td>\n",
              "      <td>1</td>\n",
              "      <td>Zona de Excelência</td>\n",
              "      <td>NaN</td>\n",
              "    </tr>\n",
              "    <tr>\n",
              "      <th>4</th>\n",
              "      <td>NaN</td>\n",
              "      <td>NaN</td>\n",
              "      <td>9</td>\n",
              "      <td>NaN</td>\n",
              "      <td>0</td>\n",
              "      <td>0</td>\n",
              "      <td>NaN</td>\n",
              "      <td>NaN</td>\n",
              "      <td>NaN</td>\n",
              "      <td>NaN</td>\n",
              "    </tr>\n",
              "  </tbody>\n",
              "</table>\n",
              "</div>\n",
              "      <button class=\"colab-df-convert\" onclick=\"convertToInteractive('df-ac11d14c-bc24-4c6d-8c7a-fb7030c26c6d')\"\n",
              "              title=\"Convert this dataframe to an interactive table.\"\n",
              "              style=\"display:none;\">\n",
              "        \n",
              "  <svg xmlns=\"http://www.w3.org/2000/svg\" height=\"24px\"viewBox=\"0 0 24 24\"\n",
              "       width=\"24px\">\n",
              "    <path d=\"M0 0h24v24H0V0z\" fill=\"none\"/>\n",
              "    <path d=\"M18.56 5.44l.94 2.06.94-2.06 2.06-.94-2.06-.94-.94-2.06-.94 2.06-2.06.94zm-11 1L8.5 8.5l.94-2.06 2.06-.94-2.06-.94L8.5 2.5l-.94 2.06-2.06.94zm10 10l.94 2.06.94-2.06 2.06-.94-2.06-.94-.94-2.06-.94 2.06-2.06.94z\"/><path d=\"M17.41 7.96l-1.37-1.37c-.4-.4-.92-.59-1.43-.59-.52 0-1.04.2-1.43.59L10.3 9.45l-7.72 7.72c-.78.78-.78 2.05 0 2.83L4 21.41c.39.39.9.59 1.41.59.51 0 1.02-.2 1.41-.59l7.78-7.78 2.81-2.81c.8-.78.8-2.07 0-2.86zM5.41 20L4 18.59l7.72-7.72 1.47 1.35L5.41 20z\"/>\n",
              "  </svg>\n",
              "      </button>\n",
              "      \n",
              "  <style>\n",
              "    .colab-df-container {\n",
              "      display:flex;\n",
              "      flex-wrap:wrap;\n",
              "      gap: 12px;\n",
              "    }\n",
              "\n",
              "    .colab-df-convert {\n",
              "      background-color: #E8F0FE;\n",
              "      border: none;\n",
              "      border-radius: 50%;\n",
              "      cursor: pointer;\n",
              "      display: none;\n",
              "      fill: #1967D2;\n",
              "      height: 32px;\n",
              "      padding: 0 0 0 0;\n",
              "      width: 32px;\n",
              "    }\n",
              "\n",
              "    .colab-df-convert:hover {\n",
              "      background-color: #E2EBFA;\n",
              "      box-shadow: 0px 1px 2px rgba(60, 64, 67, 0.3), 0px 1px 3px 1px rgba(60, 64, 67, 0.15);\n",
              "      fill: #174EA6;\n",
              "    }\n",
              "\n",
              "    [theme=dark] .colab-df-convert {\n",
              "      background-color: #3B4455;\n",
              "      fill: #D2E3FC;\n",
              "    }\n",
              "\n",
              "    [theme=dark] .colab-df-convert:hover {\n",
              "      background-color: #434B5C;\n",
              "      box-shadow: 0px 1px 3px 1px rgba(0, 0, 0, 0.15);\n",
              "      filter: drop-shadow(0px 1px 2px rgba(0, 0, 0, 0.3));\n",
              "      fill: #FFFFFF;\n",
              "    }\n",
              "  </style>\n",
              "\n",
              "      <script>\n",
              "        const buttonEl =\n",
              "          document.querySelector('#df-ac11d14c-bc24-4c6d-8c7a-fb7030c26c6d button.colab-df-convert');\n",
              "        buttonEl.style.display =\n",
              "          google.colab.kernel.accessAllowed ? 'block' : 'none';\n",
              "\n",
              "        async function convertToInteractive(key) {\n",
              "          const element = document.querySelector('#df-ac11d14c-bc24-4c6d-8c7a-fb7030c26c6d');\n",
              "          const dataTable =\n",
              "            await google.colab.kernel.invokeFunction('convertToInteractive',\n",
              "                                                     [key], {});\n",
              "          if (!dataTable) return;\n",
              "\n",
              "          const docLinkHtml = 'Like what you see? Visit the ' +\n",
              "            '<a target=\"_blank\" href=https://colab.research.google.com/notebooks/data_table.ipynb>data table notebook</a>'\n",
              "            + ' to learn more about interactive tables.';\n",
              "          element.innerHTML = '';\n",
              "          dataTable['output_type'] = 'display_data';\n",
              "          await google.colab.output.renderOutput(dataTable, element);\n",
              "          const docLink = document.createElement('div');\n",
              "          docLink.innerHTML = docLinkHtml;\n",
              "          element.appendChild(docLink);\n",
              "        }\n",
              "      </script>\n",
              "    </div>\n",
              "  </div>\n",
              "  "
            ],
            "text/plain": [
              "  25/11/2021\\nAtendimento Online Unnamed: 1  ...             Unnamed: 8 Unnamed: 9\n",
              "0    Customizado - Avaliação NPS        NaN  ...                    NaN        NaN\n",
              "1     Operador: Paulo Di Martino        NaN  ...                    NaN        NaN\n",
              "2     CLASSIFICAÇÃO DOS CLIENTES        NaN  ...  ZONA DE CLASSIFICAÇÃO        NaN\n",
              "3                     PROMOTORES        NaN  ...     Zona de Excelência        NaN\n",
              "4                            NaN        NaN  ...                    NaN        NaN\n",
              "\n",
              "[5 rows x 10 columns]"
            ]
          },
          "metadata": {},
          "execution_count": 40
        }
      ],
      "source": [
        "if isPathLocal:\n",
        "    path_excel = 'D:\\\\2. Ciência de Dados\\\\1. Trabalho de Conclusão\\\\Dados\\\\Excel\\\\Financeiro NPS.xlsx'\n",
        "else:\n",
        "    path_excel = '/content/drive/MyDrive/1. Pós Ciência de Dados/1. Trabalho de Conclusão/Testes/Extrair Dados/Dados/Excel/Financeiro NPS.xlsx'\n",
        "\n",
        "sheet_page = 0\n",
        "df_excel = pd.read_excel(path_excel, sheet_name=sheet_page)\n",
        "df_excel.head()"
      ]
    },
    {
      "cell_type": "code",
      "execution_count": null,
      "metadata": {
        "colab": {
          "base_uri": "https://localhost:8080/"
        },
        "id": "VRmWQQFyckfg",
        "outputId": "665dd2ac-7a8b-44b4-acda-c9ac9a5b2fc7"
      },
      "outputs": [
        {
          "output_type": "stream",
          "name": "stdout",
          "text": [
            "Sheet 0 list_dic_nps:  11\n",
            "Sheet 1 list_dic_nps:  65\n",
            "Sheet 2 list_dic_nps:  65\n",
            "Sheet 3 list_dic_nps:  65\n",
            "Sheet 4 list_dic_nps:  60\n",
            "Sheet 5 list_dic_nps:  40\n",
            "Sheet 6 list_dic_nps:  22\n",
            "Sheet 7 list_dic_nps:  65\n",
            "Sheet 8 list_dic_nps:  65\n",
            "Sheet 9 list_dic_nps:  65\n",
            "Sheet 10 list_dic_nps:  65\n",
            "Sheet 11 list_dic_nps:  65\n",
            "Sheet 12 list_dic_nps:  65\n",
            "Sheet 13 list_dic_nps:  65\n",
            "Sheet 14 list_dic_nps:  58\n",
            "Sheet 15 list_dic_nps:  54\n",
            "Sheet 16 list_dic_nps:  65\n",
            "Sheet 17 list_dic_nps:  65\n",
            "Sheet 18 list_dic_nps:  65\n",
            "Sheet 19 list_dic_nps:  65\n",
            "Sheet 20 list_dic_nps:  64\n",
            "Sheet 21 list_dic_nps:  65\n",
            "Sheet 22 list_dic_nps:  65\n",
            "Sheet 23 list_dic_nps:  65\n",
            "Sheet 24 list_dic_nps:  65\n",
            "Sheet 25 list_dic_nps:  65\n",
            "Sheet 26 list_dic_nps:  64\n",
            "Sheet 27 list_dic_nps:  40\n",
            "Sheet 28 list_dic_nps:  35\n",
            "Sheet 29 list_dic_nps:  63\n",
            "Sheet 30 list_dic_nps:  54\n",
            "Sheet 31 list_dic_nps:  65\n",
            "Sheet 32 list_dic_nps:  56\n",
            "Sheet 33 list_dic_nps:  63\n",
            "Sheet 34 list_dic_nps:  49\n",
            "Acabou as sheets!\n",
            "FIM DO EXCEL - isExcept True\n"
          ]
        }
      ],
      "source": [
        "from numpy.core.numeric import NaN\n",
        "# Montar Dataframe nesse padrão!\n",
        "# ['Requisição', 'Nota', 'Comentário', 'Responsável', 'Mês']\n",
        "\n",
        "path_excel = '/content/drive/MyDrive/1. Pós Ciência de Dados/1. Trabalho de Conclusão/Testes/Extrair Dados/Dados/Excel/Financeiro NPS.xlsx'\n",
        "\n",
        "# sheet_page = 0\n",
        "# df_excel = pd.read_excel(path_excel, sheet_name=sheet_page)\n",
        "\n",
        "\n",
        "isExcept = False\n",
        "sheet_page = 0\n",
        "\n",
        "full_list_nps = []\n",
        "\n",
        "while True:\n",
        "  #print('sheet_page:', sheet_page)\n",
        "  \n",
        "  try:\n",
        "\n",
        "    ################################################################################################\n",
        "\n",
        "    df_excel = pd.read_excel(path_excel, sheet_name=sheet_page)\n",
        "\n",
        "    i = 0\n",
        "    index_old = 0\n",
        "\n",
        "    isPrint = False\n",
        "\n",
        "    isFirst = False\n",
        "\n",
        "    isProtocolo = False\n",
        "    isNota = False\n",
        "    isComentario = False\n",
        "\n",
        "    isProtocolo_index = False\n",
        "    isNota_index = False\n",
        "    isComentario_index = False\n",
        "\n",
        "    index_cell_Protocolo = 0\n",
        "    index_cell_Nota = 0\n",
        "    index_cell_Comentario = 0\n",
        "\n",
        "    isOperador = False\n",
        "    operador_str = ''\n",
        "\n",
        "    list_dic_nps = [] # Lista de Dictionary\n",
        "\n",
        "\n",
        "    for index, row in df_excel.iterrows():\n",
        "\n",
        "      dic_nps = {'Requisição': NaN, 'Nota': NaN, 'Comentário': NaN, 'Responsável': NaN}\n",
        "\n",
        "      ### 1 - Se contém SÓ as colunas (['Protocolo', 'Nota', 'Comentário'])\n",
        "      if df_excel.columns.shape[0] == 3 and set(['Protocolo', 'Nota', 'Comentário']).issubset(df_excel.columns):\n",
        "        if isPrint:\n",
        "          print(index, row['Protocolo'], row['Nota'], row['Comentário'])\n",
        "\n",
        "        dic_nps['Requisição'] = row['Protocolo']\n",
        "        dic_nps['Comentário'] =  row['Comentário']\n",
        "        dic_nps['Nota'] = row['Nota']\n",
        "        dic_nps['Responsável'] = operador_str\n",
        "\n",
        "        list_dic_nps.append(dic_nps)\n",
        "\n",
        "      ### 2 - Se contém SO as 3 colunas e mais outras ['Protocolo', 'Nota', 'Comentário']\n",
        "      elif df_excel.columns.shape[0] > 3 and set(['Protocolo', 'Nota', 'Comentário']).issubset(df_excel.columns) and isOperador == False:\n",
        "        if isPrint:\n",
        "          print(index, row['Protocolo'], row['Nota'], row['Comentário'])\n",
        "\n",
        "        if type(row['Protocolo']) == str:\n",
        "          if 'Operador:' in row['Protocolo']:\n",
        "\n",
        "            isOperador = True\n",
        "            operador_str = row['Protocolo'].replace('Operador: ', '')\n",
        "\n",
        "            if isPrint:\n",
        "              print('Operador:', operador_str)\n",
        "        \n",
        "        if isOperador == False:\n",
        "          dic_nps['Requisição'] = row['Protocolo']\n",
        "          dic_nps['Comentário'] =  row['Comentário']\n",
        "          dic_nps['Nota'] = row['Nota']\n",
        "          dic_nps['Responsável'] = operador_str\n",
        "\n",
        "          list_dic_nps.append(dic_nps)\n",
        "\n",
        "      ### 3 - sem colunas definidas\n",
        "      else:\n",
        "\n",
        "        # print(index, row.shape)\n",
        "        # print(index, row)\n",
        "\n",
        "        # Mostra as linhas\n",
        "        #print('Linha - index:', index, 'index_old:', index_old)\n",
        "\n",
        "        index_cell = 0\n",
        "\n",
        "        ### INICIO = for cell ###\n",
        "        for cell in row:\n",
        "\n",
        "          index_cell = index_cell + 1\n",
        "          \n",
        "          # Acha a linha que contém o 'Operador: ')\n",
        "          if type(cell) == str:\n",
        "            #print('teste 1')\n",
        "\n",
        "            if 'Operador: ' in cell:\n",
        "\n",
        "              operador_str = cell.replace('Operador: ', '')\n",
        "\n",
        "              if isPrint:\n",
        "                print('Operador:', operador_str)\n",
        "\n",
        "              #print(dic_nps)\n",
        "\n",
        "              # Zera as variaveis, por que e um novo operado!\n",
        "              #isIndexPrint = False\n",
        "              isProtocolo = False\n",
        "              isNota = False\n",
        "              isComentario = False\n",
        "\n",
        "              isProtocolo_index = False\n",
        "              isNota_index = False\n",
        "              isComentario_index = False\n",
        "\n",
        "              index_cell_Protocolo = 0\n",
        "              index_cell_Nota = 0\n",
        "              index_cell_Comentario = 0\n",
        "\n",
        "            # Acha a linha que contém os ('Protocolo', 'Nota', 'Comentário')\n",
        "            ### Obtem os indeces das colunas Protocolo, Nota, Comentário\n",
        "            if isProtocolo == False or isNota == False or isComentario == False:\n",
        "\n",
        "              # print(cell)\n",
        "              if 'Protocolo' in cell and isProtocolo == False:\n",
        "                isProtocolo = True\n",
        "                index_cell_Protocolo = index_cell\n",
        "                #print(cell)\n",
        "\n",
        "              if 'Nota' in cell and isNota == False:\n",
        "                isNota = True\n",
        "                index_cell_Nota = index_cell\n",
        "                #print(cell)\n",
        "              \n",
        "              if 'Comentário' in cell and isComentario == False:\n",
        "                isComentario = True\n",
        "                index_cell_Comentario = index_cell\n",
        "                #print(cell)\n",
        "\n",
        "            if isProtocolo and isNota and isComentario:\n",
        "              if isPrint:\n",
        "                print('FLAGS = index:', index, isProtocolo, isNota, isComentario, 'index', index, '>', index_old, 'index_old')\n",
        "\n",
        "          # Se achou a linha que cotém os ('Protocolo', 'Nota', 'Comentário'), \n",
        "          # começa a pegar os valor de ('Protocolo', 'Nota', 'Comentário')\n",
        "          # index > index_old => Só entra nesse IF se estiver na proxima linha\n",
        "          # cell != 'Comentário' => pula a celular que contem a COLUNA = 'Comentário'\n",
        "          if isProtocolo and isNota and isComentario and index > index_old and cell != 'Comentário':\n",
        "\n",
        "            # print('index_old > index = ', index_old, '>', index)\n",
        "            # print('TESTE 1', row.shape, 'index_cell:', index_cell, 'Protocolo:', index_cell_Protocolo, 'Nota:', index_cell_Nota, 'Comentario:', index_cell_Comentario)\n",
        "\n",
        "            if index_cell == index_cell_Protocolo:\n",
        "              if isPrint:\n",
        "                print('Protocolo:', cell)\n",
        "              dic_nps['Requisição'] = cell\n",
        "              isProtocolo_index = True\n",
        "\n",
        "            if index_cell == index_cell_Comentario:\n",
        "              if isPrint:\n",
        "                print('Comentário:', cell)\n",
        "              dic_nps['Comentário'] = cell\n",
        "              isComentario_index = True\n",
        "          \n",
        "            if index_cell == index_cell_Nota:\n",
        "              if isPrint:\n",
        "                print('Nota:', cell)\n",
        "              dic_nps['Nota'] = cell\n",
        "              isNota_index = True\n",
        "\n",
        "            if isProtocolo_index and isComentario_index and isNota_index and isFirst ==  False:\n",
        "              isFirst = True\n",
        "              dic_nps['Responsável'] = operador_str\n",
        "              list_dic_nps.append(dic_nps)\n",
        "\n",
        "              if isPrint:\n",
        "                print(dic_nps)\n",
        "\n",
        "          ### FIM = for cell ###\n",
        "\n",
        "      # # Zera o index, para a proxima linha\n",
        "      # index_cell = 0\n",
        "      index_old = index\n",
        "      isFirst = False\n",
        "      isOperador = False\n",
        "      \n",
        "      i = i + 1\n",
        "\n",
        "      # if i == 30:\n",
        "      #   break\n",
        "\n",
        "    print('Sheet', sheet_page, 'list_dic_nps: ', len(list_dic_nps))\n",
        "\n",
        "    full_list_nps.append(list_dic_nps)\n",
        "\n",
        "    ################################################################################################\n",
        "  except: \n",
        "    isExcept = True\n",
        "    print('Acabou as sheets!')\n",
        "\n",
        "  sheet_page = sheet_page + 1\n",
        "\n",
        "  if isExcept:\n",
        "    print('FIM DO EXCEL - isExcept', isExcept)\n",
        "    break\n"
      ]
    },
    {
      "cell_type": "code",
      "execution_count": null,
      "metadata": {
        "colab": {
          "base_uri": "https://localhost:8080/"
        },
        "id": "GVK7t3xAAq_V",
        "outputId": "50079fcc-6400-4a45-b8b3-c62573bdeddc"
      },
      "outputs": [
        {
          "output_type": "stream",
          "name": "stdout",
          "text": [
            "full_list_nps 35\n",
            "list_dic_nps 49\n"
          ]
        }
      ],
      "source": [
        "print('full_list_nps', len(full_list_nps))\n",
        "print('list_dic_nps', len(list_dic_nps))"
      ]
    },
    {
      "cell_type": "code",
      "execution_count": null,
      "metadata": {
        "colab": {
          "base_uri": "https://localhost:8080/"
        },
        "id": "4dwjDb7LDkYg",
        "outputId": "86a73f9a-9476-4417-ce25-d99206b3424b"
      },
      "outputs": [
        {
          "output_type": "execute_result",
          "data": {
            "text/plain": [
              "[{'Comentário': nan,\n",
              "  'Nota': 10.0,\n",
              "  'Requisição': '1637168091318_502',\n",
              "  'Responsável': ''},\n",
              " {'Comentário': nan,\n",
              "  'Nota': 10.0,\n",
              "  'Requisição': '1637167000012_481',\n",
              "  'Responsável': ''},\n",
              " {'Comentário': nan,\n",
              "  'Nota': 10.0,\n",
              "  'Requisição': '1637167781422_494',\n",
              "  'Responsável': ''},\n",
              " {'Comentário': nan,\n",
              "  'Nota': 10.0,\n",
              "  'Requisição': '1637241232868_234',\n",
              "  'Responsável': ''},\n",
              " {'Comentário': nan,\n",
              "  'Nota': 10.0,\n",
              "  'Requisição': '1637240861445_226',\n",
              "  'Responsável': ''}]"
            ]
          },
          "metadata": {},
          "execution_count": 43
        }
      ],
      "source": [
        "list_dic_nps[0:5]"
      ]
    },
    {
      "cell_type": "code",
      "execution_count": null,
      "metadata": {
        "colab": {
          "base_uri": "https://localhost:8080/"
        },
        "id": "w06VDYy_3tRA",
        "outputId": "7d4831c7-fd49-472a-eba2-cf2a4f4a269f"
      },
      "outputs": [
        {
          "output_type": "execute_result",
          "data": {
            "text/plain": [
              "['./drive/MyDrive/1. Pós Ciência de Dados/1. Trabalho de Conclusão/Testes/Extrair Dados/Dados/Excel/NPS_FINANCEIRO_JAN_MAI_21.xlsx',\n",
              " './drive/MyDrive/1. Pós Ciência de Dados/1. Trabalho de Conclusão/Testes/Extrair Dados/Dados/Excel/NPS_FINANCEIRO_JUN_OUT_21.xlsx',\n",
              " './drive/MyDrive/1. Pós Ciência de Dados/1. Trabalho de Conclusão/Testes/Extrair Dados/Dados/Excel/Relacionamento NPS.xlsx',\n",
              " './drive/MyDrive/1. Pós Ciência de Dados/1. Trabalho de Conclusão/Testes/Extrair Dados/Dados/Excel/SUPORTE da SafeWeb - custom.safw.ao.avaliacaonps.xlsx',\n",
              " './drive/MyDrive/1. Pós Ciência de Dados/1. Trabalho de Conclusão/Testes/Extrair Dados/Dados/Excel/Suporte PSS.xlsx',\n",
              " './drive/MyDrive/1. Pós Ciência de Dados/1. Trabalho de Conclusão/Testes/Extrair Dados/Dados/Excel/SUPORTE - custom.safw.ao.avaliacaonps.xlsx',\n",
              " './drive/MyDrive/1. Pós Ciência de Dados/1. Trabalho de Conclusão/Testes/Extrair Dados/Dados/Excel/Financeiro NPS.xlsx']"
            ]
          },
          "metadata": {},
          "execution_count": 44
        }
      ],
      "source": [
        "import os\n",
        "import pandas as pd\n",
        "\n",
        "if isPathLocal:\n",
        "  path_root = 'D:\\\\2. Ciência de Dados\\\\1. Trabalho de Conclusão\\\\Dados\\\\Excel\\\\'\n",
        "else:\n",
        "  path_root = './drive/MyDrive/1. Pós Ciência de Dados/1. Trabalho de Conclusão/Testes/Extrair Dados/Dados/Excel/'\n",
        "\n",
        "# /content/drive/MyDrive/1. Pós Ciência de Dados/1. Trabalho de Conclusão/Testes/Extrair Dados/Dados/Excel\n",
        "# Obtem os arquivos na pasta\n",
        "files = os.listdir(path_root)\n",
        "\n",
        "path_full_files = []\n",
        "for file in files:\n",
        "  path_full = path_root + file\n",
        "  path_full_files.append(path_full)\n",
        "  #print(path_full)\n",
        "\n",
        "path_full_files"
      ]
    },
    {
      "cell_type": "code",
      "execution_count": null,
      "metadata": {
        "colab": {
          "base_uri": "https://localhost:8080/"
        },
        "id": "C2cNCFAI2_gf",
        "outputId": "9f6c30f8-11e9-4e64-9e2d-56f7b137a5e6"
      },
      "outputs": [
        {
          "output_type": "stream",
          "name": "stdout",
          "text": [
            "./drive/MyDrive/1. Pós Ciência de Dados/1. Trabalho de Conclusão/Testes/Extrair Dados/Dados/Excel/NPS_FINANCEIRO_JAN_MAI_21.xlsx\n",
            "Sheet 0 list_dic_nps:  11\n",
            "Sheet 1 list_dic_nps:  76\n",
            "Sheet 2 list_dic_nps:  120\n",
            "Sheet 3 list_dic_nps:  185\n",
            "Sheet 4 list_dic_nps:  242\n",
            "Sheet 5 list_dic_nps:  302\n",
            "Sheet 6 list_dic_nps:  367\n",
            "Sheet 7 list_dic_nps:  411\n",
            "Sheet 8 list_dic_nps:  411\n",
            "Acabou as sheets!\n",
            "FIM DO EXCEL - isExcept True\n",
            "./drive/MyDrive/1. Pós Ciência de Dados/1. Trabalho de Conclusão/Testes/Extrair Dados/Dados/Excel/NPS_FINANCEIRO_JUN_OUT_21.xlsx\n",
            "Sheet 0 list_dic_nps:  36\n",
            "Sheet 1 list_dic_nps:  101\n",
            "Sheet 2 list_dic_nps:  166\n",
            "Sheet 3 list_dic_nps:  219\n",
            "Sheet 4 list_dic_nps:  274\n",
            "Sheet 5 list_dic_nps:  329\n",
            "Sheet 6 list_dic_nps:  394\n",
            "Sheet 7 list_dic_nps:  459\n",
            "Sheet 8 list_dic_nps:  524\n",
            "Sheet 9 list_dic_nps:  589\n",
            "Sheet 10 list_dic_nps:  654\n",
            "Sheet 11 list_dic_nps:  708\n",
            "Sheet 12 list_dic_nps:  773\n",
            "Sheet 13 list_dic_nps:  838\n",
            "Sheet 14 list_dic_nps:  902\n",
            "Sheet 15 list_dic_nps:  967\n",
            "Sheet 16 list_dic_nps:  1032\n",
            "Sheet 17 list_dic_nps:  1097\n",
            "Sheet 18 list_dic_nps:  1162\n",
            "Sheet 19 list_dic_nps:  1227\n",
            "Sheet 20 list_dic_nps:  1265\n",
            "Sheet 21 list_dic_nps:  1299\n",
            "Sheet 22 list_dic_nps:  1352\n",
            "Sheet 23 list_dic_nps:  1417\n",
            "Sheet 24 list_dic_nps:  1458\n",
            "Sheet 25 list_dic_nps:  1479\n",
            "Acabou as sheets!\n",
            "FIM DO EXCEL - isExcept True\n",
            "./drive/MyDrive/1. Pós Ciência de Dados/1. Trabalho de Conclusão/Testes/Extrair Dados/Dados/Excel/Relacionamento NPS.xlsx\n",
            "Sheet 0 list_dic_nps:  11\n",
            "Sheet 1 list_dic_nps:  76\n",
            "Sheet 2 list_dic_nps:  141\n",
            "Sheet 3 list_dic_nps:  206\n",
            "Sheet 4 list_dic_nps:  271\n",
            "Sheet 5 list_dic_nps:  336\n",
            "Sheet 6 list_dic_nps:  401\n",
            "Sheet 7 list_dic_nps:  466\n",
            "Sheet 8 list_dic_nps:  531\n",
            "Sheet 9 list_dic_nps:  585\n",
            "Sheet 10 list_dic_nps:  650\n",
            "Sheet 11 list_dic_nps:  715\n",
            "Sheet 12 list_dic_nps:  780\n",
            "Sheet 13 list_dic_nps:  835\n",
            "Sheet 14 list_dic_nps:  900\n",
            "Sheet 15 list_dic_nps:  965\n",
            "Sheet 16 list_dic_nps:  1030\n",
            "Sheet 17 list_dic_nps:  1095\n",
            "Sheet 18 list_dic_nps:  1160\n",
            "Sheet 19 list_dic_nps:  1212\n",
            "Sheet 20 list_dic_nps:  1277\n",
            "Sheet 21 list_dic_nps:  1342\n",
            "Sheet 22 list_dic_nps:  1407\n",
            "Sheet 23 list_dic_nps:  1472\n",
            "Sheet 24 list_dic_nps:  1537\n",
            "Sheet 25 list_dic_nps:  1592\n",
            "Sheet 26 list_dic_nps:  1657\n",
            "Sheet 27 list_dic_nps:  1714\n",
            "Sheet 28 list_dic_nps:  1714\n",
            "Acabou as sheets!\n",
            "FIM DO EXCEL - isExcept True\n",
            "./drive/MyDrive/1. Pós Ciência de Dados/1. Trabalho de Conclusão/Testes/Extrair Dados/Dados/Excel/SUPORTE da SafeWeb - custom.safw.ao.avaliacaonps.xlsx\n",
            "Sheet 0 list_dic_nps:  3\n",
            "Sheet 1 list_dic_nps:  51\n",
            "Sheet 2 list_dic_nps:  116\n",
            "Sheet 3 list_dic_nps:  181\n",
            "Sheet 4 list_dic_nps:  242\n",
            "Sheet 5 list_dic_nps:  307\n",
            "Sheet 6 list_dic_nps:  372\n",
            "Sheet 7 list_dic_nps:  436\n",
            "Sheet 8 list_dic_nps:  499\n",
            "Sheet 9 list_dic_nps:  563\n",
            "Sheet 10 list_dic_nps:  615\n",
            "Sheet 11 list_dic_nps:  679\n",
            "Sheet 12 list_dic_nps:  744\n",
            "Sheet 13 list_dic_nps:  808\n",
            "Sheet 14 list_dic_nps:  873\n",
            "Sheet 15 list_dic_nps:  938\n",
            "Sheet 16 list_dic_nps:  1003\n",
            "Sheet 17 list_dic_nps:  1067\n",
            "Sheet 18 list_dic_nps:  1131\n",
            "Sheet 19 list_dic_nps:  1195\n",
            "Sheet 20 list_dic_nps:  1260\n",
            "Sheet 21 list_dic_nps:  1324\n",
            "Sheet 22 list_dic_nps:  1385\n",
            "Sheet 23 list_dic_nps:  1449\n",
            "Sheet 24 list_dic_nps:  1514\n",
            "Sheet 25 list_dic_nps:  1579\n",
            "Sheet 26 list_dic_nps:  1642\n",
            "Sheet 27 list_dic_nps:  1706\n",
            "Sheet 28 list_dic_nps:  1769\n",
            "Sheet 29 list_dic_nps:  1832\n",
            "Sheet 30 list_dic_nps:  1896\n",
            "Sheet 31 list_dic_nps:  1960\n",
            "Sheet 32 list_dic_nps:  2025\n",
            "Sheet 33 list_dic_nps:  2089\n",
            "Sheet 34 list_dic_nps:  2154\n",
            "Sheet 35 list_dic_nps:  2218\n",
            "Sheet 36 list_dic_nps:  2282\n",
            "Sheet 37 list_dic_nps:  2346\n",
            "Sheet 38 list_dic_nps:  2411\n",
            "Sheet 39 list_dic_nps:  2476\n",
            "Sheet 40 list_dic_nps:  2541\n",
            "Sheet 41 list_dic_nps:  2605\n",
            "Sheet 42 list_dic_nps:  2668\n",
            "Sheet 43 list_dic_nps:  2733\n",
            "Sheet 44 list_dic_nps:  2788\n",
            "Sheet 45 list_dic_nps:  2830\n",
            "Sheet 46 list_dic_nps:  2894\n",
            "Sheet 47 list_dic_nps:  2958\n",
            "Sheet 48 list_dic_nps:  3022\n",
            "Sheet 49 list_dic_nps:  3087\n",
            "Sheet 50 list_dic_nps:  3152\n",
            "Sheet 51 list_dic_nps:  3217\n",
            "Sheet 52 list_dic_nps:  3281\n",
            "Sheet 53 list_dic_nps:  3346\n",
            "Sheet 54 list_dic_nps:  3411\n",
            "Sheet 55 list_dic_nps:  3476\n",
            "Sheet 56 list_dic_nps:  3541\n",
            "Sheet 57 list_dic_nps:  3605\n",
            "Sheet 58 list_dic_nps:  3670\n",
            "Sheet 59 list_dic_nps:  3734\n",
            "Sheet 60 list_dic_nps:  3799\n",
            "Sheet 61 list_dic_nps:  3862\n",
            "Sheet 62 list_dic_nps:  3927\n",
            "Sheet 63 list_dic_nps:  3979\n",
            "Sheet 64 list_dic_nps:  4036\n",
            "Sheet 65 list_dic_nps:  4101\n",
            "Sheet 66 list_dic_nps:  4166\n",
            "Sheet 67 list_dic_nps:  4227\n",
            "Sheet 68 list_dic_nps:  4269\n",
            "Sheet 69 list_dic_nps:  4334\n",
            "Sheet 70 list_dic_nps:  4398\n",
            "Sheet 71 list_dic_nps:  4463\n",
            "Sheet 72 list_dic_nps:  4528\n",
            "Sheet 73 list_dic_nps:  4593\n",
            "Sheet 74 list_dic_nps:  4658\n",
            "Sheet 75 list_dic_nps:  4723\n",
            "Sheet 76 list_dic_nps:  4788\n",
            "Sheet 77 list_dic_nps:  4853\n",
            "Sheet 78 list_dic_nps:  4918\n",
            "Sheet 79 list_dic_nps:  4982\n",
            "Sheet 80 list_dic_nps:  5046\n",
            "Sheet 81 list_dic_nps:  5111\n",
            "Sheet 82 list_dic_nps:  5176\n",
            "Sheet 83 list_dic_nps:  5241\n",
            "Sheet 84 list_dic_nps:  5304\n",
            "Sheet 85 list_dic_nps:  5369\n",
            "Sheet 86 list_dic_nps:  5427\n",
            "Sheet 87 list_dic_nps:  5480\n",
            "Sheet 88 list_dic_nps:  5535\n",
            "Sheet 89 list_dic_nps:  5600\n",
            "Sheet 90 list_dic_nps:  5664\n",
            "Sheet 91 list_dic_nps:  5728\n",
            "Sheet 92 list_dic_nps:  5792\n",
            "Sheet 93 list_dic_nps:  5857\n",
            "Sheet 94 list_dic_nps:  5922\n",
            "Sheet 95 list_dic_nps:  5986\n",
            "Sheet 96 list_dic_nps:  6050\n",
            "Sheet 97 list_dic_nps:  6113\n",
            "Sheet 98 list_dic_nps:  6170\n",
            "Sheet 99 list_dic_nps:  6227\n",
            "Sheet 100 list_dic_nps:  6291\n",
            "Sheet 101 list_dic_nps:  6355\n",
            "Sheet 102 list_dic_nps:  6419\n",
            "Sheet 103 list_dic_nps:  6483\n",
            "Sheet 104 list_dic_nps:  6548\n",
            "Sheet 105 list_dic_nps:  6610\n",
            "Sheet 106 list_dic_nps:  6675\n",
            "Sheet 107 list_dic_nps:  6740\n",
            "Sheet 108 list_dic_nps:  6802\n",
            "Sheet 109 list_dic_nps:  6867\n",
            "Sheet 110 list_dic_nps:  6931\n",
            "Sheet 111 list_dic_nps:  6995\n",
            "Sheet 112 list_dic_nps:  7059\n",
            "Sheet 113 list_dic_nps:  7123\n",
            "Sheet 114 list_dic_nps:  7188\n",
            "Sheet 115 list_dic_nps:  7253\n",
            "Sheet 116 list_dic_nps:  7317\n",
            "Sheet 117 list_dic_nps:  7382\n",
            "Sheet 118 list_dic_nps:  7447\n",
            "Sheet 119 list_dic_nps:  7506\n",
            "Sheet 120 list_dic_nps:  7565\n",
            "Sheet 121 list_dic_nps:  7606\n",
            "Sheet 122 list_dic_nps:  7671\n",
            "Sheet 123 list_dic_nps:  7725\n",
            "Sheet 124 list_dic_nps:  7790\n",
            "Sheet 125 list_dic_nps:  7855\n",
            "Sheet 126 list_dic_nps:  7918\n",
            "Sheet 127 list_dic_nps:  7982\n",
            "Sheet 128 list_dic_nps:  8047\n",
            "Sheet 129 list_dic_nps:  8111\n",
            "Sheet 130 list_dic_nps:  8174\n",
            "Sheet 131 list_dic_nps:  8238\n",
            "Sheet 132 list_dic_nps:  8292\n",
            "Sheet 133 list_dic_nps:  8332\n",
            "Sheet 134 list_dic_nps:  8332\n",
            "Acabou as sheets!\n",
            "FIM DO EXCEL - isExcept True\n",
            "./drive/MyDrive/1. Pós Ciência de Dados/1. Trabalho de Conclusão/Testes/Extrair Dados/Dados/Excel/Suporte PSS.xlsx\n",
            "Sheet 0 list_dic_nps:  11\n",
            "Sheet 1 list_dic_nps:  75\n",
            "Sheet 2 list_dic_nps:  140\n",
            "Sheet 3 list_dic_nps:  204\n",
            "Sheet 4 list_dic_nps:  269\n",
            "Sheet 5 list_dic_nps:  334\n",
            "Sheet 6 list_dic_nps:  399\n",
            "Sheet 7 list_dic_nps:  464\n",
            "Sheet 8 list_dic_nps:  529\n",
            "Sheet 9 list_dic_nps:  593\n",
            "Sheet 10 list_dic_nps:  652\n",
            "Sheet 11 list_dic_nps:  715\n",
            "Sheet 12 list_dic_nps:  769\n",
            "Sheet 13 list_dic_nps:  834\n",
            "Sheet 14 list_dic_nps:  899\n",
            "Sheet 15 list_dic_nps:  964\n",
            "Sheet 16 list_dic_nps:  1029\n",
            "Sheet 17 list_dic_nps:  1094\n",
            "Sheet 18 list_dic_nps:  1156\n",
            "Sheet 19 list_dic_nps:  1211\n",
            "Sheet 20 list_dic_nps:  1276\n",
            "Sheet 21 list_dic_nps:  1341\n",
            "Sheet 22 list_dic_nps:  1405\n",
            "Sheet 23 list_dic_nps:  1470\n",
            "Sheet 24 list_dic_nps:  1535\n",
            "Sheet 25 list_dic_nps:  1600\n",
            "Sheet 26 list_dic_nps:  1665\n",
            "Sheet 27 list_dic_nps:  1729\n",
            "Sheet 28 list_dic_nps:  1794\n",
            "Sheet 29 list_dic_nps:  1859\n",
            "Sheet 30 list_dic_nps:  1922\n",
            "Sheet 31 list_dic_nps:  1987\n",
            "Sheet 32 list_dic_nps:  2047\n",
            "Sheet 33 list_dic_nps:  2094\n",
            "Sheet 34 list_dic_nps:  2159\n",
            "Sheet 35 list_dic_nps:  2189\n",
            "Acabou as sheets!\n",
            "FIM DO EXCEL - isExcept True\n",
            "./drive/MyDrive/1. Pós Ciência de Dados/1. Trabalho de Conclusão/Testes/Extrair Dados/Dados/Excel/SUPORTE - custom.safw.ao.avaliacaonps.xlsx\n",
            "Sheet 0 list_dic_nps:  3\n",
            "Sheet 1 list_dic_nps:  51\n",
            "Sheet 2 list_dic_nps:  116\n",
            "Sheet 3 list_dic_nps:  181\n",
            "Sheet 4 list_dic_nps:  242\n",
            "Sheet 5 list_dic_nps:  307\n",
            "Sheet 6 list_dic_nps:  372\n",
            "Sheet 7 list_dic_nps:  436\n",
            "Sheet 8 list_dic_nps:  499\n",
            "Sheet 9 list_dic_nps:  563\n",
            "Sheet 10 list_dic_nps:  615\n",
            "Sheet 11 list_dic_nps:  679\n",
            "Sheet 12 list_dic_nps:  744\n",
            "Sheet 13 list_dic_nps:  808\n",
            "Sheet 14 list_dic_nps:  873\n",
            "Sheet 15 list_dic_nps:  938\n",
            "Sheet 16 list_dic_nps:  1003\n",
            "Sheet 17 list_dic_nps:  1067\n",
            "Sheet 18 list_dic_nps:  1131\n",
            "Sheet 19 list_dic_nps:  1195\n",
            "Sheet 20 list_dic_nps:  1260\n",
            "Sheet 21 list_dic_nps:  1324\n",
            "Sheet 22 list_dic_nps:  1385\n",
            "Sheet 23 list_dic_nps:  1449\n",
            "Sheet 24 list_dic_nps:  1514\n",
            "Sheet 25 list_dic_nps:  1579\n",
            "Sheet 26 list_dic_nps:  1642\n",
            "Sheet 27 list_dic_nps:  1706\n",
            "Sheet 28 list_dic_nps:  1769\n",
            "Sheet 29 list_dic_nps:  1832\n",
            "Sheet 30 list_dic_nps:  1896\n",
            "Sheet 31 list_dic_nps:  1960\n",
            "Sheet 32 list_dic_nps:  2025\n",
            "Sheet 33 list_dic_nps:  2089\n",
            "Sheet 34 list_dic_nps:  2154\n",
            "Sheet 35 list_dic_nps:  2218\n",
            "Sheet 36 list_dic_nps:  2282\n",
            "Sheet 37 list_dic_nps:  2346\n",
            "Sheet 38 list_dic_nps:  2411\n",
            "Sheet 39 list_dic_nps:  2476\n",
            "Sheet 40 list_dic_nps:  2541\n",
            "Sheet 41 list_dic_nps:  2605\n",
            "Sheet 42 list_dic_nps:  2668\n",
            "Sheet 43 list_dic_nps:  2733\n",
            "Sheet 44 list_dic_nps:  2788\n",
            "Sheet 45 list_dic_nps:  2830\n",
            "Sheet 46 list_dic_nps:  2894\n",
            "Sheet 47 list_dic_nps:  2958\n",
            "Sheet 48 list_dic_nps:  3022\n",
            "Sheet 49 list_dic_nps:  3087\n",
            "Sheet 50 list_dic_nps:  3152\n",
            "Sheet 51 list_dic_nps:  3217\n",
            "Sheet 52 list_dic_nps:  3281\n",
            "Sheet 53 list_dic_nps:  3346\n",
            "Sheet 54 list_dic_nps:  3411\n",
            "Sheet 55 list_dic_nps:  3476\n",
            "Sheet 56 list_dic_nps:  3541\n",
            "Sheet 57 list_dic_nps:  3605\n",
            "Sheet 58 list_dic_nps:  3670\n",
            "Sheet 59 list_dic_nps:  3734\n",
            "Sheet 60 list_dic_nps:  3799\n",
            "Sheet 61 list_dic_nps:  3862\n",
            "Sheet 62 list_dic_nps:  3927\n",
            "Sheet 63 list_dic_nps:  3979\n",
            "Sheet 64 list_dic_nps:  4036\n",
            "Sheet 65 list_dic_nps:  4101\n",
            "Sheet 66 list_dic_nps:  4166\n",
            "Sheet 67 list_dic_nps:  4227\n",
            "Sheet 68 list_dic_nps:  4269\n",
            "Sheet 69 list_dic_nps:  4334\n",
            "Sheet 70 list_dic_nps:  4398\n",
            "Sheet 71 list_dic_nps:  4463\n",
            "Sheet 72 list_dic_nps:  4528\n",
            "Sheet 73 list_dic_nps:  4593\n",
            "Sheet 74 list_dic_nps:  4658\n",
            "Sheet 75 list_dic_nps:  4723\n",
            "Sheet 76 list_dic_nps:  4788\n",
            "Sheet 77 list_dic_nps:  4853\n",
            "Sheet 78 list_dic_nps:  4918\n",
            "Sheet 79 list_dic_nps:  4982\n",
            "Sheet 80 list_dic_nps:  5046\n",
            "Sheet 81 list_dic_nps:  5111\n",
            "Sheet 82 list_dic_nps:  5176\n",
            "Sheet 83 list_dic_nps:  5241\n",
            "Sheet 84 list_dic_nps:  5304\n",
            "Sheet 85 list_dic_nps:  5369\n",
            "Sheet 86 list_dic_nps:  5427\n",
            "Sheet 87 list_dic_nps:  5480\n",
            "Sheet 88 list_dic_nps:  5535\n",
            "Sheet 89 list_dic_nps:  5600\n",
            "Sheet 90 list_dic_nps:  5664\n",
            "Sheet 91 list_dic_nps:  5728\n",
            "Sheet 92 list_dic_nps:  5792\n",
            "Sheet 93 list_dic_nps:  5857\n",
            "Sheet 94 list_dic_nps:  5922\n",
            "Sheet 95 list_dic_nps:  5986\n",
            "Sheet 96 list_dic_nps:  6050\n",
            "Sheet 97 list_dic_nps:  6113\n",
            "Sheet 98 list_dic_nps:  6170\n",
            "Sheet 99 list_dic_nps:  6227\n",
            "Sheet 100 list_dic_nps:  6291\n",
            "Sheet 101 list_dic_nps:  6355\n",
            "Sheet 102 list_dic_nps:  6419\n",
            "Sheet 103 list_dic_nps:  6483\n",
            "Sheet 104 list_dic_nps:  6548\n",
            "Sheet 105 list_dic_nps:  6610\n",
            "Sheet 106 list_dic_nps:  6675\n",
            "Sheet 107 list_dic_nps:  6740\n",
            "Sheet 108 list_dic_nps:  6802\n",
            "Sheet 109 list_dic_nps:  6867\n",
            "Sheet 110 list_dic_nps:  6931\n",
            "Sheet 111 list_dic_nps:  6995\n",
            "Sheet 112 list_dic_nps:  7059\n",
            "Sheet 113 list_dic_nps:  7123\n",
            "Sheet 114 list_dic_nps:  7188\n",
            "Sheet 115 list_dic_nps:  7253\n",
            "Sheet 116 list_dic_nps:  7317\n",
            "Sheet 117 list_dic_nps:  7382\n",
            "Sheet 118 list_dic_nps:  7447\n",
            "Sheet 119 list_dic_nps:  7506\n",
            "Sheet 120 list_dic_nps:  7565\n",
            "Sheet 121 list_dic_nps:  7606\n",
            "Sheet 122 list_dic_nps:  7671\n",
            "Sheet 123 list_dic_nps:  7725\n",
            "Sheet 124 list_dic_nps:  7790\n",
            "Sheet 125 list_dic_nps:  7855\n",
            "Sheet 126 list_dic_nps:  7918\n",
            "Sheet 127 list_dic_nps:  7982\n",
            "Sheet 128 list_dic_nps:  8047\n",
            "Sheet 129 list_dic_nps:  8111\n",
            "Sheet 130 list_dic_nps:  8174\n",
            "Sheet 131 list_dic_nps:  8238\n",
            "Sheet 132 list_dic_nps:  8292\n",
            "Sheet 133 list_dic_nps:  8332\n",
            "Sheet 134 list_dic_nps:  8332\n",
            "Acabou as sheets!\n",
            "FIM DO EXCEL - isExcept True\n",
            "./drive/MyDrive/1. Pós Ciência de Dados/1. Trabalho de Conclusão/Testes/Extrair Dados/Dados/Excel/Financeiro NPS.xlsx\n",
            "Sheet 0 list_dic_nps:  11\n",
            "Sheet 1 list_dic_nps:  76\n",
            "Sheet 2 list_dic_nps:  141\n",
            "Sheet 3 list_dic_nps:  206\n",
            "Sheet 4 list_dic_nps:  266\n",
            "Sheet 5 list_dic_nps:  306\n",
            "Sheet 6 list_dic_nps:  328\n",
            "Sheet 7 list_dic_nps:  393\n",
            "Sheet 8 list_dic_nps:  458\n",
            "Sheet 9 list_dic_nps:  523\n",
            "Sheet 10 list_dic_nps:  588\n",
            "Sheet 11 list_dic_nps:  653\n",
            "Sheet 12 list_dic_nps:  718\n",
            "Sheet 13 list_dic_nps:  783\n",
            "Sheet 14 list_dic_nps:  841\n",
            "Sheet 15 list_dic_nps:  895\n",
            "Sheet 16 list_dic_nps:  960\n",
            "Sheet 17 list_dic_nps:  1025\n",
            "Sheet 18 list_dic_nps:  1090\n",
            "Sheet 19 list_dic_nps:  1155\n",
            "Sheet 20 list_dic_nps:  1219\n",
            "Sheet 21 list_dic_nps:  1284\n",
            "Sheet 22 list_dic_nps:  1349\n",
            "Sheet 23 list_dic_nps:  1414\n",
            "Sheet 24 list_dic_nps:  1479\n",
            "Sheet 25 list_dic_nps:  1544\n",
            "Sheet 26 list_dic_nps:  1608\n",
            "Sheet 27 list_dic_nps:  1648\n",
            "Sheet 28 list_dic_nps:  1683\n",
            "Sheet 29 list_dic_nps:  1746\n",
            "Sheet 30 list_dic_nps:  1800\n",
            "Sheet 31 list_dic_nps:  1865\n",
            "Sheet 32 list_dic_nps:  1921\n",
            "Sheet 33 list_dic_nps:  1984\n",
            "Sheet 34 list_dic_nps:  2033\n",
            "Acabou as sheets!\n",
            "FIM DO EXCEL - isExcept True\n"
          ]
        }
      ],
      "source": [
        "from numpy.core.numeric import NaN\n",
        "# Montar Dataframe nesse padrão!\n",
        "# ['Requisição', 'Nota', 'Comentário', 'Responsável', 'Mês']\n",
        "\n",
        "# sheet_page = 27\n",
        "# df_excel = pd.read_excel(path_excel, sheet_name=sheet_page)\n",
        "\n",
        "full_list_dic_nps = []\n",
        "\n",
        "for file_excel in path_full_files:\n",
        "\n",
        "  print(file_excel)\n",
        "\n",
        "  isExcept = False\n",
        "  sheet_page = 0\n",
        "\n",
        "  list_dic_nps = [] # Lista de Dictionary\n",
        "\n",
        "  operador_str = ''\n",
        "\n",
        "  while True:\n",
        "    #print('sheet_page:', sheet_page)\n",
        "    \n",
        "    try:\n",
        "\n",
        "      ################################################################################################\n",
        "\n",
        "      df_excel = pd.read_excel(file_excel, sheet_name=sheet_page)\n",
        "\n",
        "      i = 0\n",
        "      index_old = 0\n",
        "\n",
        "      isPrint = False\n",
        "\n",
        "      isFirst = False\n",
        "\n",
        "      isProtocolo = False\n",
        "      isNota = False\n",
        "      isComentario = False\n",
        "\n",
        "      isProtocolo_index = False\n",
        "      isNota_index = False\n",
        "      isComentario_index = False\n",
        "\n",
        "      index_cell_Protocolo = 0\n",
        "      index_cell_Nota = 0\n",
        "      index_cell_Comentario = 0\n",
        "\n",
        "      isOperador = False\n",
        "      #operador_str = ''\n",
        "\n",
        "      # list_dic_nps = [] # Lista de Dictionary\n",
        "\n",
        "\n",
        "      for index, row in df_excel.iterrows():\n",
        "\n",
        "        dic_nps = {'Requisição': NaN, 'Nota': NaN, 'Comentário': NaN, 'Responsável': NaN}\n",
        "\n",
        "        ### 1 - Se contém SÓ as colunas (['Protocolo', 'Nota', 'Comentário'])\n",
        "        if df_excel.columns.shape[0] == 3 and set(['Protocolo', 'Nota', 'Comentário']).issubset(df_excel.columns):\n",
        "          if isPrint:\n",
        "            print(index, row['Protocolo'], row['Nota'], row['Comentário'])\n",
        "\n",
        "          dic_nps['Requisição'] = row['Protocolo']\n",
        "          dic_nps['Comentário'] =  row['Comentário']\n",
        "          dic_nps['Nota'] = row['Nota']\n",
        "          dic_nps['Responsável'] = operador_str\n",
        "\n",
        "          list_dic_nps.append(dic_nps)\n",
        "\n",
        "        ### 2 - Se contém SO as 3 colunas e mais outras ['Protocolo', 'Nota', 'Comentário']\n",
        "        elif df_excel.columns.shape[0] > 3 and set(['Protocolo', 'Nota', 'Comentário']).issubset(df_excel.columns) and isOperador == False:\n",
        "          if isPrint:\n",
        "            print(index, row['Protocolo'], row['Nota'], row['Comentário'])\n",
        "\n",
        "          if type(row['Protocolo']) == str:\n",
        "            if 'Operador:' in row['Protocolo']:\n",
        "\n",
        "              isOperador = True\n",
        "              operador_str = row['Protocolo'].replace('Operador: ', '')\n",
        "\n",
        "              if isPrint:\n",
        "                print('Operador:', operador_str)\n",
        "          \n",
        "          if isOperador == False:\n",
        "            dic_nps['Requisição'] = row['Protocolo']\n",
        "            dic_nps['Comentário'] =  row['Comentário']\n",
        "            dic_nps['Nota'] = row['Nota']\n",
        "            dic_nps['Responsável'] = operador_str\n",
        "\n",
        "            list_dic_nps.append(dic_nps)\n",
        "\n",
        "        ### 3 - sem colunas definidas\n",
        "        else:\n",
        "\n",
        "          # print(index, row.shape)\n",
        "          # print(index, row)\n",
        "\n",
        "          # Mostra as linhas\n",
        "          #print('Linha - index:', index, 'index_old:', index_old)\n",
        "\n",
        "          index_cell = 0\n",
        "\n",
        "          ### INICIO = for cell ###\n",
        "          for cell in row:\n",
        "\n",
        "            index_cell = index_cell + 1\n",
        "            \n",
        "            # Acha a linha que contém o 'Operador: ')\n",
        "            if type(cell) == str:\n",
        "              #print('teste 1')\n",
        "\n",
        "              if 'Operador: ' in cell:\n",
        "\n",
        "                operador_str = cell.replace('Operador: ', '')\n",
        "\n",
        "                if isPrint:\n",
        "                  print('Operador:', operador_str)\n",
        "\n",
        "                #print(dic_nps)\n",
        "\n",
        "                # Zera as variaveis, por que e um novo operado!\n",
        "                #isIndexPrint = False\n",
        "                isProtocolo = False\n",
        "                isNota = False\n",
        "                isComentario = False\n",
        "\n",
        "                isProtocolo_index = False\n",
        "                isNota_index = False\n",
        "                isComentario_index = False\n",
        "\n",
        "                index_cell_Protocolo = 0\n",
        "                index_cell_Nota = 0\n",
        "                index_cell_Comentario = 0\n",
        "\n",
        "              # Acha a linha que contém os ('Protocolo', 'Nota', 'Comentário')\n",
        "              ### Obtem os indeces das colunas Protocolo, Nota, Comentário\n",
        "              if isProtocolo == False or isNota == False or isComentario == False:\n",
        "\n",
        "                # print(cell)\n",
        "                if 'Protocolo' in cell and isProtocolo == False:\n",
        "                  isProtocolo = True\n",
        "                  index_cell_Protocolo = index_cell\n",
        "                  #print(cell)\n",
        "\n",
        "                if 'Nota' in cell and isNota == False:\n",
        "                  isNota = True\n",
        "                  index_cell_Nota = index_cell\n",
        "                  #print(cell)\n",
        "                \n",
        "                if 'Comentário' in cell and isComentario == False:\n",
        "                  isComentario = True\n",
        "                  index_cell_Comentario = index_cell\n",
        "                  #print(cell)\n",
        "\n",
        "              if isProtocolo and isNota and isComentario:\n",
        "                if isPrint:\n",
        "                  print('FLAGS = index:', index, isProtocolo, isNota, isComentario, 'index', index, '>', index_old, 'index_old')\n",
        "\n",
        "            # Se achou a linha que cotém os ('Protocolo', 'Nota', 'Comentário'), \n",
        "            # começa a pegar os valor de ('Protocolo', 'Nota', 'Comentário')\n",
        "            # index > index_old => Só entra nesse IF se estiver na proxima linha\n",
        "            # cell != 'Comentário' => pula a celular que contem a COLUNA = 'Comentário'\n",
        "            if isProtocolo and isNota and isComentario and index > index_old and cell != 'Comentário':\n",
        "\n",
        "              # print('index_old > index = ', index_old, '>', index)\n",
        "              # print('TESTE 1', row.shape, 'index_cell:', index_cell, 'Protocolo:', index_cell_Protocolo, 'Nota:', index_cell_Nota, 'Comentario:', index_cell_Comentario)\n",
        "\n",
        "              if index_cell == index_cell_Protocolo:\n",
        "                if isPrint:\n",
        "                  print('Protocolo:', cell)\n",
        "                dic_nps['Requisição'] = cell\n",
        "                isProtocolo_index = True\n",
        "\n",
        "              if index_cell == index_cell_Comentario:\n",
        "                if isPrint:\n",
        "                  print('Comentário:', cell)\n",
        "                dic_nps['Comentário'] = cell\n",
        "                isComentario_index = True\n",
        "            \n",
        "              if index_cell == index_cell_Nota:\n",
        "                if isPrint:\n",
        "                  print('Nota:', cell)\n",
        "                dic_nps['Nota'] = cell\n",
        "                isNota_index = True\n",
        "\n",
        "              if isProtocolo_index and isComentario_index and isNota_index and isFirst ==  False:\n",
        "                isFirst = True\n",
        "                dic_nps['Responsável'] = operador_str\n",
        "                list_dic_nps.append(dic_nps)\n",
        "\n",
        "                if isPrint:\n",
        "                  print(dic_nps)\n",
        "\n",
        "            ### FIM = for cell ###\n",
        "\n",
        "        # # Zera o index, para a proxima linha\n",
        "        # index_cell = 0\n",
        "        index_old = index\n",
        "        isFirst = False\n",
        "        isOperador = False\n",
        "        \n",
        "        i = i + 1\n",
        "\n",
        "        # if i == 30:\n",
        "        #   break\n",
        "\n",
        "      print('Sheet', sheet_page, 'list_dic_nps: ', len(list_dic_nps))\n",
        "\n",
        "      ################################################################################################\n",
        "    except: \n",
        "      isExcept = True\n",
        "      print('Acabou as sheets!')\n",
        "\n",
        "    sheet_page = sheet_page + 1\n",
        "\n",
        "    if isExcept:\n",
        "      print('FIM DO EXCEL - isExcept', isExcept)\n",
        "      break\n",
        "  \n",
        "  full_list_dic_nps.append(list_dic_nps)\n"
      ]
    },
    {
      "cell_type": "code",
      "execution_count": null,
      "metadata": {
        "colab": {
          "base_uri": "https://localhost:8080/"
        },
        "id": "3wIUWaZTOT2X",
        "outputId": "bf52cfed-a5be-4e9c-efe4-e19f97b96160"
      },
      "outputs": [
        {
          "output_type": "stream",
          "name": "stdout",
          "text": [
            "full_list_dic_nps: 7\n",
            "list_dic_nps: 2033\n"
          ]
        }
      ],
      "source": [
        "print('full_list_dic_nps:', len(full_list_dic_nps))\n",
        "print('list_dic_nps:', len(list_dic_nps))"
      ]
    },
    {
      "cell_type": "code",
      "execution_count": null,
      "metadata": {
        "colab": {
          "base_uri": "https://localhost:8080/"
        },
        "id": "kRGG5d6_ddJ-",
        "outputId": "6b7ff137-478c-43b5-b573-8890a607274b"
      },
      "outputs": [
        {
          "output_type": "stream",
          "name": "stdout",
          "text": [
            "Itens 1 : 411\n",
            "Itens 2 : 1479\n",
            "Itens 3 : 1714\n",
            "Itens 4 : 8332\n",
            "Itens 5 : 2189\n",
            "Itens 6 : 8332\n",
            "Itens 7 : 2033\n"
          ]
        }
      ],
      "source": [
        "num = 0\n",
        "for full in full_list_dic_nps:\n",
        "  num = num + 1\n",
        "  print('Itens', num,':', len(full))"
      ]
    },
    {
      "cell_type": "code",
      "execution_count": null,
      "metadata": {
        "colab": {
          "base_uri": "https://localhost:8080/"
        },
        "id": "wG0RYTSENI4w",
        "outputId": "07a38be1-37bb-4976-d6a0-6b6a06afe5d0"
      },
      "outputs": [
        {
          "output_type": "execute_result",
          "data": {
            "text/plain": [
              "[{'Comentário': nan,\n",
              "  'Nota': 10,\n",
              "  'Requisição': '1619458199743_407',\n",
              "  'Responsável': 'Paulo Di Martino'},\n",
              " {'Comentário': nan,\n",
              "  'Nota': 10,\n",
              "  'Requisição': '1618837769765_158',\n",
              "  'Responsável': 'Bruna Hoffmann'},\n",
              " {'Comentário': nan,\n",
              "  'Nota': 10,\n",
              "  'Requisição': '1618838033074_164',\n",
              "  'Responsável': 'Bruna Hoffmann'},\n",
              " {'Comentário': nan,\n",
              "  'Nota': 10,\n",
              "  'Requisição': '1618838514139_176',\n",
              "  'Responsável': 'Bruna Hoffmann'}]"
            ]
          },
          "metadata": {},
          "execution_count": 48
        }
      ],
      "source": [
        "list_dic_nps[0:4]"
      ]
    },
    {
      "cell_type": "code",
      "execution_count": null,
      "metadata": {
        "colab": {
          "base_uri": "https://localhost:8080/",
          "height": 424
        },
        "id": "9zgZAYQKjZMg",
        "outputId": "c52cf66c-8b3f-4d28-ad6e-85df23425024"
      },
      "outputs": [
        {
          "output_type": "execute_result",
          "data": {
            "text/html": [
              "\n",
              "  <div id=\"df-c6ee2a3d-0c4e-4357-856a-b45afe44f701\">\n",
              "    <div class=\"colab-df-container\">\n",
              "      <div>\n",
              "<style scoped>\n",
              "    .dataframe tbody tr th:only-of-type {\n",
              "        vertical-align: middle;\n",
              "    }\n",
              "\n",
              "    .dataframe tbody tr th {\n",
              "        vertical-align: top;\n",
              "    }\n",
              "\n",
              "    .dataframe thead th {\n",
              "        text-align: right;\n",
              "    }\n",
              "</style>\n",
              "<table border=\"1\" class=\"dataframe\">\n",
              "  <thead>\n",
              "    <tr style=\"text-align: right;\">\n",
              "      <th></th>\n",
              "      <th>Requisição</th>\n",
              "      <th>Nota</th>\n",
              "      <th>Comentário</th>\n",
              "      <th>Responsável</th>\n",
              "      <th>Mês</th>\n",
              "    </tr>\n",
              "  </thead>\n",
              "  <tbody>\n",
              "    <tr>\n",
              "      <th>1</th>\n",
              "      <td>435362</td>\n",
              "      <td>10</td>\n",
              "      <td>NaN</td>\n",
              "      <td>Luis Henrique de Oliveira</td>\n",
              "      <td>NOVEMBRO</td>\n",
              "    </tr>\n",
              "    <tr>\n",
              "      <th>2</th>\n",
              "      <td>439607</td>\n",
              "      <td>10</td>\n",
              "      <td>NaN</td>\n",
              "      <td>Cesar Missio Nunes</td>\n",
              "      <td>NOVEMBRO</td>\n",
              "    </tr>\n",
              "    <tr>\n",
              "      <th>3</th>\n",
              "      <td>428223</td>\n",
              "      <td>10</td>\n",
              "      <td>NaN</td>\n",
              "      <td>JoÃ£o Pedro Medeiros</td>\n",
              "      <td>NOVEMBRO</td>\n",
              "    </tr>\n",
              "    <tr>\n",
              "      <th>4</th>\n",
              "      <td>439630</td>\n",
              "      <td>10</td>\n",
              "      <td>NaN</td>\n",
              "      <td>Luis Henrique de Oliveira</td>\n",
              "      <td>NOVEMBRO</td>\n",
              "    </tr>\n",
              "    <tr>\n",
              "      <th>5</th>\n",
              "      <td>430994</td>\n",
              "      <td>10</td>\n",
              "      <td>NaN</td>\n",
              "      <td>Leonardo Lauermann dos Santos</td>\n",
              "      <td>NOVEMBRO</td>\n",
              "    </tr>\n",
              "    <tr>\n",
              "      <th>...</th>\n",
              "      <td>...</td>\n",
              "      <td>...</td>\n",
              "      <td>...</td>\n",
              "      <td>...</td>\n",
              "      <td>...</td>\n",
              "    </tr>\n",
              "    <tr>\n",
              "      <th>1409</th>\n",
              "      <td>419518</td>\n",
              "      <td>9</td>\n",
              "      <td>NaN</td>\n",
              "      <td>Howard Furtado Antunes</td>\n",
              "      <td>OUTUBRO</td>\n",
              "    </tr>\n",
              "    <tr>\n",
              "      <th>1410</th>\n",
              "      <td>415041</td>\n",
              "      <td>9</td>\n",
              "      <td>NaN</td>\n",
              "      <td>Guilherme Verruck da Silva</td>\n",
              "      <td>OUTUBRO</td>\n",
              "    </tr>\n",
              "    <tr>\n",
              "      <th>1411</th>\n",
              "      <td>417205</td>\n",
              "      <td>10</td>\n",
              "      <td>NaN</td>\n",
              "      <td>Howard Furtado Antunes</td>\n",
              "      <td>OUTUBRO</td>\n",
              "    </tr>\n",
              "    <tr>\n",
              "      <th>1412</th>\n",
              "      <td>414649</td>\n",
              "      <td>9</td>\n",
              "      <td>NaN</td>\n",
              "      <td>Luis Henrique de Oliveira</td>\n",
              "      <td>OUTUBRO</td>\n",
              "    </tr>\n",
              "    <tr>\n",
              "      <th>1413</th>\n",
              "      <td>422913</td>\n",
              "      <td>10</td>\n",
              "      <td>NaN</td>\n",
              "      <td>Howard Furtado Antunes</td>\n",
              "      <td>OUTUBRO</td>\n",
              "    </tr>\n",
              "  </tbody>\n",
              "</table>\n",
              "<p>15970 rows × 5 columns</p>\n",
              "</div>\n",
              "      <button class=\"colab-df-convert\" onclick=\"convertToInteractive('df-c6ee2a3d-0c4e-4357-856a-b45afe44f701')\"\n",
              "              title=\"Convert this dataframe to an interactive table.\"\n",
              "              style=\"display:none;\">\n",
              "        \n",
              "  <svg xmlns=\"http://www.w3.org/2000/svg\" height=\"24px\"viewBox=\"0 0 24 24\"\n",
              "       width=\"24px\">\n",
              "    <path d=\"M0 0h24v24H0V0z\" fill=\"none\"/>\n",
              "    <path d=\"M18.56 5.44l.94 2.06.94-2.06 2.06-.94-2.06-.94-.94-2.06-.94 2.06-2.06.94zm-11 1L8.5 8.5l.94-2.06 2.06-.94-2.06-.94L8.5 2.5l-.94 2.06-2.06.94zm10 10l.94 2.06.94-2.06 2.06-.94-2.06-.94-.94-2.06-.94 2.06-2.06.94z\"/><path d=\"M17.41 7.96l-1.37-1.37c-.4-.4-.92-.59-1.43-.59-.52 0-1.04.2-1.43.59L10.3 9.45l-7.72 7.72c-.78.78-.78 2.05 0 2.83L4 21.41c.39.39.9.59 1.41.59.51 0 1.02-.2 1.41-.59l7.78-7.78 2.81-2.81c.8-.78.8-2.07 0-2.86zM5.41 20L4 18.59l7.72-7.72 1.47 1.35L5.41 20z\"/>\n",
              "  </svg>\n",
              "      </button>\n",
              "      \n",
              "  <style>\n",
              "    .colab-df-container {\n",
              "      display:flex;\n",
              "      flex-wrap:wrap;\n",
              "      gap: 12px;\n",
              "    }\n",
              "\n",
              "    .colab-df-convert {\n",
              "      background-color: #E8F0FE;\n",
              "      border: none;\n",
              "      border-radius: 50%;\n",
              "      cursor: pointer;\n",
              "      display: none;\n",
              "      fill: #1967D2;\n",
              "      height: 32px;\n",
              "      padding: 0 0 0 0;\n",
              "      width: 32px;\n",
              "    }\n",
              "\n",
              "    .colab-df-convert:hover {\n",
              "      background-color: #E2EBFA;\n",
              "      box-shadow: 0px 1px 2px rgba(60, 64, 67, 0.3), 0px 1px 3px 1px rgba(60, 64, 67, 0.15);\n",
              "      fill: #174EA6;\n",
              "    }\n",
              "\n",
              "    [theme=dark] .colab-df-convert {\n",
              "      background-color: #3B4455;\n",
              "      fill: #D2E3FC;\n",
              "    }\n",
              "\n",
              "    [theme=dark] .colab-df-convert:hover {\n",
              "      background-color: #434B5C;\n",
              "      box-shadow: 0px 1px 3px 1px rgba(0, 0, 0, 0.15);\n",
              "      filter: drop-shadow(0px 1px 2px rgba(0, 0, 0, 0.3));\n",
              "      fill: #FFFFFF;\n",
              "    }\n",
              "  </style>\n",
              "\n",
              "      <script>\n",
              "        const buttonEl =\n",
              "          document.querySelector('#df-c6ee2a3d-0c4e-4357-856a-b45afe44f701 button.colab-df-convert');\n",
              "        buttonEl.style.display =\n",
              "          google.colab.kernel.accessAllowed ? 'block' : 'none';\n",
              "\n",
              "        async function convertToInteractive(key) {\n",
              "          const element = document.querySelector('#df-c6ee2a3d-0c4e-4357-856a-b45afe44f701');\n",
              "          const dataTable =\n",
              "            await google.colab.kernel.invokeFunction('convertToInteractive',\n",
              "                                                     [key], {});\n",
              "          if (!dataTable) return;\n",
              "\n",
              "          const docLinkHtml = 'Like what you see? Visit the ' +\n",
              "            '<a target=\"_blank\" href=https://colab.research.google.com/notebooks/data_table.ipynb>data table notebook</a>'\n",
              "            + ' to learn more about interactive tables.';\n",
              "          element.innerHTML = '';\n",
              "          dataTable['output_type'] = 'display_data';\n",
              "          await google.colab.output.renderOutput(dataTable, element);\n",
              "          const docLink = document.createElement('div');\n",
              "          docLink.innerHTML = docLinkHtml;\n",
              "          element.appendChild(docLink);\n",
              "        }\n",
              "      </script>\n",
              "    </div>\n",
              "  </div>\n",
              "  "
            ],
            "text/plain": [
              "     Requisição Nota Comentário                    Responsável       Mês\n",
              "1        435362   10        NaN      Luis Henrique de Oliveira  NOVEMBRO\n",
              "2        439607   10        NaN             Cesar Missio Nunes  NOVEMBRO\n",
              "3        428223   10        NaN           JoÃ£o Pedro Medeiros  NOVEMBRO\n",
              "4        439630   10        NaN      Luis Henrique de Oliveira  NOVEMBRO\n",
              "5        430994   10        NaN  Leonardo Lauermann dos Santos  NOVEMBRO\n",
              "...         ...  ...        ...                            ...       ...\n",
              "1409     419518    9        NaN         Howard Furtado Antunes   OUTUBRO\n",
              "1410     415041    9        NaN     Guilherme Verruck da Silva   OUTUBRO\n",
              "1411     417205   10        NaN         Howard Furtado Antunes   OUTUBRO\n",
              "1412     414649    9        NaN      Luis Henrique de Oliveira   OUTUBRO\n",
              "1413     422913   10        NaN         Howard Furtado Antunes   OUTUBRO\n",
              "\n",
              "[15970 rows x 5 columns]"
            ]
          },
          "metadata": {},
          "execution_count": 49
        }
      ],
      "source": [
        "df_full"
      ]
    },
    {
      "cell_type": "code",
      "execution_count": null,
      "metadata": {
        "colab": {
          "base_uri": "https://localhost:8080/"
        },
        "id": "Ua6nGTt2kdqu",
        "outputId": "b210babe-1e8a-4b3a-a559-a084e5e7e33c"
      },
      "outputs": [
        {
          "output_type": "stream",
          "name": "stdout",
          "text": [
            "<class 'list'> <class 'dict'>\n"
          ]
        }
      ],
      "source": [
        "num = 0\n",
        "for full in full_list_dic_nps:\n",
        "  num = num + 1\n",
        "  #print('Itens', num,':', len(full))\n",
        "  print(type(full), type(full[0]))\n",
        "  break"
      ]
    },
    {
      "cell_type": "code",
      "execution_count": null,
      "metadata": {
        "colab": {
          "base_uri": "https://localhost:8080/"
        },
        "id": "HFDYaG6ul0kt",
        "outputId": "777d261c-4829-4d7e-ad04-404b8a08d1c5"
      },
      "outputs": [
        {
          "output_type": "stream",
          "name": "stdout",
          "text": [
            "<class 'list'> <class 'list'> <class 'dict'>\n"
          ]
        }
      ],
      "source": [
        "# Renomear as colunas\n",
        "# df_full.columns = ['Requisição', 'Nota', 'Observação', 'Responsável', 'Mês']\n",
        "print(type(full_list_dic_nps), type(full_list_dic_nps[0]), type(full_list_dic_nps[0][0]))"
      ]
    },
    {
      "cell_type": "code",
      "execution_count": null,
      "metadata": {
        "colab": {
          "base_uri": "https://localhost:8080/"
        },
        "id": "6ZohykcEqKFV",
        "outputId": "9667f6e8-5d46-4f52-f99f-5ee0dc9defae"
      },
      "outputs": [
        {
          "output_type": "stream",
          "name": "stdout",
          "text": [
            "<class 'list'> <class 'dict'> <class 'pandas.core.frame.DataFrame'> (411, 4)\n",
            "<class 'list'> <class 'dict'> <class 'pandas.core.frame.DataFrame'> (1479, 4)\n",
            "<class 'list'> <class 'dict'> <class 'pandas.core.frame.DataFrame'> (1714, 4)\n",
            "<class 'list'> <class 'dict'> <class 'pandas.core.frame.DataFrame'> (8332, 4)\n",
            "<class 'list'> <class 'dict'> <class 'pandas.core.frame.DataFrame'> (2189, 4)\n",
            "<class 'list'> <class 'dict'> <class 'pandas.core.frame.DataFrame'> (8332, 4)\n",
            "<class 'list'> <class 'dict'> <class 'pandas.core.frame.DataFrame'> (2033, 4)\n"
          ]
        }
      ],
      "source": [
        "list_excel_dfs = [] # list\n",
        "for full in full_list_dic_nps:\n",
        "\n",
        "  excel_df = pd.DataFrame(full)\n",
        "  print(type(full), type(full[0]), type(excel_df), excel_df.shape)\n",
        "\n",
        "  list_excel_dfs.append(excel_df)\n",
        "\n",
        "# Junta todos os dataframes\n",
        "df_full_excel = pd.concat(list_excel_dfs)"
      ]
    },
    {
      "cell_type": "code",
      "execution_count": null,
      "metadata": {
        "id": "7nOb5kdbrVv2"
      },
      "outputs": [],
      "source": [
        "df_full_excel['Mês'] = ''"
      ]
    },
    {
      "cell_type": "code",
      "execution_count": null,
      "metadata": {
        "colab": {
          "base_uri": "https://localhost:8080/"
        },
        "id": "2cnj8JKJqv5u",
        "outputId": "b384e893-0653-45c0-c0e4-cd2d3f549b3e"
      },
      "outputs": [
        {
          "output_type": "execute_result",
          "data": {
            "text/plain": [
              "(24490, 5)"
            ]
          },
          "metadata": {},
          "execution_count": 54
        }
      ],
      "source": [
        "df_full_excel.shape"
      ]
    },
    {
      "cell_type": "code",
      "execution_count": null,
      "metadata": {
        "colab": {
          "base_uri": "https://localhost:8080/"
        },
        "id": "JMQv9z50sscO",
        "outputId": "368050b5-44ed-4ead-f5f7-4783a10cf74b"
      },
      "outputs": [
        {
          "output_type": "execute_result",
          "data": {
            "text/plain": [
              "(15970, 5)"
            ]
          },
          "metadata": {},
          "execution_count": 55
        }
      ],
      "source": [
        "df_full.shape"
      ]
    },
    {
      "cell_type": "code",
      "execution_count": null,
      "metadata": {
        "colab": {
          "base_uri": "https://localhost:8080/"
        },
        "id": "0Leu-OqhjRLZ",
        "outputId": "c1a2f67c-8777-4994-9371-ade8a1f61f82"
      },
      "outputs": [
        {
          "output_type": "execute_result",
          "data": {
            "text/plain": [
              "Index(['Requisição', 'Nota', 'Comentário', 'Responsável', 'Mês'], dtype='object')"
            ]
          },
          "metadata": {},
          "execution_count": 56
        }
      ],
      "source": [
        "df_full.columns"
      ]
    },
    {
      "cell_type": "code",
      "execution_count": null,
      "metadata": {
        "colab": {
          "base_uri": "https://localhost:8080/"
        },
        "id": "QzvXbwHsjMgO",
        "outputId": "50610b48-a40e-46cd-b2da-d620d9eed386"
      },
      "outputs": [
        {
          "output_type": "execute_result",
          "data": {
            "text/plain": [
              "Index(['Requisição', 'Nota', 'Comentário', 'Responsável', 'Mês'], dtype='object')"
            ]
          },
          "metadata": {},
          "execution_count": 57
        }
      ],
      "source": [
        "df_full_excel.columns"
      ]
    },
    {
      "cell_type": "code",
      "execution_count": null,
      "metadata": {
        "id": "EueG9668sXj1"
      },
      "outputs": [],
      "source": [
        "df_full_data = pd.concat([ df_full_excel, df_full])"
      ]
    },
    {
      "cell_type": "markdown",
      "metadata": {
        "id": "2Oi2bOhkARMD"
      },
      "source": [
        "## DataSet NPS"
      ]
    },
    {
      "cell_type": "code",
      "execution_count": null,
      "metadata": {
        "colab": {
          "base_uri": "https://localhost:8080/"
        },
        "id": "dyGw3PhbsZbv",
        "outputId": "1d298869-fc2b-49a5-ebd8-5374080cf887"
      },
      "outputs": [
        {
          "output_type": "execute_result",
          "data": {
            "text/plain": [
              "(40460, 5)"
            ]
          },
          "metadata": {},
          "execution_count": 59
        }
      ],
      "source": [
        "df_full_data.shape"
      ]
    },
    {
      "cell_type": "code",
      "execution_count": null,
      "metadata": {
        "colab": {
          "base_uri": "https://localhost:8080/",
          "height": 424
        },
        "id": "d4FRorllyxtR",
        "outputId": "b6b363ad-3458-4b97-dd3e-4948509f2f57"
      },
      "outputs": [
        {
          "output_type": "execute_result",
          "data": {
            "text/html": [
              "\n",
              "  <div id=\"df-d8289764-b5f7-4d6a-8652-132643b72bdd\">\n",
              "    <div class=\"colab-df-container\">\n",
              "      <div>\n",
              "<style scoped>\n",
              "    .dataframe tbody tr th:only-of-type {\n",
              "        vertical-align: middle;\n",
              "    }\n",
              "\n",
              "    .dataframe tbody tr th {\n",
              "        vertical-align: top;\n",
              "    }\n",
              "\n",
              "    .dataframe thead th {\n",
              "        text-align: right;\n",
              "    }\n",
              "</style>\n",
              "<table border=\"1\" class=\"dataframe\">\n",
              "  <thead>\n",
              "    <tr style=\"text-align: right;\">\n",
              "      <th></th>\n",
              "      <th>Requisição</th>\n",
              "      <th>Nota</th>\n",
              "      <th>Comentário</th>\n",
              "      <th>Responsável</th>\n",
              "      <th>Mês</th>\n",
              "    </tr>\n",
              "  </thead>\n",
              "  <tbody>\n",
              "    <tr>\n",
              "      <th>0</th>\n",
              "      <td>1619458199743_407</td>\n",
              "      <td>10</td>\n",
              "      <td>NaN</td>\n",
              "      <td>Paulo Di Martino</td>\n",
              "      <td></td>\n",
              "    </tr>\n",
              "    <tr>\n",
              "      <th>1</th>\n",
              "      <td>1618837769765_158</td>\n",
              "      <td>10</td>\n",
              "      <td>NaN</td>\n",
              "      <td>Bruna Hoffmann</td>\n",
              "      <td></td>\n",
              "    </tr>\n",
              "    <tr>\n",
              "      <th>2</th>\n",
              "      <td>1618838033074_164</td>\n",
              "      <td>10</td>\n",
              "      <td>NaN</td>\n",
              "      <td>Bruna Hoffmann</td>\n",
              "      <td></td>\n",
              "    </tr>\n",
              "    <tr>\n",
              "      <th>3</th>\n",
              "      <td>1618838514139_176</td>\n",
              "      <td>10</td>\n",
              "      <td>NaN</td>\n",
              "      <td>Bruna Hoffmann</td>\n",
              "      <td></td>\n",
              "    </tr>\n",
              "    <tr>\n",
              "      <th>4</th>\n",
              "      <td>1618839764647_204</td>\n",
              "      <td>10</td>\n",
              "      <td>NaN</td>\n",
              "      <td>Bruna Hoffmann</td>\n",
              "      <td></td>\n",
              "    </tr>\n",
              "    <tr>\n",
              "      <th>...</th>\n",
              "      <td>...</td>\n",
              "      <td>...</td>\n",
              "      <td>...</td>\n",
              "      <td>...</td>\n",
              "      <td>...</td>\n",
              "    </tr>\n",
              "    <tr>\n",
              "      <th>1409</th>\n",
              "      <td>419518</td>\n",
              "      <td>9</td>\n",
              "      <td>NaN</td>\n",
              "      <td>Howard Furtado Antunes</td>\n",
              "      <td>OUTUBRO</td>\n",
              "    </tr>\n",
              "    <tr>\n",
              "      <th>1410</th>\n",
              "      <td>415041</td>\n",
              "      <td>9</td>\n",
              "      <td>NaN</td>\n",
              "      <td>Guilherme Verruck da Silva</td>\n",
              "      <td>OUTUBRO</td>\n",
              "    </tr>\n",
              "    <tr>\n",
              "      <th>1411</th>\n",
              "      <td>417205</td>\n",
              "      <td>10</td>\n",
              "      <td>NaN</td>\n",
              "      <td>Howard Furtado Antunes</td>\n",
              "      <td>OUTUBRO</td>\n",
              "    </tr>\n",
              "    <tr>\n",
              "      <th>1412</th>\n",
              "      <td>414649</td>\n",
              "      <td>9</td>\n",
              "      <td>NaN</td>\n",
              "      <td>Luis Henrique de Oliveira</td>\n",
              "      <td>OUTUBRO</td>\n",
              "    </tr>\n",
              "    <tr>\n",
              "      <th>1413</th>\n",
              "      <td>422913</td>\n",
              "      <td>10</td>\n",
              "      <td>NaN</td>\n",
              "      <td>Howard Furtado Antunes</td>\n",
              "      <td>OUTUBRO</td>\n",
              "    </tr>\n",
              "  </tbody>\n",
              "</table>\n",
              "<p>40460 rows × 5 columns</p>\n",
              "</div>\n",
              "      <button class=\"colab-df-convert\" onclick=\"convertToInteractive('df-d8289764-b5f7-4d6a-8652-132643b72bdd')\"\n",
              "              title=\"Convert this dataframe to an interactive table.\"\n",
              "              style=\"display:none;\">\n",
              "        \n",
              "  <svg xmlns=\"http://www.w3.org/2000/svg\" height=\"24px\"viewBox=\"0 0 24 24\"\n",
              "       width=\"24px\">\n",
              "    <path d=\"M0 0h24v24H0V0z\" fill=\"none\"/>\n",
              "    <path d=\"M18.56 5.44l.94 2.06.94-2.06 2.06-.94-2.06-.94-.94-2.06-.94 2.06-2.06.94zm-11 1L8.5 8.5l.94-2.06 2.06-.94-2.06-.94L8.5 2.5l-.94 2.06-2.06.94zm10 10l.94 2.06.94-2.06 2.06-.94-2.06-.94-.94-2.06-.94 2.06-2.06.94z\"/><path d=\"M17.41 7.96l-1.37-1.37c-.4-.4-.92-.59-1.43-.59-.52 0-1.04.2-1.43.59L10.3 9.45l-7.72 7.72c-.78.78-.78 2.05 0 2.83L4 21.41c.39.39.9.59 1.41.59.51 0 1.02-.2 1.41-.59l7.78-7.78 2.81-2.81c.8-.78.8-2.07 0-2.86zM5.41 20L4 18.59l7.72-7.72 1.47 1.35L5.41 20z\"/>\n",
              "  </svg>\n",
              "      </button>\n",
              "      \n",
              "  <style>\n",
              "    .colab-df-container {\n",
              "      display:flex;\n",
              "      flex-wrap:wrap;\n",
              "      gap: 12px;\n",
              "    }\n",
              "\n",
              "    .colab-df-convert {\n",
              "      background-color: #E8F0FE;\n",
              "      border: none;\n",
              "      border-radius: 50%;\n",
              "      cursor: pointer;\n",
              "      display: none;\n",
              "      fill: #1967D2;\n",
              "      height: 32px;\n",
              "      padding: 0 0 0 0;\n",
              "      width: 32px;\n",
              "    }\n",
              "\n",
              "    .colab-df-convert:hover {\n",
              "      background-color: #E2EBFA;\n",
              "      box-shadow: 0px 1px 2px rgba(60, 64, 67, 0.3), 0px 1px 3px 1px rgba(60, 64, 67, 0.15);\n",
              "      fill: #174EA6;\n",
              "    }\n",
              "\n",
              "    [theme=dark] .colab-df-convert {\n",
              "      background-color: #3B4455;\n",
              "      fill: #D2E3FC;\n",
              "    }\n",
              "\n",
              "    [theme=dark] .colab-df-convert:hover {\n",
              "      background-color: #434B5C;\n",
              "      box-shadow: 0px 1px 3px 1px rgba(0, 0, 0, 0.15);\n",
              "      filter: drop-shadow(0px 1px 2px rgba(0, 0, 0, 0.3));\n",
              "      fill: #FFFFFF;\n",
              "    }\n",
              "  </style>\n",
              "\n",
              "      <script>\n",
              "        const buttonEl =\n",
              "          document.querySelector('#df-d8289764-b5f7-4d6a-8652-132643b72bdd button.colab-df-convert');\n",
              "        buttonEl.style.display =\n",
              "          google.colab.kernel.accessAllowed ? 'block' : 'none';\n",
              "\n",
              "        async function convertToInteractive(key) {\n",
              "          const element = document.querySelector('#df-d8289764-b5f7-4d6a-8652-132643b72bdd');\n",
              "          const dataTable =\n",
              "            await google.colab.kernel.invokeFunction('convertToInteractive',\n",
              "                                                     [key], {});\n",
              "          if (!dataTable) return;\n",
              "\n",
              "          const docLinkHtml = 'Like what you see? Visit the ' +\n",
              "            '<a target=\"_blank\" href=https://colab.research.google.com/notebooks/data_table.ipynb>data table notebook</a>'\n",
              "            + ' to learn more about interactive tables.';\n",
              "          element.innerHTML = '';\n",
              "          dataTable['output_type'] = 'display_data';\n",
              "          await google.colab.output.renderOutput(dataTable, element);\n",
              "          const docLink = document.createElement('div');\n",
              "          docLink.innerHTML = docLinkHtml;\n",
              "          element.appendChild(docLink);\n",
              "        }\n",
              "      </script>\n",
              "    </div>\n",
              "  </div>\n",
              "  "
            ],
            "text/plain": [
              "             Requisição Nota Comentário                 Responsável      Mês\n",
              "0     1619458199743_407   10        NaN            Paulo Di Martino         \n",
              "1     1618837769765_158   10        NaN              Bruna Hoffmann         \n",
              "2     1618838033074_164   10        NaN              Bruna Hoffmann         \n",
              "3     1618838514139_176   10        NaN              Bruna Hoffmann         \n",
              "4     1618839764647_204   10        NaN              Bruna Hoffmann         \n",
              "...                 ...  ...        ...                         ...      ...\n",
              "1409             419518    9        NaN      Howard Furtado Antunes  OUTUBRO\n",
              "1410             415041    9        NaN  Guilherme Verruck da Silva  OUTUBRO\n",
              "1411             417205   10        NaN      Howard Furtado Antunes  OUTUBRO\n",
              "1412             414649    9        NaN   Luis Henrique de Oliveira  OUTUBRO\n",
              "1413             422913   10        NaN      Howard Furtado Antunes  OUTUBRO\n",
              "\n",
              "[40460 rows x 5 columns]"
            ]
          },
          "metadata": {},
          "execution_count": 60
        }
      ],
      "source": [
        "df_full_data"
      ]
    },
    {
      "cell_type": "markdown",
      "source": [
        "## Remove Tags Html - Comentário"
      ],
      "metadata": {
        "id": "_q7QbPiCS6JK"
      }
    },
    {
      "cell_type": "code",
      "source": [
        "import re, cgi\n",
        "\n",
        "def remove_tag_html(text):\n",
        "  tag_re = re.compile(r'(<!--.*?-->|<[^>]*>)')\n",
        "  text_result = cgi.escape(tag_re.sub('', text))\n",
        "  return text_result"
      ],
      "metadata": {
        "id": "uDXTdai5S7Z6"
      },
      "execution_count": null,
      "outputs": []
    },
    {
      "cell_type": "code",
      "source": [
        "remove_tag_html('Obrigada<br>')"
      ],
      "metadata": {
        "colab": {
          "base_uri": "https://localhost:8080/",
          "height": 70
        },
        "id": "4hEKaus7TR69",
        "outputId": "54c6d92a-dd61-4e41-afa6-15e3d276baa1"
      },
      "execution_count": null,
      "outputs": [
        {
          "output_type": "stream",
          "name": "stderr",
          "text": [
            "/usr/local/lib/python3.7/dist-packages/ipykernel_launcher.py:5: DeprecationWarning: cgi.escape is deprecated, use html.escape instead\n",
            "  \"\"\"\n"
          ]
        },
        {
          "output_type": "execute_result",
          "data": {
            "application/vnd.google.colaboratory.intrinsic+json": {
              "type": "string"
            },
            "text/plain": [
              "'Obrigada'"
            ]
          },
          "metadata": {},
          "execution_count": 62
        }
      ]
    },
    {
      "cell_type": "code",
      "source": [
        "text_reuslt_html = [str(item) for item in df_full_data['Comentário']]"
      ],
      "metadata": {
        "id": "-BHH0pZYTywd"
      },
      "execution_count": null,
      "outputs": []
    },
    {
      "cell_type": "code",
      "source": [
        "df_full_data['Comentário'] = text_reuslt_html"
      ],
      "metadata": {
        "id": "TdYhEmKaT7_P"
      },
      "execution_count": null,
      "outputs": []
    },
    {
      "cell_type": "markdown",
      "source": [
        "## Removendo \"Requisição\" duplicadas"
      ],
      "metadata": {
        "id": "fAq5i5d-VOPp"
      }
    },
    {
      "cell_type": "code",
      "source": [
        "df_full_data.shape"
      ],
      "metadata": {
        "colab": {
          "base_uri": "https://localhost:8080/"
        },
        "id": "MM4rbrTRVYQH",
        "outputId": "d33b75a2-1324-4096-99be-bc604596b1a3"
      },
      "execution_count": null,
      "outputs": [
        {
          "output_type": "execute_result",
          "data": {
            "text/plain": [
              "(40460, 5)"
            ]
          },
          "metadata": {},
          "execution_count": 65
        }
      ]
    },
    {
      "cell_type": "code",
      "source": [
        "df_full_data = df_full_data.drop_duplicates('Requisição', keep='last')"
      ],
      "metadata": {
        "id": "eIcjaIUEVRsm"
      },
      "execution_count": null,
      "outputs": []
    },
    {
      "cell_type": "code",
      "source": [
        "df_full_data.shape"
      ],
      "metadata": {
        "colab": {
          "base_uri": "https://localhost:8080/"
        },
        "id": "6JXmHdLSValr",
        "outputId": "ededf4cc-139c-4481-dbfb-8ed618cc09fb"
      },
      "execution_count": null,
      "outputs": [
        {
          "output_type": "execute_result",
          "data": {
            "text/plain": [
              "(29963, 5)"
            ]
          },
          "metadata": {},
          "execution_count": 69
        }
      ]
    },
    {
      "cell_type": "markdown",
      "metadata": {
        "id": "xYI1mkiUAXKz"
      },
      "source": [
        "## Salva DataSet"
      ]
    },
    {
      "cell_type": "code",
      "source": [
        "def save_to_excel(df, name):\n",
        "  # Salvar DataFrame\n",
        "  if isPathLocal:\n",
        "    path_root_out = 'D:\\\\2. Ciência de Dados\\\\1. Trabalho de Conclusão\\\\Dados\\\\'\n",
        "  else:\n",
        "    path_root_out = '/content/drive/MyDrive/1. Pós Ciência de Dados/1. Trabalho de Conclusão/Testes/Extrair Dados/Dados/'\n",
        "  \n",
        "  df.to_excel(path_root_out + name)"
      ],
      "metadata": {
        "id": "TIGqQJXqBBV3"
      },
      "execution_count": null,
      "outputs": []
    },
    {
      "cell_type": "code",
      "execution_count": null,
      "metadata": {
        "id": "fcR6q7zwubv2"
      },
      "outputs": [],
      "source": [
        "# Salvar DataFrame\n",
        "if isPathLocal:\n",
        "    path_root_out = 'D:\\\\2. Ciência de Dados\\\\1. Trabalho de Conclusão\\\\Dados\\\\'\n",
        "else:\n",
        "    path_root_out = '/content/drive/MyDrive/1. Pós Ciência de Dados/1. Trabalho de Conclusão/Testes/Extrair Dados/Dados/'"
      ]
    },
    {
      "cell_type": "code",
      "execution_count": null,
      "metadata": {
        "id": "WZPuyA3q7-zZ"
      },
      "outputs": [],
      "source": [
        "df_full_excel.to_excel(path_root_out + 'output_test.xlsx')"
      ]
    },
    {
      "cell_type": "code",
      "execution_count": null,
      "metadata": {
        "id": "czXY_K8T2Yxq"
      },
      "outputs": [],
      "source": [
        "df_full_data.to_excel(path_root_out + 'output.xlsx')"
      ]
    },
    {
      "cell_type": "markdown",
      "metadata": {
        "id": "EVVeYoExAbBg"
      },
      "source": [
        "## Carrega DataSet"
      ]
    },
    {
      "cell_type": "code",
      "source": [
        "def open_to_excel(name):\n",
        "  # Salvar DataFrame\n",
        "  if isPathLocal:\n",
        "    path_root_out = 'D:\\\\2. Ciência de Dados\\\\1. Trabalho de Conclusão\\\\Dados\\\\'\n",
        "  else:\n",
        "    path_root_out = '/content/drive/MyDrive/1. Pós Ciência de Dados/1. Trabalho de Conclusão/Testes/Extrair Dados/Dados/'\n",
        "  \n",
        "  df_output_ = pd.read_excel(path_root_out + name, sheet_name=0)\n",
        "  return df_output_"
      ],
      "metadata": {
        "id": "5WMpM4PLBVkt"
      },
      "execution_count": null,
      "outputs": []
    },
    {
      "cell_type": "code",
      "execution_count": null,
      "metadata": {
        "colab": {
          "base_uri": "https://localhost:8080/",
          "height": 424
        },
        "id": "AYeYVckEuiwc",
        "outputId": "1eb40434-b6bf-412d-bafa-143d424470c7"
      },
      "outputs": [
        {
          "output_type": "execute_result",
          "data": {
            "text/html": [
              "\n",
              "  <div id=\"df-1e8ebd18-eca1-4412-b5d3-ad4bc9229897\">\n",
              "    <div class=\"colab-df-container\">\n",
              "      <div>\n",
              "<style scoped>\n",
              "    .dataframe tbody tr th:only-of-type {\n",
              "        vertical-align: middle;\n",
              "    }\n",
              "\n",
              "    .dataframe tbody tr th {\n",
              "        vertical-align: top;\n",
              "    }\n",
              "\n",
              "    .dataframe thead th {\n",
              "        text-align: right;\n",
              "    }\n",
              "</style>\n",
              "<table border=\"1\" class=\"dataframe\">\n",
              "  <thead>\n",
              "    <tr style=\"text-align: right;\">\n",
              "      <th></th>\n",
              "      <th>Unnamed: 0</th>\n",
              "      <th>Requisição</th>\n",
              "      <th>Nota</th>\n",
              "      <th>Comentário</th>\n",
              "      <th>Responsável</th>\n",
              "      <th>Mês</th>\n",
              "    </tr>\n",
              "  </thead>\n",
              "  <tbody>\n",
              "    <tr>\n",
              "      <th>0</th>\n",
              "      <td>0</td>\n",
              "      <td>1617824853173_2</td>\n",
              "      <td>10</td>\n",
              "      <td>NaN</td>\n",
              "      <td>Paulo Di Martino</td>\n",
              "      <td>NaN</td>\n",
              "    </tr>\n",
              "    <tr>\n",
              "      <th>1</th>\n",
              "      <td>1</td>\n",
              "      <td>1618520022958_197</td>\n",
              "      <td>10</td>\n",
              "      <td>NaN</td>\n",
              "      <td>Larissa Siqueira</td>\n",
              "      <td>NaN</td>\n",
              "    </tr>\n",
              "    <tr>\n",
              "      <th>2</th>\n",
              "      <td>2</td>\n",
              "      <td>1618853492564_426</td>\n",
              "      <td>10</td>\n",
              "      <td>NaN</td>\n",
              "      <td>Larissa Siqueira</td>\n",
              "      <td>NaN</td>\n",
              "    </tr>\n",
              "    <tr>\n",
              "      <th>3</th>\n",
              "      <td>3</td>\n",
              "      <td>1618927052097_265</td>\n",
              "      <td>10</td>\n",
              "      <td>NaN</td>\n",
              "      <td>Larissa Siqueira</td>\n",
              "      <td>NaN</td>\n",
              "    </tr>\n",
              "    <tr>\n",
              "      <th>4</th>\n",
              "      <td>4</td>\n",
              "      <td>1618927694557_277</td>\n",
              "      <td>10</td>\n",
              "      <td>excelente</td>\n",
              "      <td>Larissa Siqueira</td>\n",
              "      <td>NaN</td>\n",
              "    </tr>\n",
              "    <tr>\n",
              "      <th>...</th>\n",
              "      <td>...</td>\n",
              "      <td>...</td>\n",
              "      <td>...</td>\n",
              "      <td>...</td>\n",
              "      <td>...</td>\n",
              "      <td>...</td>\n",
              "    </tr>\n",
              "    <tr>\n",
              "      <th>29958</th>\n",
              "      <td>1409</td>\n",
              "      <td>419518</td>\n",
              "      <td>9</td>\n",
              "      <td>NaN</td>\n",
              "      <td>Howard Furtado Antunes</td>\n",
              "      <td>OUTUBRO</td>\n",
              "    </tr>\n",
              "    <tr>\n",
              "      <th>29959</th>\n",
              "      <td>1410</td>\n",
              "      <td>415041</td>\n",
              "      <td>9</td>\n",
              "      <td>NaN</td>\n",
              "      <td>Guilherme Verruck da Silva</td>\n",
              "      <td>OUTUBRO</td>\n",
              "    </tr>\n",
              "    <tr>\n",
              "      <th>29960</th>\n",
              "      <td>1411</td>\n",
              "      <td>417205</td>\n",
              "      <td>10</td>\n",
              "      <td>NaN</td>\n",
              "      <td>Howard Furtado Antunes</td>\n",
              "      <td>OUTUBRO</td>\n",
              "    </tr>\n",
              "    <tr>\n",
              "      <th>29961</th>\n",
              "      <td>1412</td>\n",
              "      <td>414649</td>\n",
              "      <td>9</td>\n",
              "      <td>NaN</td>\n",
              "      <td>Luis Henrique de Oliveira</td>\n",
              "      <td>OUTUBRO</td>\n",
              "    </tr>\n",
              "    <tr>\n",
              "      <th>29962</th>\n",
              "      <td>1413</td>\n",
              "      <td>422913</td>\n",
              "      <td>10</td>\n",
              "      <td>NaN</td>\n",
              "      <td>Howard Furtado Antunes</td>\n",
              "      <td>OUTUBRO</td>\n",
              "    </tr>\n",
              "  </tbody>\n",
              "</table>\n",
              "<p>29963 rows × 6 columns</p>\n",
              "</div>\n",
              "      <button class=\"colab-df-convert\" onclick=\"convertToInteractive('df-1e8ebd18-eca1-4412-b5d3-ad4bc9229897')\"\n",
              "              title=\"Convert this dataframe to an interactive table.\"\n",
              "              style=\"display:none;\">\n",
              "        \n",
              "  <svg xmlns=\"http://www.w3.org/2000/svg\" height=\"24px\"viewBox=\"0 0 24 24\"\n",
              "       width=\"24px\">\n",
              "    <path d=\"M0 0h24v24H0V0z\" fill=\"none\"/>\n",
              "    <path d=\"M18.56 5.44l.94 2.06.94-2.06 2.06-.94-2.06-.94-.94-2.06-.94 2.06-2.06.94zm-11 1L8.5 8.5l.94-2.06 2.06-.94-2.06-.94L8.5 2.5l-.94 2.06-2.06.94zm10 10l.94 2.06.94-2.06 2.06-.94-2.06-.94-.94-2.06-.94 2.06-2.06.94z\"/><path d=\"M17.41 7.96l-1.37-1.37c-.4-.4-.92-.59-1.43-.59-.52 0-1.04.2-1.43.59L10.3 9.45l-7.72 7.72c-.78.78-.78 2.05 0 2.83L4 21.41c.39.39.9.59 1.41.59.51 0 1.02-.2 1.41-.59l7.78-7.78 2.81-2.81c.8-.78.8-2.07 0-2.86zM5.41 20L4 18.59l7.72-7.72 1.47 1.35L5.41 20z\"/>\n",
              "  </svg>\n",
              "      </button>\n",
              "      \n",
              "  <style>\n",
              "    .colab-df-container {\n",
              "      display:flex;\n",
              "      flex-wrap:wrap;\n",
              "      gap: 12px;\n",
              "    }\n",
              "\n",
              "    .colab-df-convert {\n",
              "      background-color: #E8F0FE;\n",
              "      border: none;\n",
              "      border-radius: 50%;\n",
              "      cursor: pointer;\n",
              "      display: none;\n",
              "      fill: #1967D2;\n",
              "      height: 32px;\n",
              "      padding: 0 0 0 0;\n",
              "      width: 32px;\n",
              "    }\n",
              "\n",
              "    .colab-df-convert:hover {\n",
              "      background-color: #E2EBFA;\n",
              "      box-shadow: 0px 1px 2px rgba(60, 64, 67, 0.3), 0px 1px 3px 1px rgba(60, 64, 67, 0.15);\n",
              "      fill: #174EA6;\n",
              "    }\n",
              "\n",
              "    [theme=dark] .colab-df-convert {\n",
              "      background-color: #3B4455;\n",
              "      fill: #D2E3FC;\n",
              "    }\n",
              "\n",
              "    [theme=dark] .colab-df-convert:hover {\n",
              "      background-color: #434B5C;\n",
              "      box-shadow: 0px 1px 3px 1px rgba(0, 0, 0, 0.15);\n",
              "      filter: drop-shadow(0px 1px 2px rgba(0, 0, 0, 0.3));\n",
              "      fill: #FFFFFF;\n",
              "    }\n",
              "  </style>\n",
              "\n",
              "      <script>\n",
              "        const buttonEl =\n",
              "          document.querySelector('#df-1e8ebd18-eca1-4412-b5d3-ad4bc9229897 button.colab-df-convert');\n",
              "        buttonEl.style.display =\n",
              "          google.colab.kernel.accessAllowed ? 'block' : 'none';\n",
              "\n",
              "        async function convertToInteractive(key) {\n",
              "          const element = document.querySelector('#df-1e8ebd18-eca1-4412-b5d3-ad4bc9229897');\n",
              "          const dataTable =\n",
              "            await google.colab.kernel.invokeFunction('convertToInteractive',\n",
              "                                                     [key], {});\n",
              "          if (!dataTable) return;\n",
              "\n",
              "          const docLinkHtml = 'Like what you see? Visit the ' +\n",
              "            '<a target=\"_blank\" href=https://colab.research.google.com/notebooks/data_table.ipynb>data table notebook</a>'\n",
              "            + ' to learn more about interactive tables.';\n",
              "          element.innerHTML = '';\n",
              "          dataTable['output_type'] = 'display_data';\n",
              "          await google.colab.output.renderOutput(dataTable, element);\n",
              "          const docLink = document.createElement('div');\n",
              "          docLink.innerHTML = docLinkHtml;\n",
              "          element.appendChild(docLink);\n",
              "        }\n",
              "      </script>\n",
              "    </div>\n",
              "  </div>\n",
              "  "
            ],
            "text/plain": [
              "       Unnamed: 0         Requisição  ...                 Responsável      Mês\n",
              "0               0    1617824853173_2  ...            Paulo Di Martino      NaN\n",
              "1               1  1618520022958_197  ...            Larissa Siqueira      NaN\n",
              "2               2  1618853492564_426  ...            Larissa Siqueira      NaN\n",
              "3               3  1618927052097_265  ...            Larissa Siqueira      NaN\n",
              "4               4  1618927694557_277  ...            Larissa Siqueira      NaN\n",
              "...           ...                ...  ...                         ...      ...\n",
              "29958        1409             419518  ...      Howard Furtado Antunes  OUTUBRO\n",
              "29959        1410             415041  ...  Guilherme Verruck da Silva  OUTUBRO\n",
              "29960        1411             417205  ...      Howard Furtado Antunes  OUTUBRO\n",
              "29961        1412             414649  ...   Luis Henrique de Oliveira  OUTUBRO\n",
              "29962        1413             422913  ...      Howard Furtado Antunes  OUTUBRO\n",
              "\n",
              "[29963 rows x 6 columns]"
            ]
          },
          "metadata": {},
          "execution_count": 88
        }
      ],
      "source": [
        "import pandas as pd\n",
        "\n",
        "if isPathLocal:\n",
        "    path_root_out = 'D:\\\\2. Ciência de Dados\\\\1. Trabalho de Conclusão\\\\Dados\\\\'\n",
        "else:\n",
        "    path_root_out = '/content/drive/MyDrive/1. Pós Ciência de Dados/1. Trabalho de Conclusão/Testes/Extrair Dados/Dados/'\n",
        "\n",
        "### Rodar a partir daqui! ### caso tenho o arquivo 'output.xlsx'\n",
        "# Abrir DataFrame\n",
        "df_output = pd.read_excel(path_root_out + 'output.xlsx', sheet_name=0)\n",
        "df_output"
      ]
    },
    {
      "cell_type": "code",
      "execution_count": null,
      "metadata": {
        "colab": {
          "base_uri": "https://localhost:8080/"
        },
        "id": "eAA7GWVutIgt",
        "outputId": "2aa75ea9-a3c9-4877-92ef-492ac4651ddc"
      },
      "outputs": [
        {
          "output_type": "execute_result",
          "data": {
            "text/plain": [
              "(10325, 6)"
            ]
          },
          "metadata": {},
          "execution_count": 89
        }
      ],
      "source": [
        "# Total de Comentário validas\n",
        "df_output[df_output['Comentário'].notnull()].shape"
      ]
    },
    {
      "cell_type": "markdown",
      "metadata": {
        "id": "7E2gj1uF9dfx"
      },
      "source": [
        ""
      ]
    },
    {
      "cell_type": "markdown",
      "metadata": {
        "id": "xOOInJsQQhqt"
      },
      "source": [
        "## Preparando os Dados - IMDB\n"
      ]
    },
    {
      "cell_type": "code",
      "execution_count": null,
      "metadata": {
        "id": "rdJo5XWptIlk"
      },
      "outputs": [],
      "source": [
        "import pandas as pd\n",
        "import numpy as np\n",
        "\n",
        "if isPathLocal:\n",
        "    path_imdb = 'D:\\\\2. Ciência de Dados\\\\1. Trabalho de Conclusão\\\\Dados do IMDB PT-BR\\\\imdb-reviews-pt-br.csv'\n",
        "else:\n",
        "    path_imdb = '/content/drive/MyDrive/1. Pós Ciência de Dados/1. Trabalho de Conclusão/Testes/Extrair Dados/Dados do IMDB PT-BR/imdb-reviews-pt-br.csv'"
      ]
    },
    {
      "cell_type": "code",
      "execution_count": null,
      "metadata": {
        "id": "WCSxgDiktTeS"
      },
      "outputs": [],
      "source": [
        "df_imdb = pd.read_csv(path_imdb)"
      ]
    },
    {
      "cell_type": "code",
      "execution_count": null,
      "metadata": {
        "colab": {
          "base_uri": "https://localhost:8080/"
        },
        "id": "weP66SqAHO6Y",
        "outputId": "6efa0eef-7a95-40e2-e8f5-5c741844936d"
      },
      "outputs": [
        {
          "output_type": "execute_result",
          "data": {
            "text/plain": [
              "(49459, 4)"
            ]
          },
          "metadata": {},
          "execution_count": 92
        }
      ],
      "source": [
        "df_imdb.shape"
      ]
    },
    {
      "cell_type": "code",
      "execution_count": null,
      "metadata": {
        "id": "QUa6exHmSoo1"
      },
      "outputs": [],
      "source": [
        "del df_imdb['text_en']"
      ]
    },
    {
      "cell_type": "code",
      "execution_count": null,
      "metadata": {
        "id": "qTBZs6szP4Mo"
      },
      "outputs": [],
      "source": [
        "# 'pos' para 1 e 'neg' para 0\n",
        "df_imdb['sentiment'].replace(['pos', 'neg'], [1, 0], inplace=True)"
      ]
    },
    {
      "cell_type": "code",
      "execution_count": null,
      "metadata": {
        "id": "OLRlxqsZP8nj"
      },
      "outputs": [],
      "source": [
        "df_imdb.rename(columns={'text_pt': 'text', 'sentiment': 'target'}, inplace=True)"
      ]
    },
    {
      "cell_type": "code",
      "execution_count": null,
      "metadata": {
        "colab": {
          "base_uri": "https://localhost:8080/",
          "height": 424
        },
        "id": "rrFkd78THLyD",
        "outputId": "58977f2e-41ab-4ef7-a62b-e1a7a32308b9"
      },
      "outputs": [
        {
          "output_type": "execute_result",
          "data": {
            "text/html": [
              "\n",
              "  <div id=\"df-4a164d74-722d-4e26-b345-ae478254c754\">\n",
              "    <div class=\"colab-df-container\">\n",
              "      <div>\n",
              "<style scoped>\n",
              "    .dataframe tbody tr th:only-of-type {\n",
              "        vertical-align: middle;\n",
              "    }\n",
              "\n",
              "    .dataframe tbody tr th {\n",
              "        vertical-align: top;\n",
              "    }\n",
              "\n",
              "    .dataframe thead th {\n",
              "        text-align: right;\n",
              "    }\n",
              "</style>\n",
              "<table border=\"1\" class=\"dataframe\">\n",
              "  <thead>\n",
              "    <tr style=\"text-align: right;\">\n",
              "      <th></th>\n",
              "      <th>id</th>\n",
              "      <th>text</th>\n",
              "      <th>target</th>\n",
              "    </tr>\n",
              "  </thead>\n",
              "  <tbody>\n",
              "    <tr>\n",
              "      <th>0</th>\n",
              "      <td>1</td>\n",
              "      <td>Mais uma vez, o Sr. Costner arrumou um filme p...</td>\n",
              "      <td>0</td>\n",
              "    </tr>\n",
              "    <tr>\n",
              "      <th>1</th>\n",
              "      <td>2</td>\n",
              "      <td>Este é um exemplo do motivo pelo qual a maiori...</td>\n",
              "      <td>0</td>\n",
              "    </tr>\n",
              "    <tr>\n",
              "      <th>2</th>\n",
              "      <td>3</td>\n",
              "      <td>Primeiro de tudo eu odeio esses raps imbecis, ...</td>\n",
              "      <td>0</td>\n",
              "    </tr>\n",
              "    <tr>\n",
              "      <th>3</th>\n",
              "      <td>4</td>\n",
              "      <td>Nem mesmo os Beatles puderam escrever músicas ...</td>\n",
              "      <td>0</td>\n",
              "    </tr>\n",
              "    <tr>\n",
              "      <th>4</th>\n",
              "      <td>5</td>\n",
              "      <td>Filmes de fotos de latão não é uma palavra apr...</td>\n",
              "      <td>0</td>\n",
              "    </tr>\n",
              "    <tr>\n",
              "      <th>...</th>\n",
              "      <td>...</td>\n",
              "      <td>...</td>\n",
              "      <td>...</td>\n",
              "    </tr>\n",
              "    <tr>\n",
              "      <th>49454</th>\n",
              "      <td>49456</td>\n",
              "      <td>Como a média de votos era muito baixa, e o fat...</td>\n",
              "      <td>1</td>\n",
              "    </tr>\n",
              "    <tr>\n",
              "      <th>49455</th>\n",
              "      <td>49457</td>\n",
              "      <td>O enredo teve algumas reviravoltas infelizes e...</td>\n",
              "      <td>1</td>\n",
              "    </tr>\n",
              "    <tr>\n",
              "      <th>49456</th>\n",
              "      <td>49458</td>\n",
              "      <td>Estou espantado com a forma como este filme e ...</td>\n",
              "      <td>1</td>\n",
              "    </tr>\n",
              "    <tr>\n",
              "      <th>49457</th>\n",
              "      <td>49459</td>\n",
              "      <td>A Christmas Together realmente veio antes do m...</td>\n",
              "      <td>1</td>\n",
              "    </tr>\n",
              "    <tr>\n",
              "      <th>49458</th>\n",
              "      <td>49460</td>\n",
              "      <td>O drama romântico da classe trabalhadora do di...</td>\n",
              "      <td>1</td>\n",
              "    </tr>\n",
              "  </tbody>\n",
              "</table>\n",
              "<p>49459 rows × 3 columns</p>\n",
              "</div>\n",
              "      <button class=\"colab-df-convert\" onclick=\"convertToInteractive('df-4a164d74-722d-4e26-b345-ae478254c754')\"\n",
              "              title=\"Convert this dataframe to an interactive table.\"\n",
              "              style=\"display:none;\">\n",
              "        \n",
              "  <svg xmlns=\"http://www.w3.org/2000/svg\" height=\"24px\"viewBox=\"0 0 24 24\"\n",
              "       width=\"24px\">\n",
              "    <path d=\"M0 0h24v24H0V0z\" fill=\"none\"/>\n",
              "    <path d=\"M18.56 5.44l.94 2.06.94-2.06 2.06-.94-2.06-.94-.94-2.06-.94 2.06-2.06.94zm-11 1L8.5 8.5l.94-2.06 2.06-.94-2.06-.94L8.5 2.5l-.94 2.06-2.06.94zm10 10l.94 2.06.94-2.06 2.06-.94-2.06-.94-.94-2.06-.94 2.06-2.06.94z\"/><path d=\"M17.41 7.96l-1.37-1.37c-.4-.4-.92-.59-1.43-.59-.52 0-1.04.2-1.43.59L10.3 9.45l-7.72 7.72c-.78.78-.78 2.05 0 2.83L4 21.41c.39.39.9.59 1.41.59.51 0 1.02-.2 1.41-.59l7.78-7.78 2.81-2.81c.8-.78.8-2.07 0-2.86zM5.41 20L4 18.59l7.72-7.72 1.47 1.35L5.41 20z\"/>\n",
              "  </svg>\n",
              "      </button>\n",
              "      \n",
              "  <style>\n",
              "    .colab-df-container {\n",
              "      display:flex;\n",
              "      flex-wrap:wrap;\n",
              "      gap: 12px;\n",
              "    }\n",
              "\n",
              "    .colab-df-convert {\n",
              "      background-color: #E8F0FE;\n",
              "      border: none;\n",
              "      border-radius: 50%;\n",
              "      cursor: pointer;\n",
              "      display: none;\n",
              "      fill: #1967D2;\n",
              "      height: 32px;\n",
              "      padding: 0 0 0 0;\n",
              "      width: 32px;\n",
              "    }\n",
              "\n",
              "    .colab-df-convert:hover {\n",
              "      background-color: #E2EBFA;\n",
              "      box-shadow: 0px 1px 2px rgba(60, 64, 67, 0.3), 0px 1px 3px 1px rgba(60, 64, 67, 0.15);\n",
              "      fill: #174EA6;\n",
              "    }\n",
              "\n",
              "    [theme=dark] .colab-df-convert {\n",
              "      background-color: #3B4455;\n",
              "      fill: #D2E3FC;\n",
              "    }\n",
              "\n",
              "    [theme=dark] .colab-df-convert:hover {\n",
              "      background-color: #434B5C;\n",
              "      box-shadow: 0px 1px 3px 1px rgba(0, 0, 0, 0.15);\n",
              "      filter: drop-shadow(0px 1px 2px rgba(0, 0, 0, 0.3));\n",
              "      fill: #FFFFFF;\n",
              "    }\n",
              "  </style>\n",
              "\n",
              "      <script>\n",
              "        const buttonEl =\n",
              "          document.querySelector('#df-4a164d74-722d-4e26-b345-ae478254c754 button.colab-df-convert');\n",
              "        buttonEl.style.display =\n",
              "          google.colab.kernel.accessAllowed ? 'block' : 'none';\n",
              "\n",
              "        async function convertToInteractive(key) {\n",
              "          const element = document.querySelector('#df-4a164d74-722d-4e26-b345-ae478254c754');\n",
              "          const dataTable =\n",
              "            await google.colab.kernel.invokeFunction('convertToInteractive',\n",
              "                                                     [key], {});\n",
              "          if (!dataTable) return;\n",
              "\n",
              "          const docLinkHtml = 'Like what you see? Visit the ' +\n",
              "            '<a target=\"_blank\" href=https://colab.research.google.com/notebooks/data_table.ipynb>data table notebook</a>'\n",
              "            + ' to learn more about interactive tables.';\n",
              "          element.innerHTML = '';\n",
              "          dataTable['output_type'] = 'display_data';\n",
              "          await google.colab.output.renderOutput(dataTable, element);\n",
              "          const docLink = document.createElement('div');\n",
              "          docLink.innerHTML = docLinkHtml;\n",
              "          element.appendChild(docLink);\n",
              "        }\n",
              "      </script>\n",
              "    </div>\n",
              "  </div>\n",
              "  "
            ],
            "text/plain": [
              "          id                                               text  target\n",
              "0          1  Mais uma vez, o Sr. Costner arrumou um filme p...       0\n",
              "1          2  Este é um exemplo do motivo pelo qual a maiori...       0\n",
              "2          3  Primeiro de tudo eu odeio esses raps imbecis, ...       0\n",
              "3          4  Nem mesmo os Beatles puderam escrever músicas ...       0\n",
              "4          5  Filmes de fotos de latão não é uma palavra apr...       0\n",
              "...      ...                                                ...     ...\n",
              "49454  49456  Como a média de votos era muito baixa, e o fat...       1\n",
              "49455  49457  O enredo teve algumas reviravoltas infelizes e...       1\n",
              "49456  49458  Estou espantado com a forma como este filme e ...       1\n",
              "49457  49459  A Christmas Together realmente veio antes do m...       1\n",
              "49458  49460  O drama romântico da classe trabalhadora do di...       1\n",
              "\n",
              "[49459 rows x 3 columns]"
            ]
          },
          "metadata": {},
          "execution_count": 96
        }
      ],
      "source": [
        "df_imdb"
      ]
    },
    {
      "cell_type": "markdown",
      "metadata": {
        "id": "cGf_uW9cVdyi"
      },
      "source": [
        "# Basic Naive Bayes - MultinomialNB"
      ]
    },
    {
      "cell_type": "code",
      "execution_count": null,
      "metadata": {
        "id": "EXQp5LasaEI4"
      },
      "outputs": [],
      "source": [
        "#import pandas as pd\n",
        "from sklearn.feature_extraction.text import CountVectorizer\n",
        "from sklearn.naive_bayes import MultinomialNB\n",
        "from sklearn import metrics\n",
        "from sklearn.model_selection import cross_val_predict"
      ]
    },
    {
      "cell_type": "markdown",
      "metadata": {
        "id": "x4oujCfN_MzG"
      },
      "source": [
        "## Dados - train, test"
      ]
    },
    {
      "cell_type": "code",
      "execution_count": null,
      "metadata": {
        "id": "XihPp0G7NlUk"
      },
      "outputs": [],
      "source": [
        "X = df_imdb['text'].values # Textos\n",
        "Y = df_imdb['target'].values # alvo\n",
        "\n",
        "x_train, x_test, y_train, y_test = train_test_split(X, Y, test_size=0.5) # 0.5 => 50% dos textos para teste ?? pega o dataset e faz um split entre treino e teste"
      ]
    },
    {
      "cell_type": "code",
      "execution_count": null,
      "metadata": {
        "id": "sAvzFGZVNlUk"
      },
      "outputs": [],
      "source": [
        "data_test = pd.DataFrame(x_test, columns=['text'])\n",
        "data_test['target'] = y_test #cria 1 dataframe utilizando pandas, um para teste "
      ]
    },
    {
      "cell_type": "code",
      "execution_count": null,
      "metadata": {
        "id": "5qiekV2JNlUk"
      },
      "outputs": [],
      "source": [
        "data_train = pd.DataFrame(x_train, columns=['text']) #cria 1 dataframe utilizando pandas, um para treinamento do modelo\\\n",
        "data_train['target'] = y_train"
      ]
    },
    {
      "cell_type": "code",
      "execution_count": null,
      "metadata": {
        "id": "YNYzHSgENlUk"
      },
      "outputs": [],
      "source": [
        "# Pega 30% dos dados para validar\n",
        "data_val = df_imdb.sample(frac =.30) "
      ]
    },
    {
      "cell_type": "code",
      "execution_count": null,
      "metadata": {
        "colab": {
          "base_uri": "https://localhost:8080/"
        },
        "outputId": "ba079737-55e1-4e37-936e-3b74e234082d",
        "id": "tRVRJYiVNlUk"
      },
      "outputs": [
        {
          "output_type": "stream",
          "name": "stdout",
          "text": [
            "data_test:  24730 data_train:  24729 data_val:  14838\n"
          ]
        }
      ],
      "source": [
        "print('data_test: ', len(data_test), 'data_train: ', len(data_train), 'data_val: ', len(data_val))"
      ]
    },
    {
      "cell_type": "markdown",
      "metadata": {
        "id": "NFR8SVBz_O86"
      },
      "source": [
        "## Modelo"
      ]
    },
    {
      "cell_type": "code",
      "source": [
        "class MultinomialNBModel:\n",
        "\n",
        "  def __init__(self, classes):\n",
        "    self.classes = classes\n",
        "    self.modelo = MultinomialNB()\n",
        "  \n",
        "  def vectorizer(self, texts):\n",
        "    self.vectorizer = CountVectorizer(analyzer=\"word\")\n",
        "    self.texts_vec = self.vectorizer.fit_transform(texts)\n",
        "\n",
        "  def fit(self):\n",
        "    self.modelo.fit(self.texts_vec, self.classes)\n",
        "\n",
        "  def prediction(self, texts):\n",
        "    self.texts_vector = self.vectorizer.transform(texts)\n",
        "    result = self.modelo.predict(self.texts_vector)\n",
        "    return result\n",
        "\n",
        "  def accuracy_score(self):\n",
        "    results = cross_val_predict(self.modelo, self.texts_vec, self.classes, cv=10)\n",
        "    metrics_ = metrics.accuracy_score(self.classes, results)\n",
        "    return metrics_"
      ],
      "metadata": {
        "id": "4xbTT9zsSz1g"
      },
      "execution_count": null,
      "outputs": []
    },
    {
      "cell_type": "code",
      "execution_count": null,
      "metadata": {
        "id": "9m-3eEhfzWDi"
      },
      "outputs": [],
      "source": [
        "predictor = MultinomialNBModel(data_test['target'])"
      ]
    },
    {
      "cell_type": "code",
      "source": [
        "predictor.vectorizer(data_test['text'])"
      ],
      "metadata": {
        "id": "LQhY9uAl2T2E"
      },
      "execution_count": null,
      "outputs": []
    },
    {
      "cell_type": "markdown",
      "metadata": {
        "id": "LgyzNWm-_UPe"
      },
      "source": [
        "## Treinamento"
      ]
    },
    {
      "cell_type": "code",
      "execution_count": null,
      "metadata": {
        "id": "z_66WXKc_WZY"
      },
      "outputs": [],
      "source": [
        "predictor.fit()"
      ]
    },
    {
      "cell_type": "markdown",
      "metadata": {
        "id": "8HUX3xAt_Z6D"
      },
      "source": [
        "## Teste"
      ]
    },
    {
      "cell_type": "code",
      "execution_count": null,
      "metadata": {
        "id": "nu6b0f9U2Xog"
      },
      "outputs": [],
      "source": [
        "testes = ['Esse governo está no início, vamos ver o que vai dar',\n",
        "         'Estou muito feliz com o governo de Minas esse ano',\n",
        "         'O estado de Minas Gerais decretou calamidade financeira!!!',\n",
        "         'A segurança desse país é muio ruim',\n",
        "         'O governador de Minas é bom']"
      ]
    },
    {
      "cell_type": "code",
      "execution_count": null,
      "metadata": {
        "id": "i_U4JLKi29Uf",
        "colab": {
          "base_uri": "https://localhost:8080/"
        },
        "outputId": "7af0970b-6740-435d-c9a0-7ec47aa069f1"
      },
      "outputs": [
        {
          "output_type": "execute_result",
          "data": {
            "text/plain": [
              "array([0, 1, 1, 0, 1])"
            ]
          },
          "metadata": {},
          "execution_count": 109
        }
      ],
      "source": [
        "predictions = predictor.prediction(testes)\n",
        "predictions"
      ]
    },
    {
      "cell_type": "markdown",
      "metadata": {
        "id": "4UFYh7eWBH8q"
      },
      "source": [
        "## Avaliação"
      ]
    },
    {
      "cell_type": "code",
      "source": [
        "from sklearn import metrics\n",
        "from sklearn.metrics import precision_recall_fscore_support\n",
        "from sklearn.model_selection import train_test_split"
      ],
      "metadata": {
        "id": "SWlLr6cgLoYi"
      },
      "execution_count": null,
      "outputs": []
    },
    {
      "cell_type": "code",
      "source": [
        "predictions_test = predictor.prediction(data_test['text'])\n",
        "#predictions_test[0:10]"
      ],
      "metadata": {
        "id": "1LrjX10hwlso"
      },
      "execution_count": null,
      "outputs": []
    },
    {
      "cell_type": "code",
      "source": [
        "precision, recall, fscore, support = precision_recall_fscore_support(data_test['target'], predictions_test, average='binary')\n",
        "print('precision:', precision, 'recall:', recall, 'fscore:', fscore)"
      ],
      "metadata": {
        "colab": {
          "base_uri": "https://localhost:8080/"
        },
        "id": "2GESSAYZZiur",
        "outputId": "9be06480-3e94-4c7c-c9f7-b7e7c0cd34f1"
      },
      "execution_count": null,
      "outputs": [
        {
          "output_type": "stream",
          "name": "stdout",
          "text": [
            "precision: 0.9378511833815767 recall: 0.8881722163992583 fscore: 0.9123359145306225\n"
          ]
        }
      ]
    },
    {
      "cell_type": "code",
      "source": [
        "texts_imdb = df_imdb.sample(frac =.40)\n",
        "texts_test_imdb = texts_imdb['text']\n",
        "texts_target_imdb = texts_imdb['target']\n",
        "\n",
        "predictions_test_imdb = predictor.prediction(texts_test_imdb)\n",
        "predictions_test_imdb"
      ],
      "metadata": {
        "colab": {
          "base_uri": "https://localhost:8080/"
        },
        "id": "CFMrorFdy-eU",
        "outputId": "7dac5fc7-c743-4314-f376-9f18e5c9db23"
      },
      "execution_count": null,
      "outputs": [
        {
          "output_type": "execute_result",
          "data": {
            "text/plain": [
              "array([0, 0, 1, ..., 1, 0, 0])"
            ]
          },
          "metadata": {},
          "execution_count": 124
        }
      ]
    },
    {
      "cell_type": "code",
      "source": [
        "precision, recall, fscore, support = precision_recall_fscore_support(texts_target_imdb, predictions_test_imdb, average='binary')\n",
        "print('precision:', precision, 'recall:', recall, 'fscore:', fscore)"
      ],
      "metadata": {
        "colab": {
          "base_uri": "https://localhost:8080/"
        },
        "id": "2-VIv9q8bOSM",
        "outputId": "8656e023-2754-4b18-b949-761140e1342b"
      },
      "execution_count": null,
      "outputs": [
        {
          "output_type": "stream",
          "name": "stdout",
          "text": [
            "precision: 0.9007843968624125 recall: 0.8542420587052674 fscore: 0.8768960891548859\n"
          ]
        }
      ]
    },
    {
      "cell_type": "code",
      "source": [
        "metrics.accuracy_score(data_test['target'], predictions_test)"
      ],
      "metadata": {
        "colab": {
          "base_uri": "https://localhost:8080/"
        },
        "id": "GwMmT2DKAG0v",
        "outputId": "cab77d04-c91f-47c9-dbc9-9dbe234febdb"
      },
      "execution_count": null,
      "outputs": [
        {
          "output_type": "execute_result",
          "data": {
            "text/plain": [
              "0.9143954710877477"
            ]
          },
          "metadata": {},
          "execution_count": 126
        }
      ]
    },
    {
      "cell_type": "markdown",
      "source": [
        "## DataSet - NPS"
      ],
      "metadata": {
        "id": "hWDjHakOvPpJ"
      }
    },
    {
      "cell_type": "code",
      "source": [
        "df_output_nps = df_output[df_output['Comentário'].notnull()]"
      ],
      "metadata": {
        "id": "KGLmaLq7tOXu"
      },
      "execution_count": null,
      "outputs": []
    },
    {
      "cell_type": "code",
      "source": [
        "df_output_nps.shape"
      ],
      "metadata": {
        "colab": {
          "base_uri": "https://localhost:8080/"
        },
        "id": "3ryctUjW0xra",
        "outputId": "7b8f10c2-6ca5-494e-d4b0-aed10733a64e"
      },
      "execution_count": null,
      "outputs": [
        {
          "output_type": "execute_result",
          "data": {
            "text/plain": [
              "(10325, 6)"
            ]
          },
          "metadata": {},
          "execution_count": 128
        }
      ]
    },
    {
      "cell_type": "code",
      "source": [
        "df_output_nps_comentario = df_output_nps['Comentário'].tolist()"
      ],
      "metadata": {
        "id": "l2ys5Jn5u0xp"
      },
      "execution_count": null,
      "outputs": []
    },
    {
      "cell_type": "code",
      "source": [
        "df_output_nps_comentario = [str(item) for item in df_output_nps_comentario]"
      ],
      "metadata": {
        "id": "bluy7-Hq5o52"
      },
      "execution_count": null,
      "outputs": []
    },
    {
      "cell_type": "code",
      "source": [
        "predictions_nps = predictor.prediction(df_output_nps_comentario)\n",
        "predictions_nps"
      ],
      "metadata": {
        "colab": {
          "base_uri": "https://localhost:8080/"
        },
        "id": "sncSlh394-IM",
        "outputId": "693e47f0-d385-4284-a44f-4e52f5ceed7b"
      },
      "execution_count": null,
      "outputs": [
        {
          "output_type": "execute_result",
          "data": {
            "text/plain": [
              "array([1, 1, 1, ..., 1, 1, 1])"
            ]
          },
          "metadata": {},
          "execution_count": 131
        }
      ]
    },
    {
      "cell_type": "code",
      "source": [
        "len(predictions_nps)"
      ],
      "metadata": {
        "colab": {
          "base_uri": "https://localhost:8080/"
        },
        "id": "wOQjGSSN44nV",
        "outputId": "65b335f0-bab0-449d-bc7b-ef151e2c358d"
      },
      "execution_count": null,
      "outputs": [
        {
          "output_type": "execute_result",
          "data": {
            "text/plain": [
              "10325"
            ]
          },
          "metadata": {},
          "execution_count": 132
        }
      ]
    },
    {
      "cell_type": "code",
      "source": [
        "df_output_nps['MultinomialNB'] = predictions_nps"
      ],
      "metadata": {
        "colab": {
          "base_uri": "https://localhost:8080/"
        },
        "id": "MXZziYzZvszp",
        "outputId": "47ac40e6-d6e3-42ed-e3cf-ace9bda1e748"
      },
      "execution_count": null,
      "outputs": [
        {
          "output_type": "stream",
          "name": "stderr",
          "text": [
            "/usr/local/lib/python3.7/dist-packages/ipykernel_launcher.py:1: SettingWithCopyWarning: \n",
            "A value is trying to be set on a copy of a slice from a DataFrame.\n",
            "Try using .loc[row_indexer,col_indexer] = value instead\n",
            "\n",
            "See the caveats in the documentation: https://pandas.pydata.org/pandas-docs/stable/user_guide/indexing.html#returning-a-view-versus-a-copy\n",
            "  \"\"\"Entry point for launching an IPython kernel.\n"
          ]
        }
      ]
    },
    {
      "cell_type": "code",
      "source": [
        "df_output_nps"
      ],
      "metadata": {
        "colab": {
          "base_uri": "https://localhost:8080/",
          "height": 424
        },
        "id": "Gdq91jJu6X5Q",
        "outputId": "7df3c26e-aed0-4a63-de46-ca6a45786ee4"
      },
      "execution_count": null,
      "outputs": [
        {
          "output_type": "execute_result",
          "data": {
            "text/html": [
              "\n",
              "  <div id=\"df-5bbbadf9-311b-4cd8-8e54-9b93af6fb225\">\n",
              "    <div class=\"colab-df-container\">\n",
              "      <div>\n",
              "<style scoped>\n",
              "    .dataframe tbody tr th:only-of-type {\n",
              "        vertical-align: middle;\n",
              "    }\n",
              "\n",
              "    .dataframe tbody tr th {\n",
              "        vertical-align: top;\n",
              "    }\n",
              "\n",
              "    .dataframe thead th {\n",
              "        text-align: right;\n",
              "    }\n",
              "</style>\n",
              "<table border=\"1\" class=\"dataframe\">\n",
              "  <thead>\n",
              "    <tr style=\"text-align: right;\">\n",
              "      <th></th>\n",
              "      <th>Unnamed: 0</th>\n",
              "      <th>Requisição</th>\n",
              "      <th>Nota</th>\n",
              "      <th>Comentário</th>\n",
              "      <th>Responsável</th>\n",
              "      <th>Mês</th>\n",
              "      <th>MultinomialNB</th>\n",
              "    </tr>\n",
              "  </thead>\n",
              "  <tbody>\n",
              "    <tr>\n",
              "      <th>4</th>\n",
              "      <td>4</td>\n",
              "      <td>1618927694557_277</td>\n",
              "      <td>10</td>\n",
              "      <td>excelente</td>\n",
              "      <td>Larissa Siqueira</td>\n",
              "      <td>NaN</td>\n",
              "      <td>1</td>\n",
              "    </tr>\n",
              "    <tr>\n",
              "      <th>6</th>\n",
              "      <td>6</td>\n",
              "      <td>1618933026635_356</td>\n",
              "      <td>10</td>\n",
              "      <td>Muito atenciosa!</td>\n",
              "      <td>Larissa Siqueira</td>\n",
              "      <td>NaN</td>\n",
              "      <td>1</td>\n",
              "    </tr>\n",
              "    <tr>\n",
              "      <th>9</th>\n",
              "      <td>9</td>\n",
              "      <td>1618951091520_773</td>\n",
              "      <td>10</td>\n",
              "      <td>ótimo atendimento</td>\n",
              "      <td>Larissa Siqueira</td>\n",
              "      <td>NaN</td>\n",
              "      <td>1</td>\n",
              "    </tr>\n",
              "    <tr>\n",
              "      <th>42</th>\n",
              "      <td>42</td>\n",
              "      <td>1621455095064_757</td>\n",
              "      <td>10</td>\n",
              "      <td>muito prestativa</td>\n",
              "      <td>Larissa Siqueira</td>\n",
              "      <td>NaN</td>\n",
              "      <td>1</td>\n",
              "    </tr>\n",
              "    <tr>\n",
              "      <th>47</th>\n",
              "      <td>47</td>\n",
              "      <td>1621532200459_511</td>\n",
              "      <td>10</td>\n",
              "      <td>Ótimo atendimento e agilidade nas respostas!</td>\n",
              "      <td>Larissa Siqueira</td>\n",
              "      <td>NaN</td>\n",
              "      <td>1</td>\n",
              "    </tr>\n",
              "    <tr>\n",
              "      <th>...</th>\n",
              "      <td>...</td>\n",
              "      <td>...</td>\n",
              "      <td>...</td>\n",
              "      <td>...</td>\n",
              "      <td>...</td>\n",
              "      <td>...</td>\n",
              "      <td>...</td>\n",
              "    </tr>\n",
              "    <tr>\n",
              "      <th>27754</th>\n",
              "      <td>719</td>\n",
              "      <td>345198</td>\n",
              "      <td>10</td>\n",
              "      <td>OTIM ATENDIMENTO, MUITO EFICAZ !!</td>\n",
              "      <td>Gabriel Letelier</td>\n",
              "      <td>MAIO</td>\n",
              "      <td>1</td>\n",
              "    </tr>\n",
              "    <tr>\n",
              "      <th>27755</th>\n",
              "      <td>720</td>\n",
              "      <td>345183</td>\n",
              "      <td>10</td>\n",
              "      <td>Muito obrigada pelo bom atendimento</td>\n",
              "      <td>Luis Henrique de Oliveira</td>\n",
              "      <td>MAIO</td>\n",
              "      <td>1</td>\n",
              "    </tr>\n",
              "    <tr>\n",
              "      <th>27756</th>\n",
              "      <td>721</td>\n",
              "      <td>339210</td>\n",
              "      <td>10</td>\n",
              "      <td>10</td>\n",
              "      <td>Gabriel Letelier</td>\n",
              "      <td>MAIO</td>\n",
              "      <td>1</td>\n",
              "    </tr>\n",
              "    <tr>\n",
              "      <th>27757</th>\n",
              "      <td>722</td>\n",
              "      <td>344020</td>\n",
              "      <td>10</td>\n",
              "      <td>Excelente atendimento!</td>\n",
              "      <td>Fernando Teixeira</td>\n",
              "      <td>MAIO</td>\n",
              "      <td>1</td>\n",
              "    </tr>\n",
              "    <tr>\n",
              "      <th>28550</th>\n",
              "      <td>1</td>\n",
              "      <td>410116</td>\n",
              "      <td>10</td>\n",
              "      <td>muito bom</td>\n",
              "      <td>Willian Cardoso Luz</td>\n",
              "      <td>OUTUBRO</td>\n",
              "      <td>1</td>\n",
              "    </tr>\n",
              "  </tbody>\n",
              "</table>\n",
              "<p>10325 rows × 7 columns</p>\n",
              "</div>\n",
              "      <button class=\"colab-df-convert\" onclick=\"convertToInteractive('df-5bbbadf9-311b-4cd8-8e54-9b93af6fb225')\"\n",
              "              title=\"Convert this dataframe to an interactive table.\"\n",
              "              style=\"display:none;\">\n",
              "        \n",
              "  <svg xmlns=\"http://www.w3.org/2000/svg\" height=\"24px\"viewBox=\"0 0 24 24\"\n",
              "       width=\"24px\">\n",
              "    <path d=\"M0 0h24v24H0V0z\" fill=\"none\"/>\n",
              "    <path d=\"M18.56 5.44l.94 2.06.94-2.06 2.06-.94-2.06-.94-.94-2.06-.94 2.06-2.06.94zm-11 1L8.5 8.5l.94-2.06 2.06-.94-2.06-.94L8.5 2.5l-.94 2.06-2.06.94zm10 10l.94 2.06.94-2.06 2.06-.94-2.06-.94-.94-2.06-.94 2.06-2.06.94z\"/><path d=\"M17.41 7.96l-1.37-1.37c-.4-.4-.92-.59-1.43-.59-.52 0-1.04.2-1.43.59L10.3 9.45l-7.72 7.72c-.78.78-.78 2.05 0 2.83L4 21.41c.39.39.9.59 1.41.59.51 0 1.02-.2 1.41-.59l7.78-7.78 2.81-2.81c.8-.78.8-2.07 0-2.86zM5.41 20L4 18.59l7.72-7.72 1.47 1.35L5.41 20z\"/>\n",
              "  </svg>\n",
              "      </button>\n",
              "      \n",
              "  <style>\n",
              "    .colab-df-container {\n",
              "      display:flex;\n",
              "      flex-wrap:wrap;\n",
              "      gap: 12px;\n",
              "    }\n",
              "\n",
              "    .colab-df-convert {\n",
              "      background-color: #E8F0FE;\n",
              "      border: none;\n",
              "      border-radius: 50%;\n",
              "      cursor: pointer;\n",
              "      display: none;\n",
              "      fill: #1967D2;\n",
              "      height: 32px;\n",
              "      padding: 0 0 0 0;\n",
              "      width: 32px;\n",
              "    }\n",
              "\n",
              "    .colab-df-convert:hover {\n",
              "      background-color: #E2EBFA;\n",
              "      box-shadow: 0px 1px 2px rgba(60, 64, 67, 0.3), 0px 1px 3px 1px rgba(60, 64, 67, 0.15);\n",
              "      fill: #174EA6;\n",
              "    }\n",
              "\n",
              "    [theme=dark] .colab-df-convert {\n",
              "      background-color: #3B4455;\n",
              "      fill: #D2E3FC;\n",
              "    }\n",
              "\n",
              "    [theme=dark] .colab-df-convert:hover {\n",
              "      background-color: #434B5C;\n",
              "      box-shadow: 0px 1px 3px 1px rgba(0, 0, 0, 0.15);\n",
              "      filter: drop-shadow(0px 1px 2px rgba(0, 0, 0, 0.3));\n",
              "      fill: #FFFFFF;\n",
              "    }\n",
              "  </style>\n",
              "\n",
              "      <script>\n",
              "        const buttonEl =\n",
              "          document.querySelector('#df-5bbbadf9-311b-4cd8-8e54-9b93af6fb225 button.colab-df-convert');\n",
              "        buttonEl.style.display =\n",
              "          google.colab.kernel.accessAllowed ? 'block' : 'none';\n",
              "\n",
              "        async function convertToInteractive(key) {\n",
              "          const element = document.querySelector('#df-5bbbadf9-311b-4cd8-8e54-9b93af6fb225');\n",
              "          const dataTable =\n",
              "            await google.colab.kernel.invokeFunction('convertToInteractive',\n",
              "                                                     [key], {});\n",
              "          if (!dataTable) return;\n",
              "\n",
              "          const docLinkHtml = 'Like what you see? Visit the ' +\n",
              "            '<a target=\"_blank\" href=https://colab.research.google.com/notebooks/data_table.ipynb>data table notebook</a>'\n",
              "            + ' to learn more about interactive tables.';\n",
              "          element.innerHTML = '';\n",
              "          dataTable['output_type'] = 'display_data';\n",
              "          await google.colab.output.renderOutput(dataTable, element);\n",
              "          const docLink = document.createElement('div');\n",
              "          docLink.innerHTML = docLinkHtml;\n",
              "          element.appendChild(docLink);\n",
              "        }\n",
              "      </script>\n",
              "    </div>\n",
              "  </div>\n",
              "  "
            ],
            "text/plain": [
              "       Unnamed: 0         Requisição  ...      Mês MultinomialNB\n",
              "4               4  1618927694557_277  ...      NaN             1\n",
              "6               6  1618933026635_356  ...      NaN             1\n",
              "9               9  1618951091520_773  ...      NaN             1\n",
              "42             42  1621455095064_757  ...      NaN             1\n",
              "47             47  1621532200459_511  ...      NaN             1\n",
              "...           ...                ...  ...      ...           ...\n",
              "27754         719             345198  ...     MAIO             1\n",
              "27755         720             345183  ...     MAIO             1\n",
              "27756         721             339210  ...     MAIO             1\n",
              "27757         722             344020  ...     MAIO             1\n",
              "28550           1             410116  ...  OUTUBRO             1\n",
              "\n",
              "[10325 rows x 7 columns]"
            ]
          },
          "metadata": {},
          "execution_count": 134
        }
      ]
    },
    {
      "cell_type": "markdown",
      "metadata": {
        "id": "c4XMqpif846a"
      },
      "source": [
        "# Keras"
      ]
    },
    {
      "cell_type": "code",
      "execution_count": null,
      "metadata": {
        "id": "Z8e--HZf9JxG"
      },
      "outputs": [],
      "source": [
        "import tensorflow as tf \n",
        "from tensorflow import keras\n",
        "\n",
        "#import keras\n",
        "from keras.layers import (\n",
        "    Embedding,\n",
        "    Conv1D,\n",
        "    LSTM,\n",
        "    Concatenate,\n",
        "    GlobalMaxPool1D,\n",
        "    Dense, \n",
        ")\n",
        "from keras import Model\n",
        "from keras import losses\n",
        "\n",
        "from keras import backend as K\n",
        "\n",
        "from distutils.version import LooseVersion as LV\n",
        "from keras import __version__\n",
        "\n",
        "from tensorflow.keras.utils import to_categorical\n",
        "from keras.preprocessing.text import Tokenizer, one_hot\n",
        "from keras.preprocessing.sequence import pad_sequences\n",
        "\n",
        "from matplotlib import pyplot as plt\n",
        "from sklearn.model_selection import train_test_split # Metodo usado para obter os dados de treino e teste"
      ]
    },
    {
      "cell_type": "code",
      "execution_count": null,
      "metadata": {
        "colab": {
          "base_uri": "https://localhost:8080/"
        },
        "id": "IxpF1XV4k7kE",
        "outputId": "dfa966bd-2f7e-4381-b116-1aee1e5efee2"
      },
      "outputs": [
        {
          "output_type": "stream",
          "name": "stdout",
          "text": [
            "Using Keras version: 2.8.0 backend: tensorflow\n"
          ]
        }
      ],
      "source": [
        "print('Using Keras version:', __version__, 'backend:', K.backend())\n",
        "assert(LV(__version__) >= LV(\"2.0.0\"))"
      ]
    },
    {
      "cell_type": "code",
      "execution_count": null,
      "metadata": {
        "colab": {
          "base_uri": "https://localhost:8080/"
        },
        "id": "FPsT8Ablk7kE",
        "outputId": "21775177-90c0-4007-97b4-6abf9dba6d52"
      },
      "outputs": [
        {
          "output_type": "execute_result",
          "data": {
            "text/plain": [
              "array([0, 1])"
            ]
          },
          "metadata": {},
          "execution_count": 137
        }
      ],
      "source": [
        "classes = df_imdb['target'].unique() # verifica todas as classes diferentes dentro do dataset imdb\n",
        "classes # (1 == POSITIVO, 0 == NEGATIVO)"
      ]
    },
    {
      "cell_type": "markdown",
      "metadata": {
        "id": "bQz0mvb8-UYK"
      },
      "source": [
        "## Dados - train, test"
      ]
    },
    {
      "cell_type": "code",
      "execution_count": null,
      "metadata": {
        "id": "o5zZlGnpW76W"
      },
      "outputs": [],
      "source": [
        "X = df_imdb['text'].values # Textos\n",
        "Y = df_imdb['target'].values # alvo\n",
        "\n",
        "x_train, x_test, y_train, y_test = train_test_split(X, Y, test_size=0.5) # 0.5 => 50% dos textos para teste ?? pega o dataset e faz um split entre treino e teste"
      ]
    },
    {
      "cell_type": "code",
      "execution_count": null,
      "metadata": {
        "id": "ngItw6ICQRI6"
      },
      "outputs": [],
      "source": [
        "data_test = pd.DataFrame(x_test, columns=['text'])\n",
        "data_test['target'] = y_test #cria 1 dataframe utilizando pandas, um para teste "
      ]
    },
    {
      "cell_type": "code",
      "execution_count": null,
      "metadata": {
        "id": "1mPOcvLZWjRr"
      },
      "outputs": [],
      "source": [
        "data_train = pd.DataFrame(x_train, columns=['text']) #cria 1 dataframe utilizando pandas, um para treinamento do modelo\\\n",
        "data_train['target'] = y_train"
      ]
    },
    {
      "cell_type": "code",
      "execution_count": null,
      "metadata": {
        "id": "J2JSPGSnWjUI"
      },
      "outputs": [],
      "source": [
        "# Pega 30% dos dados para validar\n",
        "data_val = df_imdb.sample(frac =.30) "
      ]
    },
    {
      "cell_type": "code",
      "execution_count": null,
      "metadata": {
        "colab": {
          "base_uri": "https://localhost:8080/"
        },
        "id": "DYHMNM0eWjWn",
        "outputId": "8379fb89-e340-46d9-8f83-78324616addf"
      },
      "outputs": [
        {
          "output_type": "stream",
          "name": "stdout",
          "text": [
            "data_test:  24730 data_train:  24729 data_val:  14838\n"
          ]
        }
      ],
      "source": [
        "print('data_test: ', len(data_test), 'data_train: ', len(data_train), 'data_val: ', len(data_val))"
      ]
    },
    {
      "cell_type": "markdown",
      "metadata": {
        "id": "MtvzHJNfXmZJ"
      },
      "source": [
        "## Tokenização"
      ]
    },
    {
      "cell_type": "code",
      "source": [
        "class TokenizerText: #cria uma classe para tokenizar os textos, ou seja, vetoria todos os textos\n",
        "\n",
        "  def __init__(self, texts, num_words=20000):\n",
        "    #self.texts = texts\n",
        "\n",
        "    self.tokenizer = Tokenizer(num_words=num_words)\n",
        "    self.tokenizer.fit_on_texts(texts)\n",
        "  \n",
        "  def to_sequences(self, texts):\n",
        "    tokens = self.tokenizer.texts_to_sequences(texts)\n",
        "    return tokens\n",
        "\n",
        "  def get_tokenizer(self):\n",
        "    return self.tokenizer"
      ],
      "metadata": {
        "id": "ELd3r1BRUV-3"
      },
      "execution_count": null,
      "outputs": []
    },
    {
      "cell_type": "code",
      "source": [
        "tokenizerText = TokenizerText(data_train.text)"
      ],
      "metadata": {
        "id": "5TKo1cxdU2rg"
      },
      "execution_count": null,
      "outputs": []
    },
    {
      "cell_type": "code",
      "source": [
        "train_tokens = tokenizerText.to_sequences(data_train.text) # retorna os tokens para o treinamento\n",
        "test_tokens = tokenizerText.to_sequences(data_test.text)# testes\n",
        "val_tokens = tokenizerText.to_sequences(data_val.text)# validacao"
      ],
      "metadata": {
        "id": "c7ENufaxVP4L"
      },
      "execution_count": null,
      "outputs": []
    },
    {
      "cell_type": "code",
      "execution_count": null,
      "metadata": {
        "colab": {
          "base_uri": "https://localhost:8080/"
        },
        "id": "3l0YvSMDVdjt",
        "outputId": "54e252fd-fcd6-4a2c-d5bc-4d8710418ca1"
      },
      "outputs": [
        {
          "output_type": "execute_result",
          "data": {
            "text/plain": [
              "[512, 117, 6, 12230, 8231, 173, 97, 416, 2, 4]"
            ]
          },
          "metadata": {},
          "execution_count": 146
        }
      ],
      "source": [
        "# Print: Teste\n",
        "train_tokens[0][:10]"
      ]
    },
    {
      "cell_type": "code",
      "execution_count": null,
      "metadata": {
        "id": "tddcwxOJVdmT"
      },
      "outputs": [],
      "source": [
        "lengths = [len(text_tokens) for text_tokens in train_tokens] # pega o tamanho de todos os textos, quantidade de tokens e converte para uma lista"
      ]
    },
    {
      "cell_type": "code",
      "execution_count": null,
      "metadata": {
        "colab": {
          "base_uri": "https://localhost:8080/",
          "height": 508
        },
        "id": "nlTR56APXx95",
        "outputId": "ece9d571-1bfa-44d1-aefe-aaa5e98f088b"
      },
      "outputs": [
        {
          "output_type": "execute_result",
          "data": {
            "text/plain": [
              "(array([2.730e+02, 1.530e+03, 1.726e+03, 4.732e+03, 3.944e+03, 2.750e+03,\n",
              "        1.862e+03, 1.427e+03, 1.125e+03, 9.190e+02, 7.160e+02, 6.670e+02,\n",
              "        4.800e+02, 4.270e+02, 3.640e+02, 2.960e+02, 2.530e+02, 2.170e+02,\n",
              "        1.850e+02, 1.490e+02, 1.400e+02, 1.190e+02, 1.090e+02, 9.200e+01,\n",
              "        7.600e+01, 6.800e+01, 3.600e+01, 3.000e+01, 1.400e+01, 3.000e+00]),\n",
              " array([ 10.        ,  40.53333333,  71.06666667, 101.6       ,\n",
              "        132.13333333, 162.66666667, 193.2       , 223.73333333,\n",
              "        254.26666667, 284.8       , 315.33333333, 345.86666667,\n",
              "        376.4       , 406.93333333, 437.46666667, 468.        ,\n",
              "        498.53333333, 529.06666667, 559.6       , 590.13333333,\n",
              "        620.66666667, 651.2       , 681.73333333, 712.26666667,\n",
              "        742.8       , 773.33333333, 803.86666667, 834.4       ,\n",
              "        864.93333333, 895.46666667, 926.        ]),\n",
              " <a list of 30 Patch objects>)"
            ]
          },
          "metadata": {},
          "execution_count": 148
        },
        {
          "output_type": "display_data",
          "data": {
            "image/png": "[encoded data removed]",
            "text/plain": [
              "<Figure size 432x288 with 1 Axes>"
            ]
          },
          "metadata": {
            "needs_background": "light"
          }
        }
      ],
      "source": [
        "plt.hist(lengths, bins=30) # printa um historiograma"
      ]
    },
    {
      "cell_type": "code",
      "execution_count": null,
      "metadata": {
        "id": "m6kuF5KDXz5k"
      },
      "outputs": [],
      "source": [
        "# https://stackoverflow.com/questions/42943291/what-does-keras-io-preprocessing-sequence-pad-sequences-do\n",
        "padded_val_tokens = pad_sequences(val_tokens, maxlen=850) \n",
        "padded_test_tokens = pad_sequences(test_tokens, maxlen=850)\n",
        "padded_train_tokens = pad_sequences(train_tokens, maxlen=850)"
      ]
    },
    {
      "cell_type": "code",
      "execution_count": null,
      "metadata": {
        "id": "OnDCeuZ3X1Ka"
      },
      "outputs": [],
      "source": [
        "# https://rdrr.io/cran/keras/man/to_categorical.html\n",
        "train_label = to_categorical(data_train['target'], num_classes=len(classes))\n",
        "val_label = to_categorical(data_val['target'], num_classes=len(classes))\n",
        "test_label = to_categorical(data_test['target'], num_classes=len(classes))"
      ]
    },
    {
      "cell_type": "markdown",
      "metadata": {
        "id": "qmKKbxDW-gNW"
      },
      "source": [
        "## Modelo"
      ]
    },
    {
      "cell_type": "code",
      "execution_count": null,
      "metadata": {
        "id": "s8bwR98F86qH"
      },
      "outputs": [],
      "source": [
        "inputs = keras.Input(shape=(850,)) \n",
        "embed = Embedding(20000, output_dim=300)(inputs) \n",
        "lstm = LSTM(256, return_sequences=True)(embed)\n",
        "pooling = GlobalMaxPool1D()(lstm) \n",
        "classification = Dense(2, activation='softmax')(pooling) # N x 2 # Saida do modelo, o mesmo gera 2 saidas de dados, uma para positivo e outra para negativo"
      ]
    },
    {
      "cell_type": "code",
      "execution_count": null,
      "metadata": {
        "id": "4gaYp1Nr-m3Q"
      },
      "outputs": [],
      "source": [
        "model = Model(inputs=inputs, outputs=classification)"
      ]
    },
    {
      "cell_type": "code",
      "execution_count": null,
      "metadata": {
        "colab": {
          "base_uri": "https://localhost:8080/"
        },
        "id": "O084_h6k-m7w",
        "outputId": "8be8efa5-f657-4f10-9285-0c25469fe05c"
      },
      "outputs": [
        {
          "output_type": "stream",
          "name": "stdout",
          "text": [
            "Model: \"model_1\"\n",
            "_________________________________________________________________\n",
            " Layer (type)                Output Shape              Param #   \n",
            "=================================================================\n",
            " input_2 (InputLayer)        [(None, 850)]             0         \n",
            "                                                                 \n",
            " embedding_1 (Embedding)     (None, 850, 300)          6000000   \n",
            "                                                                 \n",
            " lstm_1 (LSTM)               (None, 850, 256)          570368    \n",
            "                                                                 \n",
            " global_max_pooling1d_1 (Glo  (None, 256)              0         \n",
            " balMaxPooling1D)                                                \n",
            "                                                                 \n",
            " dense_1 (Dense)             (None, 2)                 514       \n",
            "                                                                 \n",
            "=================================================================\n",
            "Total params: 6,570,882\n",
            "Trainable params: 6,570,882\n",
            "Non-trainable params: 0\n",
            "_________________________________________________________________\n"
          ]
        }
      ],
      "source": [
        "model.summary()"
      ]
    },
    {
      "cell_type": "code",
      "source": [
        "epochs = 30 # 100 \n",
        "learning_rate = 0.04 # Taxa de aprendizado # 0.001\n",
        "\n",
        "# Definindo o tamanho dos batchs\n",
        "batch_size = 512"
      ],
      "metadata": {
        "id": "MuXf7i9m2_pl"
      },
      "execution_count": null,
      "outputs": []
    },
    {
      "cell_type": "code",
      "source": [
        "optimizer = keras.optimizers.Adam(learning_rate=learning_rate)\n",
        "model.compile(\n",
        "    optimizer=optimizer, \n",
        "    loss='categorical_crossentropy', \n",
        "    metrics=['accuracy']\n",
        ")"
      ],
      "metadata": {
        "id": "SiyLWJ3C2x9q"
      },
      "execution_count": null,
      "outputs": []
    },
    {
      "cell_type": "code",
      "execution_count": null,
      "metadata": {
        "colab": {
          "base_uri": "https://localhost:8080/"
        },
        "id": "REmFHc6HBaoO",
        "outputId": "a2fbdcd2-f2bb-41de-aa6a-0ad2b88b945c"
      },
      "outputs": [
        {
          "output_type": "execute_result",
          "data": {
            "text/plain": [
              "((24729, 850), (24729, 2))"
            ]
          },
          "metadata": {},
          "execution_count": 156
        }
      ],
      "source": [
        "padded_train_tokens.shape, train_label.shape"
      ]
    },
    {
      "cell_type": "markdown",
      "metadata": {
        "id": "QkkRLMNO-tBA"
      },
      "source": [
        "## Treinamento"
      ]
    },
    {
      "cell_type": "code",
      "execution_count": null,
      "metadata": {
        "colab": {
          "base_uri": "https://localhost:8080/"
        },
        "id": "mB3ByH-f-qYR",
        "outputId": "40679c47-db3a-4648-dd2f-a4b0c3fa9e37"
      },
      "outputs": [
        {
          "output_type": "stream",
          "name": "stdout",
          "text": [
            "Epoch 1/30\n",
            "49/49 [==============================] - 22s 388ms/step - loss: 1.9147 - accuracy: 0.5637\n",
            "Epoch 2/30\n",
            "49/49 [==============================] - 19s 389ms/step - loss: 0.7060 - accuracy: 0.6732\n",
            "Epoch 3/30\n",
            "49/49 [==============================] - 19s 389ms/step - loss: 0.5594 - accuracy: 0.7308\n",
            "Epoch 4/30\n",
            "49/49 [==============================] - 19s 389ms/step - loss: 0.5004 - accuracy: 0.7615\n",
            "Epoch 5/30\n",
            "49/49 [==============================] - 19s 389ms/step - loss: 0.4798 - accuracy: 0.7724\n",
            "Epoch 6/30\n",
            "49/49 [==============================] - 19s 388ms/step - loss: 0.4443 - accuracy: 0.7969\n",
            "Epoch 7/30\n",
            "49/49 [==============================] - 19s 389ms/step - loss: 0.4246 - accuracy: 0.8055\n",
            "Epoch 8/30\n",
            "49/49 [==============================] - 19s 389ms/step - loss: 0.4064 - accuracy: 0.8191\n",
            "Epoch 9/30\n",
            "49/49 [==============================] - 19s 389ms/step - loss: 0.4025 - accuracy: 0.8196\n",
            "Epoch 10/30\n",
            "49/49 [==============================] - 19s 389ms/step - loss: 0.3911 - accuracy: 0.8253\n",
            "Epoch 11/30\n",
            "49/49 [==============================] - 19s 389ms/step - loss: 0.3840 - accuracy: 0.8293\n",
            "Epoch 12/30\n",
            "49/49 [==============================] - 19s 389ms/step - loss: 0.3826 - accuracy: 0.8267\n",
            "Epoch 13/30\n",
            "49/49 [==============================] - 19s 389ms/step - loss: 0.3667 - accuracy: 0.8389\n",
            "Epoch 14/30\n",
            "49/49 [==============================] - 19s 388ms/step - loss: 0.3720 - accuracy: 0.8327\n",
            "Epoch 15/30\n",
            "49/49 [==============================] - 19s 389ms/step - loss: 0.3711 - accuracy: 0.8374\n",
            "Epoch 16/30\n",
            "49/49 [==============================] - 19s 389ms/step - loss: 0.3727 - accuracy: 0.8350\n",
            "Epoch 17/30\n",
            "49/49 [==============================] - 19s 389ms/step - loss: 0.3295 - accuracy: 0.8583\n",
            "Epoch 18/30\n",
            "49/49 [==============================] - 19s 389ms/step - loss: 0.3312 - accuracy: 0.8575\n",
            "Epoch 19/30\n",
            "49/49 [==============================] - 19s 389ms/step - loss: 0.3140 - accuracy: 0.8653\n",
            "Epoch 20/30\n",
            "22/49 [============>.................] - ETA: 10s - loss: 0.2935 - accuracy: 0.8771"
          ]
        }
      ],
      "source": [
        "history = model.fit(x=padded_train_tokens, y=train_label, batch_size=batch_size, epochs=epochs)"
      ]
    },
    {
      "cell_type": "code",
      "source": [
        "print(history.history)"
      ],
      "metadata": {
        "id": "YTAJMojYAYuH",
        "colab": {
          "base_uri": "https://localhost:8080/"
        },
        "outputId": "0bf94897-82af-4c9b-bc97-11705bef57b5"
      },
      "execution_count": null,
      "outputs": [
        {
          "output_type": "stream",
          "name": "stdout",
          "text": [
            "{'loss': [0.6886494755744934, 0.41612812876701355, 0.3280583918094635, 0.30362382531166077, 0.2615424692630768, 0.23930644989013672, 0.21929264068603516, 0.19723348319530487, 0.18007661402225494, 0.18091043829917908, 0.19916293025016785, 0.19909313321113586, 0.200185164809227, 0.17667849361896515, 0.18716783821582794, 0.18293343484401703, 0.17327484488487244, 0.17949457466602325, 0.18677829205989838, 0.1739317625761032, 0.16344156861305237, 0.1596291959285736, 0.15782983601093292, 0.1509893238544464, 0.14522390067577362, 0.14690791070461273, 0.1736321598291397, 0.13077236711978912, 0.12773948907852173, 0.14353567361831665], 'accuracy': [0.662218451499939, 0.8143879771232605, 0.8608920574188232, 0.8718913197517395, 0.8901694416999817, 0.9038376212120056, 0.9106312394142151, 0.9202960133552551, 0.9289093613624573, 0.9285858869552612, 0.9196085333824158, 0.9192445874214172, 0.9218326807022095, 0.9300416707992554, 0.9247846603393555, 0.9288284778594971, 0.9313760995864868, 0.9274535775184631, 0.9248655438423157, 0.9325892925262451, 0.9372397065162659, 0.9375227689743042, 0.9396659731864929, 0.9411217570304871, 0.9433863162994385, 0.9428606033325195, 0.9312143921852112, 0.9507056474685669, 0.9516761898994446, 0.9439524412155151]}\n"
          ]
        }
      ]
    },
    {
      "cell_type": "code",
      "source": [
        "plt.plot(history.history['loss'])\n",
        "plt.show()"
      ],
      "metadata": {
        "id": "qDbrEyffAZML",
        "colab": {
          "base_uri": "https://localhost:8080/",
          "height": 265
        },
        "outputId": "c3b0271e-1a71-43d2-b689-a1d20ec3f2ca"
      },
      "execution_count": null,
      "outputs": [
        {
          "output_type": "display_data",
          "data": {
            "image/png": "[encoded data removed]",
            "text/plain": [
              "<Figure size 432x288 with 1 Axes>"
            ]
          },
          "metadata": {
            "needs_background": "light"
          }
        }
      ]
    },
    {
      "cell_type": "markdown",
      "metadata": {
        "id": "5iD1Vydek7kJ"
      },
      "source": [
        "## Salvar o modelo"
      ]
    },
    {
      "cell_type": "code",
      "execution_count": null,
      "metadata": {
        "id": "mAjasCyIk7kJ"
      },
      "outputs": [],
      "source": [
        "# modelo_nome = 'Modelo_1__11_01_2021_epochs_30' => ultimo\n",
        "#modelo_nome = 'Modelo_1__11_01_2021_epochs_5'\n",
        "\n",
        "modelo_nome = 'Modelo_1__20_02_2022_epochs_' + str(epochs)"
      ]
    },
    {
      "cell_type": "code",
      "execution_count": null,
      "metadata": {
        "id": "WkLdqs0Q_gTy",
        "colab": {
          "base_uri": "https://localhost:8080/"
        },
        "outputId": "2d463f48-768d-4bc1-ed43-a8351905f3dc"
      },
      "outputs": [
        {
          "output_type": "stream",
          "name": "stderr",
          "text": [
            "WARNING:absl:Found untraced functions such as lstm_cell_4_layer_call_fn, lstm_cell_4_layer_call_and_return_conditional_losses while saving (showing 2 of 2). These functions will not be directly callable after loading.\n"
          ]
        },
        {
          "output_type": "stream",
          "name": "stdout",
          "text": [
            "INFO:tensorflow:Assets written to: /content/drive/MyDrive/1. Pós Ciência de Dados/1. Trabalho de Conclusão/Testes/Extrair Dados/Dados/Modelo_1__20_02_2022_epochs_30/assets\n"
          ]
        },
        {
          "output_type": "stream",
          "name": "stderr",
          "text": [
            "INFO:tensorflow:Assets written to: /content/drive/MyDrive/1. Pós Ciência de Dados/1. Trabalho de Conclusão/Testes/Extrair Dados/Dados/Modelo_1__20_02_2022_epochs_30/assets\n",
            "WARNING:absl:<keras.layers.recurrent.LSTMCell object at 0x7ff5c6ee0110> has the same name 'LSTMCell' as a built-in Keras object. Consider renaming <class 'keras.layers.recurrent.LSTMCell'> to avoid naming conflicts when loading with `tf.keras.models.load_model`. If renaming is not possible, pass the object in the `custom_objects` parameter of the load function.\n"
          ]
        }
      ],
      "source": [
        "model.save(path_root_out + modelo_nome)"
      ]
    },
    {
      "cell_type": "markdown",
      "metadata": {
        "id": "bhVh4ncUk7kJ"
      },
      "source": [
        "## Carregar o modelo"
      ]
    },
    {
      "cell_type": "code",
      "execution_count": null,
      "metadata": {
        "id": "K9LIqjA9k7kJ"
      },
      "outputs": [],
      "source": [
        "model = keras.models.load_model(path_root_out + modelo_nome)"
      ]
    },
    {
      "cell_type": "markdown",
      "metadata": {
        "id": "NvxMmhN7BLtA"
      },
      "source": [
        "## Teste"
      ]
    },
    {
      "cell_type": "code",
      "execution_count": null,
      "metadata": {
        "id": "rSCPNDVWBMQI"
      },
      "outputs": [],
      "source": [
        "class PredicModel:\n",
        "\n",
        "  def __init__(self, model, tokenizer, classes):\n",
        "    self.model = model\n",
        "    self.tokenizer = tokenizer\n",
        "    self.classes = classes\n",
        "\n",
        "  def prediction(self, text: list):\n",
        "    tokens = self.tokenizer.texts_to_sequences(text) \n",
        "    tokens = pad_sequences(tokens, maxlen=850)\n",
        "    preds = self.model.predict(tokens)\n",
        "    pred_class_prediction = preds.argmax(1)\n",
        "    classes = [self.classes[pred] for pred in pred_class_prediction]\n",
        "    return preds, classes"
      ]
    },
    {
      "cell_type": "code",
      "execution_count": null,
      "metadata": {
        "id": "5HTWp1YRBMS0"
      },
      "outputs": [],
      "source": [
        "predictor = PredicModel(model, tokenizerText.get_tokenizer(), classes)"
      ]
    },
    {
      "cell_type": "code",
      "execution_count": null,
      "metadata": {
        "id": "Jl8eIqxCk7kK"
      },
      "outputs": [],
      "source": [
        "testes = ['Esse governo está no início, vamos ver o que vai dar',\n",
        "         'Estou muito feliz com o governo de Minas esse ano',\n",
        "         'O estado de Minas Gerais decretou calamidade financeira!!!',\n",
        "         'A segurança desse país é muio ruim',\n",
        "         'O governador de Minas é bom',\n",
        "         'Eu sou bonito!']"
      ]
    },
    {
      "cell_type": "code",
      "execution_count": null,
      "metadata": {
        "colab": {
          "base_uri": "https://localhost:8080/"
        },
        "id": "P4x16J1Bk7kK",
        "outputId": "dd9de04a-02fd-41bf-a83a-6c05599730d8"
      },
      "outputs": [
        {
          "output_type": "execute_result",
          "data": {
            "text/plain": [
              "(array([[1.9266898e-03, 9.9807334e-01],\n",
              "        [1.3699020e-01, 8.6300981e-01],\n",
              "        [7.6158470e-01, 2.3841527e-01],\n",
              "        [9.9997413e-01, 2.5840754e-05],\n",
              "        [1.5555466e-06, 9.9999845e-01],\n",
              "        [1.6301826e-03, 9.9836987e-01]], dtype=float32), [1, 1, 0, 0, 1, 1])"
            ]
          },
          "metadata": {},
          "execution_count": 304
        }
      ],
      "source": [
        "predictions = predictor.prediction(testes)\n",
        "predictions"
      ]
    },
    {
      "cell_type": "code",
      "source": [
        "predictions[1]"
      ],
      "metadata": {
        "colab": {
          "base_uri": "https://localhost:8080/"
        },
        "id": "rcpJFD--HoNc",
        "outputId": "6ab82a63-72d1-4e61-865f-060ec9c699d6"
      },
      "execution_count": null,
      "outputs": [
        {
          "output_type": "execute_result",
          "data": {
            "text/plain": [
              "[1, 1, 0, 0, 1, 1]"
            ]
          },
          "metadata": {},
          "execution_count": 305
        }
      ]
    },
    {
      "cell_type": "markdown",
      "metadata": {
        "id": "86L_d9ep_eiN"
      },
      "source": [
        "## Avaliação"
      ]
    },
    {
      "cell_type": "code",
      "source": [
        "from sklearn.metrics import classification_report\n",
        "from sklearn.model_selection import train_test_split"
      ],
      "metadata": {
        "id": "VO-JSgx85f0g"
      },
      "execution_count": null,
      "outputs": []
    },
    {
      "cell_type": "code",
      "source": [
        "tokenizerText_test = TokenizerText(data_test['text'])"
      ],
      "metadata": {
        "id": "1B9HcQGJ5iJG"
      },
      "execution_count": null,
      "outputs": []
    },
    {
      "cell_type": "code",
      "source": [
        "predictor_test = PredicModel(model, tokenizerText_test.get_tokenizer(), data_test['target'].tolist())\n",
        "predictor_test"
      ],
      "metadata": {
        "colab": {
          "base_uri": "https://localhost:8080/"
        },
        "id": "XPcCTYwY6z-W",
        "outputId": "f749147c-7926-4a21-c7ad-08d1b6121baa"
      },
      "execution_count": null,
      "outputs": [
        {
          "output_type": "execute_result",
          "data": {
            "text/plain": [
              "<__main__.PredicModel at 0x7f7ee9372e90>"
            ]
          },
          "metadata": {},
          "execution_count": 162
        }
      ]
    },
    {
      "cell_type": "code",
      "source": [
        "predictions_test = predictor_test.prediction(data_test['text'].tolist())\n",
        "type(predictions_test)"
      ],
      "metadata": {
        "colab": {
          "base_uri": "https://localhost:8080/"
        },
        "id": "niWTyVtG7axk",
        "outputId": "88f3c5ed-ae87-46b3-eff1-edbe020c38be"
      },
      "execution_count": null,
      "outputs": [
        {
          "output_type": "execute_result",
          "data": {
            "text/plain": [
              "tuple"
            ]
          },
          "metadata": {},
          "execution_count": 163
        }
      ]
    },
    {
      "cell_type": "code",
      "source": [
        "precision, recall, fscore, support = precision_recall_fscore_support(data_test['target'].tolist(), predictions_test[1], average='binary')\n",
        "print('precision:', precision, 'recall:', recall, 'fscore:', fscore)"
      ],
      "metadata": {
        "colab": {
          "base_uri": "https://localhost:8080/"
        },
        "id": "hAFgHVUtb3e9",
        "outputId": "e643ee63-4f5a-4303-cc93-3a59714c01b8"
      },
      "execution_count": null,
      "outputs": [
        {
          "output_type": "stream",
          "name": "stdout",
          "text": [
            "precision: 0.47882814376050586 recall: 0.4867371847030106 fscore: 0.4827502723641206\n"
          ]
        }
      ]
    },
    {
      "cell_type": "code",
      "execution_count": null,
      "metadata": {
        "id": "QOMMUKiN_gGz",
        "colab": {
          "base_uri": "https://localhost:8080/"
        },
        "outputId": "eab009a0-0d8c-423a-e359-9c7df5d2bc57"
      },
      "outputs": [
        {
          "output_type": "stream",
          "name": "stdout",
          "text": [
            "495/495 [==============================] - 13s 25ms/step - loss: 0.4814 - accuracy: 0.8088\n"
          ]
        }
      ],
      "source": [
        "evaluate_ = model.evaluate(x=padded_val_tokens, y=val_label, batch_size=epochs)"
      ]
    },
    {
      "cell_type": "code",
      "source": [
        "evaluate_"
      ],
      "metadata": {
        "id": "ya2QN5rWoqlP"
      },
      "execution_count": null,
      "outputs": []
    },
    {
      "cell_type": "markdown",
      "source": [
        "## DataSet - NPS"
      ],
      "metadata": {
        "id": "VrRI8CZX3pZ5"
      }
    },
    {
      "cell_type": "code",
      "execution_count": null,
      "metadata": {
        "id": "cmuKSIuxk7kK"
      },
      "outputs": [],
      "source": [
        "df_output_nps_comentario = df_output_nps['Comentário'].tolist()"
      ]
    },
    {
      "cell_type": "code",
      "source": [
        "type(df_output_nps_comentario)"
      ],
      "metadata": {
        "id": "O43VaAJZo-kD",
        "colab": {
          "base_uri": "https://localhost:8080/"
        },
        "outputId": "df97a74d-2fb1-4f5f-fc7c-256a7d808075"
      },
      "execution_count": null,
      "outputs": [
        {
          "output_type": "execute_result",
          "data": {
            "text/plain": [
              "list"
            ]
          },
          "metadata": {},
          "execution_count": 321
        }
      ]
    },
    {
      "cell_type": "code",
      "source": [
        "df_output_nps_comentario = [str(item) for item in df_output_nps_comentario]"
      ],
      "metadata": {
        "id": "oBhgZWgc-8E7"
      },
      "execution_count": null,
      "outputs": []
    },
    {
      "cell_type": "code",
      "source": [
        "predictions_nps = predictor.prediction(df_output_nps_comentario)\n",
        "#len(predictions_nps[1])\n",
        "len(predictions_nps)"
      ],
      "metadata": {
        "colab": {
          "base_uri": "https://localhost:8080/"
        },
        "id": "3nRDxy9L-x1L",
        "outputId": "e0ab24c4-c1f0-4d5e-c9bd-6e89f07b9ec8"
      },
      "execution_count": null,
      "outputs": [
        {
          "output_type": "execute_result",
          "data": {
            "text/plain": [
              "2"
            ]
          },
          "metadata": {},
          "execution_count": 323
        }
      ]
    },
    {
      "cell_type": "code",
      "source": [
        "len(predictions_nps[1])"
      ],
      "metadata": {
        "colab": {
          "base_uri": "https://localhost:8080/"
        },
        "id": "EF5Z-8cKs7Ei",
        "outputId": "4a80d007-a4e3-4f06-d5af-d6c37f20bc14"
      },
      "execution_count": null,
      "outputs": [
        {
          "output_type": "execute_result",
          "data": {
            "text/plain": [
              "10325"
            ]
          },
          "metadata": {},
          "execution_count": 324
        }
      ]
    },
    {
      "cell_type": "code",
      "source": [
        "#print(len(predictions_nps[0]), len(predictions_nps[1]))"
      ],
      "metadata": {
        "id": "q1mbyS2i_Zgx"
      },
      "execution_count": null,
      "outputs": []
    },
    {
      "cell_type": "code",
      "source": [
        "df_output_nps['Keras_30'] = predictions_nps[1]\n",
        "#df_output_nps['Keras_30'] = predictions_nps[1]\n",
        "#df_output_nps['Keras'] = predictions_nps[1]"
      ],
      "metadata": {
        "colab": {
          "base_uri": "https://localhost:8080/"
        },
        "id": "66j-y5fG_TAL",
        "outputId": "259ab49a-572f-427a-e40d-2a5e5efefb38"
      },
      "execution_count": null,
      "outputs": [
        {
          "output_type": "stream",
          "name": "stderr",
          "text": [
            "/usr/local/lib/python3.7/dist-packages/ipykernel_launcher.py:1: SettingWithCopyWarning: \n",
            "A value is trying to be set on a copy of a slice from a DataFrame.\n",
            "Try using .loc[row_indexer,col_indexer] = value instead\n",
            "\n",
            "See the caveats in the documentation: https://pandas.pydata.org/pandas-docs/stable/user_guide/indexing.html#returning-a-view-versus-a-copy\n",
            "  \"\"\"Entry point for launching an IPython kernel.\n"
          ]
        }
      ]
    },
    {
      "cell_type": "code",
      "source": [
        "df_output_nps"
      ],
      "metadata": {
        "colab": {
          "base_uri": "https://localhost:8080/",
          "height": 424
        },
        "id": "KhU1_Hqs4BT2",
        "outputId": "8a585ef4-6f12-4715-a6f5-cc918ba20bec"
      },
      "execution_count": null,
      "outputs": [
        {
          "output_type": "execute_result",
          "data": {
            "text/html": [
              "\n",
              "  <div id=\"df-204540b4-5085-41d8-b961-ffa0a94f28fa\">\n",
              "    <div class=\"colab-df-container\">\n",
              "      <div>\n",
              "<style scoped>\n",
              "    .dataframe tbody tr th:only-of-type {\n",
              "        vertical-align: middle;\n",
              "    }\n",
              "\n",
              "    .dataframe tbody tr th {\n",
              "        vertical-align: top;\n",
              "    }\n",
              "\n",
              "    .dataframe thead th {\n",
              "        text-align: right;\n",
              "    }\n",
              "</style>\n",
              "<table border=\"1\" class=\"dataframe\">\n",
              "  <thead>\n",
              "    <tr style=\"text-align: right;\">\n",
              "      <th></th>\n",
              "      <th>Unnamed: 0</th>\n",
              "      <th>Requisição</th>\n",
              "      <th>Nota</th>\n",
              "      <th>Comentário</th>\n",
              "      <th>Responsável</th>\n",
              "      <th>Mês</th>\n",
              "      <th>MultinomialNB</th>\n",
              "      <th>Keras_30</th>\n",
              "    </tr>\n",
              "  </thead>\n",
              "  <tbody>\n",
              "    <tr>\n",
              "      <th>4</th>\n",
              "      <td>4</td>\n",
              "      <td>1618927694557_277</td>\n",
              "      <td>10</td>\n",
              "      <td>excelente</td>\n",
              "      <td>Larissa Siqueira</td>\n",
              "      <td>NaN</td>\n",
              "      <td>1</td>\n",
              "      <td>1</td>\n",
              "    </tr>\n",
              "    <tr>\n",
              "      <th>6</th>\n",
              "      <td>6</td>\n",
              "      <td>1618933026635_356</td>\n",
              "      <td>10</td>\n",
              "      <td>Muito atenciosa!</td>\n",
              "      <td>Larissa Siqueira</td>\n",
              "      <td>NaN</td>\n",
              "      <td>1</td>\n",
              "      <td>1</td>\n",
              "    </tr>\n",
              "    <tr>\n",
              "      <th>9</th>\n",
              "      <td>9</td>\n",
              "      <td>1618951091520_773</td>\n",
              "      <td>10</td>\n",
              "      <td>ótimo atendimento</td>\n",
              "      <td>Larissa Siqueira</td>\n",
              "      <td>NaN</td>\n",
              "      <td>1</td>\n",
              "      <td>1</td>\n",
              "    </tr>\n",
              "    <tr>\n",
              "      <th>42</th>\n",
              "      <td>42</td>\n",
              "      <td>1621455095064_757</td>\n",
              "      <td>10</td>\n",
              "      <td>muito prestativa</td>\n",
              "      <td>Larissa Siqueira</td>\n",
              "      <td>NaN</td>\n",
              "      <td>1</td>\n",
              "      <td>1</td>\n",
              "    </tr>\n",
              "    <tr>\n",
              "      <th>47</th>\n",
              "      <td>47</td>\n",
              "      <td>1621532200459_511</td>\n",
              "      <td>10</td>\n",
              "      <td>Ótimo atendimento e agilidade nas respostas!</td>\n",
              "      <td>Larissa Siqueira</td>\n",
              "      <td>NaN</td>\n",
              "      <td>1</td>\n",
              "      <td>1</td>\n",
              "    </tr>\n",
              "    <tr>\n",
              "      <th>...</th>\n",
              "      <td>...</td>\n",
              "      <td>...</td>\n",
              "      <td>...</td>\n",
              "      <td>...</td>\n",
              "      <td>...</td>\n",
              "      <td>...</td>\n",
              "      <td>...</td>\n",
              "      <td>...</td>\n",
              "    </tr>\n",
              "    <tr>\n",
              "      <th>27754</th>\n",
              "      <td>719</td>\n",
              "      <td>345198</td>\n",
              "      <td>10</td>\n",
              "      <td>OTIM ATENDIMENTO, MUITO EFICAZ !!</td>\n",
              "      <td>Gabriel Letelier</td>\n",
              "      <td>MAIO</td>\n",
              "      <td>1</td>\n",
              "      <td>1</td>\n",
              "    </tr>\n",
              "    <tr>\n",
              "      <th>27755</th>\n",
              "      <td>720</td>\n",
              "      <td>345183</td>\n",
              "      <td>10</td>\n",
              "      <td>Muito obrigada pelo bom atendimento</td>\n",
              "      <td>Luis Henrique de Oliveira</td>\n",
              "      <td>MAIO</td>\n",
              "      <td>1</td>\n",
              "      <td>1</td>\n",
              "    </tr>\n",
              "    <tr>\n",
              "      <th>27756</th>\n",
              "      <td>721</td>\n",
              "      <td>339210</td>\n",
              "      <td>10</td>\n",
              "      <td>10</td>\n",
              "      <td>Gabriel Letelier</td>\n",
              "      <td>MAIO</td>\n",
              "      <td>1</td>\n",
              "      <td>1</td>\n",
              "    </tr>\n",
              "    <tr>\n",
              "      <th>27757</th>\n",
              "      <td>722</td>\n",
              "      <td>344020</td>\n",
              "      <td>10</td>\n",
              "      <td>Excelente atendimento!</td>\n",
              "      <td>Fernando Teixeira</td>\n",
              "      <td>MAIO</td>\n",
              "      <td>1</td>\n",
              "      <td>1</td>\n",
              "    </tr>\n",
              "    <tr>\n",
              "      <th>28550</th>\n",
              "      <td>1</td>\n",
              "      <td>410116</td>\n",
              "      <td>10</td>\n",
              "      <td>muito bom</td>\n",
              "      <td>Willian Cardoso Luz</td>\n",
              "      <td>OUTUBRO</td>\n",
              "      <td>1</td>\n",
              "      <td>1</td>\n",
              "    </tr>\n",
              "  </tbody>\n",
              "</table>\n",
              "<p>10325 rows × 8 columns</p>\n",
              "</div>\n",
              "      <button class=\"colab-df-convert\" onclick=\"convertToInteractive('df-204540b4-5085-41d8-b961-ffa0a94f28fa')\"\n",
              "              title=\"Convert this dataframe to an interactive table.\"\n",
              "              style=\"display:none;\">\n",
              "        \n",
              "  <svg xmlns=\"http://www.w3.org/2000/svg\" height=\"24px\"viewBox=\"0 0 24 24\"\n",
              "       width=\"24px\">\n",
              "    <path d=\"M0 0h24v24H0V0z\" fill=\"none\"/>\n",
              "    <path d=\"M18.56 5.44l.94 2.06.94-2.06 2.06-.94-2.06-.94-.94-2.06-.94 2.06-2.06.94zm-11 1L8.5 8.5l.94-2.06 2.06-.94-2.06-.94L8.5 2.5l-.94 2.06-2.06.94zm10 10l.94 2.06.94-2.06 2.06-.94-2.06-.94-.94-2.06-.94 2.06-2.06.94z\"/><path d=\"M17.41 7.96l-1.37-1.37c-.4-.4-.92-.59-1.43-.59-.52 0-1.04.2-1.43.59L10.3 9.45l-7.72 7.72c-.78.78-.78 2.05 0 2.83L4 21.41c.39.39.9.59 1.41.59.51 0 1.02-.2 1.41-.59l7.78-7.78 2.81-2.81c.8-.78.8-2.07 0-2.86zM5.41 20L4 18.59l7.72-7.72 1.47 1.35L5.41 20z\"/>\n",
              "  </svg>\n",
              "      </button>\n",
              "      \n",
              "  <style>\n",
              "    .colab-df-container {\n",
              "      display:flex;\n",
              "      flex-wrap:wrap;\n",
              "      gap: 12px;\n",
              "    }\n",
              "\n",
              "    .colab-df-convert {\n",
              "      background-color: #E8F0FE;\n",
              "      border: none;\n",
              "      border-radius: 50%;\n",
              "      cursor: pointer;\n",
              "      display: none;\n",
              "      fill: #1967D2;\n",
              "      height: 32px;\n",
              "      padding: 0 0 0 0;\n",
              "      width: 32px;\n",
              "    }\n",
              "\n",
              "    .colab-df-convert:hover {\n",
              "      background-color: #E2EBFA;\n",
              "      box-shadow: 0px 1px 2px rgba(60, 64, 67, 0.3), 0px 1px 3px 1px rgba(60, 64, 67, 0.15);\n",
              "      fill: #174EA6;\n",
              "    }\n",
              "\n",
              "    [theme=dark] .colab-df-convert {\n",
              "      background-color: #3B4455;\n",
              "      fill: #D2E3FC;\n",
              "    }\n",
              "\n",
              "    [theme=dark] .colab-df-convert:hover {\n",
              "      background-color: #434B5C;\n",
              "      box-shadow: 0px 1px 3px 1px rgba(0, 0, 0, 0.15);\n",
              "      filter: drop-shadow(0px 1px 2px rgba(0, 0, 0, 0.3));\n",
              "      fill: #FFFFFF;\n",
              "    }\n",
              "  </style>\n",
              "\n",
              "      <script>\n",
              "        const buttonEl =\n",
              "          document.querySelector('#df-204540b4-5085-41d8-b961-ffa0a94f28fa button.colab-df-convert');\n",
              "        buttonEl.style.display =\n",
              "          google.colab.kernel.accessAllowed ? 'block' : 'none';\n",
              "\n",
              "        async function convertToInteractive(key) {\n",
              "          const element = document.querySelector('#df-204540b4-5085-41d8-b961-ffa0a94f28fa');\n",
              "          const dataTable =\n",
              "            await google.colab.kernel.invokeFunction('convertToInteractive',\n",
              "                                                     [key], {});\n",
              "          if (!dataTable) return;\n",
              "\n",
              "          const docLinkHtml = 'Like what you see? Visit the ' +\n",
              "            '<a target=\"_blank\" href=https://colab.research.google.com/notebooks/data_table.ipynb>data table notebook</a>'\n",
              "            + ' to learn more about interactive tables.';\n",
              "          element.innerHTML = '';\n",
              "          dataTable['output_type'] = 'display_data';\n",
              "          await google.colab.output.renderOutput(dataTable, element);\n",
              "          const docLink = document.createElement('div');\n",
              "          docLink.innerHTML = docLinkHtml;\n",
              "          element.appendChild(docLink);\n",
              "        }\n",
              "      </script>\n",
              "    </div>\n",
              "  </div>\n",
              "  "
            ],
            "text/plain": [
              "       Unnamed: 0         Requisição Nota  ...      Mês MultinomialNB Keras_30\n",
              "4               4  1618927694557_277   10  ...      NaN             1        1\n",
              "6               6  1618933026635_356   10  ...      NaN             1        1\n",
              "9               9  1618951091520_773   10  ...      NaN             1        1\n",
              "42             42  1621455095064_757   10  ...      NaN             1        1\n",
              "47             47  1621532200459_511   10  ...      NaN             1        1\n",
              "...           ...                ...  ...  ...      ...           ...      ...\n",
              "27754         719             345198   10  ...     MAIO             1        1\n",
              "27755         720             345183   10  ...     MAIO             1        1\n",
              "27756         721             339210   10  ...     MAIO             1        1\n",
              "27757         722             344020   10  ...     MAIO             1        1\n",
              "28550           1             410116   10  ...  OUTUBRO             1        1\n",
              "\n",
              "[10325 rows x 8 columns]"
            ]
          },
          "metadata": {},
          "execution_count": 326
        }
      ]
    },
    {
      "cell_type": "markdown",
      "source": [
        "#DataSet - NPS"
      ],
      "metadata": {
        "id": "AhpIlRTTB96g"
      }
    },
    {
      "cell_type": "code",
      "source": [
        "df_name = 'df_output_nps.xlsx'"
      ],
      "metadata": {
        "id": "FxAbpbMMCTKJ"
      },
      "execution_count": null,
      "outputs": []
    },
    {
      "cell_type": "code",
      "source": [
        "#save_to_excel(df_output_nps, df_name)"
      ],
      "metadata": {
        "id": "gtCnsfgr4BWZ"
      },
      "execution_count": null,
      "outputs": []
    },
    {
      "cell_type": "code",
      "source": [
        "df_output_nps_ = open_to_excel(df_name)"
      ],
      "metadata": {
        "id": "0-DHiQm34BYu"
      },
      "execution_count": null,
      "outputs": []
    },
    {
      "cell_type": "code",
      "source": [
        "# pip install openpyxl==3.0.0"
      ],
      "metadata": {
        "id": "II6ZYskZH0eF"
      },
      "execution_count": null,
      "outputs": []
    },
    {
      "cell_type": "code",
      "source": [
        "df_output_nps_"
      ],
      "metadata": {
        "colab": {
          "base_uri": "https://localhost:8080/",
          "height": 424
        },
        "id": "-xR2ZebSCXYW",
        "outputId": "0cc999f6-b307-436e-efbe-db08dc2972df"
      },
      "execution_count": null,
      "outputs": [
        {
          "output_type": "execute_result",
          "data": {
            "text/html": [
              "\n",
              "  <div id=\"df-6c194eb0-c78d-4b2b-9d02-fa30417e4e66\">\n",
              "    <div class=\"colab-df-container\">\n",
              "      <div>\n",
              "<style scoped>\n",
              "    .dataframe tbody tr th:only-of-type {\n",
              "        vertical-align: middle;\n",
              "    }\n",
              "\n",
              "    .dataframe tbody tr th {\n",
              "        vertical-align: top;\n",
              "    }\n",
              "\n",
              "    .dataframe thead th {\n",
              "        text-align: right;\n",
              "    }\n",
              "</style>\n",
              "<table border=\"1\" class=\"dataframe\">\n",
              "  <thead>\n",
              "    <tr style=\"text-align: right;\">\n",
              "      <th></th>\n",
              "      <th>Unnamed: 0</th>\n",
              "      <th>Unnamed: 0.1</th>\n",
              "      <th>Requisição</th>\n",
              "      <th>Nota</th>\n",
              "      <th>Comentário</th>\n",
              "      <th>Responsável</th>\n",
              "      <th>Mês</th>\n",
              "      <th>MultinomialNB</th>\n",
              "      <th>Keras_30</th>\n",
              "    </tr>\n",
              "  </thead>\n",
              "  <tbody>\n",
              "    <tr>\n",
              "      <th>0</th>\n",
              "      <td>4</td>\n",
              "      <td>4</td>\n",
              "      <td>1618927694557_277</td>\n",
              "      <td>10</td>\n",
              "      <td>excelente</td>\n",
              "      <td>Larissa Siqueira</td>\n",
              "      <td>NaN</td>\n",
              "      <td>1</td>\n",
              "      <td>1</td>\n",
              "    </tr>\n",
              "    <tr>\n",
              "      <th>1</th>\n",
              "      <td>6</td>\n",
              "      <td>6</td>\n",
              "      <td>1618933026635_356</td>\n",
              "      <td>10</td>\n",
              "      <td>Muito atenciosa!</td>\n",
              "      <td>Larissa Siqueira</td>\n",
              "      <td>NaN</td>\n",
              "      <td>1</td>\n",
              "      <td>1</td>\n",
              "    </tr>\n",
              "    <tr>\n",
              "      <th>2</th>\n",
              "      <td>9</td>\n",
              "      <td>9</td>\n",
              "      <td>1618951091520_773</td>\n",
              "      <td>10</td>\n",
              "      <td>ótimo atendimento</td>\n",
              "      <td>Larissa Siqueira</td>\n",
              "      <td>NaN</td>\n",
              "      <td>1</td>\n",
              "      <td>1</td>\n",
              "    </tr>\n",
              "    <tr>\n",
              "      <th>3</th>\n",
              "      <td>42</td>\n",
              "      <td>42</td>\n",
              "      <td>1621455095064_757</td>\n",
              "      <td>10</td>\n",
              "      <td>muito prestativa</td>\n",
              "      <td>Larissa Siqueira</td>\n",
              "      <td>NaN</td>\n",
              "      <td>1</td>\n",
              "      <td>1</td>\n",
              "    </tr>\n",
              "    <tr>\n",
              "      <th>4</th>\n",
              "      <td>47</td>\n",
              "      <td>47</td>\n",
              "      <td>1621532200459_511</td>\n",
              "      <td>10</td>\n",
              "      <td>Ótimo atendimento e agilidade nas respostas!</td>\n",
              "      <td>Larissa Siqueira</td>\n",
              "      <td>NaN</td>\n",
              "      <td>1</td>\n",
              "      <td>1</td>\n",
              "    </tr>\n",
              "    <tr>\n",
              "      <th>...</th>\n",
              "      <td>...</td>\n",
              "      <td>...</td>\n",
              "      <td>...</td>\n",
              "      <td>...</td>\n",
              "      <td>...</td>\n",
              "      <td>...</td>\n",
              "      <td>...</td>\n",
              "      <td>...</td>\n",
              "      <td>...</td>\n",
              "    </tr>\n",
              "    <tr>\n",
              "      <th>10320</th>\n",
              "      <td>27754</td>\n",
              "      <td>719</td>\n",
              "      <td>345198</td>\n",
              "      <td>10</td>\n",
              "      <td>OTIM ATENDIMENTO, MUITO EFICAZ !!</td>\n",
              "      <td>Gabriel Letelier</td>\n",
              "      <td>MAIO</td>\n",
              "      <td>1</td>\n",
              "      <td>1</td>\n",
              "    </tr>\n",
              "    <tr>\n",
              "      <th>10321</th>\n",
              "      <td>27755</td>\n",
              "      <td>720</td>\n",
              "      <td>345183</td>\n",
              "      <td>10</td>\n",
              "      <td>Muito obrigada pelo bom atendimento</td>\n",
              "      <td>Luis Henrique de Oliveira</td>\n",
              "      <td>MAIO</td>\n",
              "      <td>1</td>\n",
              "      <td>1</td>\n",
              "    </tr>\n",
              "    <tr>\n",
              "      <th>10322</th>\n",
              "      <td>27756</td>\n",
              "      <td>721</td>\n",
              "      <td>339210</td>\n",
              "      <td>10</td>\n",
              "      <td>10</td>\n",
              "      <td>Gabriel Letelier</td>\n",
              "      <td>MAIO</td>\n",
              "      <td>1</td>\n",
              "      <td>1</td>\n",
              "    </tr>\n",
              "    <tr>\n",
              "      <th>10323</th>\n",
              "      <td>27757</td>\n",
              "      <td>722</td>\n",
              "      <td>344020</td>\n",
              "      <td>10</td>\n",
              "      <td>Excelente atendimento!</td>\n",
              "      <td>Fernando Teixeira</td>\n",
              "      <td>MAIO</td>\n",
              "      <td>1</td>\n",
              "      <td>1</td>\n",
              "    </tr>\n",
              "    <tr>\n",
              "      <th>10324</th>\n",
              "      <td>28550</td>\n",
              "      <td>1</td>\n",
              "      <td>410116</td>\n",
              "      <td>10</td>\n",
              "      <td>muito bom</td>\n",
              "      <td>Willian Cardoso Luz</td>\n",
              "      <td>OUTUBRO</td>\n",
              "      <td>1</td>\n",
              "      <td>1</td>\n",
              "    </tr>\n",
              "  </tbody>\n",
              "</table>\n",
              "<p>10325 rows × 9 columns</p>\n",
              "</div>\n",
              "      <button class=\"colab-df-convert\" onclick=\"convertToInteractive('df-6c194eb0-c78d-4b2b-9d02-fa30417e4e66')\"\n",
              "              title=\"Convert this dataframe to an interactive table.\"\n",
              "              style=\"display:none;\">\n",
              "        \n",
              "  <svg xmlns=\"http://www.w3.org/2000/svg\" height=\"24px\"viewBox=\"0 0 24 24\"\n",
              "       width=\"24px\">\n",
              "    <path d=\"M0 0h24v24H0V0z\" fill=\"none\"/>\n",
              "    <path d=\"M18.56 5.44l.94 2.06.94-2.06 2.06-.94-2.06-.94-.94-2.06-.94 2.06-2.06.94zm-11 1L8.5 8.5l.94-2.06 2.06-.94-2.06-.94L8.5 2.5l-.94 2.06-2.06.94zm10 10l.94 2.06.94-2.06 2.06-.94-2.06-.94-.94-2.06-.94 2.06-2.06.94z\"/><path d=\"M17.41 7.96l-1.37-1.37c-.4-.4-.92-.59-1.43-.59-.52 0-1.04.2-1.43.59L10.3 9.45l-7.72 7.72c-.78.78-.78 2.05 0 2.83L4 21.41c.39.39.9.59 1.41.59.51 0 1.02-.2 1.41-.59l7.78-7.78 2.81-2.81c.8-.78.8-2.07 0-2.86zM5.41 20L4 18.59l7.72-7.72 1.47 1.35L5.41 20z\"/>\n",
              "  </svg>\n",
              "      </button>\n",
              "      \n",
              "  <style>\n",
              "    .colab-df-container {\n",
              "      display:flex;\n",
              "      flex-wrap:wrap;\n",
              "      gap: 12px;\n",
              "    }\n",
              "\n",
              "    .colab-df-convert {\n",
              "      background-color: #E8F0FE;\n",
              "      border: none;\n",
              "      border-radius: 50%;\n",
              "      cursor: pointer;\n",
              "      display: none;\n",
              "      fill: #1967D2;\n",
              "      height: 32px;\n",
              "      padding: 0 0 0 0;\n",
              "      width: 32px;\n",
              "    }\n",
              "\n",
              "    .colab-df-convert:hover {\n",
              "      background-color: #E2EBFA;\n",
              "      box-shadow: 0px 1px 2px rgba(60, 64, 67, 0.3), 0px 1px 3px 1px rgba(60, 64, 67, 0.15);\n",
              "      fill: #174EA6;\n",
              "    }\n",
              "\n",
              "    [theme=dark] .colab-df-convert {\n",
              "      background-color: #3B4455;\n",
              "      fill: #D2E3FC;\n",
              "    }\n",
              "\n",
              "    [theme=dark] .colab-df-convert:hover {\n",
              "      background-color: #434B5C;\n",
              "      box-shadow: 0px 1px 3px 1px rgba(0, 0, 0, 0.15);\n",
              "      filter: drop-shadow(0px 1px 2px rgba(0, 0, 0, 0.3));\n",
              "      fill: #FFFFFF;\n",
              "    }\n",
              "  </style>\n",
              "\n",
              "      <script>\n",
              "        const buttonEl =\n",
              "          document.querySelector('#df-6c194eb0-c78d-4b2b-9d02-fa30417e4e66 button.colab-df-convert');\n",
              "        buttonEl.style.display =\n",
              "          google.colab.kernel.accessAllowed ? 'block' : 'none';\n",
              "\n",
              "        async function convertToInteractive(key) {\n",
              "          const element = document.querySelector('#df-6c194eb0-c78d-4b2b-9d02-fa30417e4e66');\n",
              "          const dataTable =\n",
              "            await google.colab.kernel.invokeFunction('convertToInteractive',\n",
              "                                                     [key], {});\n",
              "          if (!dataTable) return;\n",
              "\n",
              "          const docLinkHtml = 'Like what you see? Visit the ' +\n",
              "            '<a target=\"_blank\" href=https://colab.research.google.com/notebooks/data_table.ipynb>data table notebook</a>'\n",
              "            + ' to learn more about interactive tables.';\n",
              "          element.innerHTML = '';\n",
              "          dataTable['output_type'] = 'display_data';\n",
              "          await google.colab.output.renderOutput(dataTable, element);\n",
              "          const docLink = document.createElement('div');\n",
              "          docLink.innerHTML = docLinkHtml;\n",
              "          element.appendChild(docLink);\n",
              "        }\n",
              "      </script>\n",
              "    </div>\n",
              "  </div>\n",
              "  "
            ],
            "text/plain": [
              "       Unnamed: 0  Unnamed: 0.1  ... MultinomialNB Keras_30\n",
              "0               4             4  ...             1        1\n",
              "1               6             6  ...             1        1\n",
              "2               9             9  ...             1        1\n",
              "3              42            42  ...             1        1\n",
              "4              47            47  ...             1        1\n",
              "...           ...           ...  ...           ...      ...\n",
              "10320       27754           719  ...             1        1\n",
              "10321       27755           720  ...             1        1\n",
              "10322       27756           721  ...             1        1\n",
              "10323       27757           722  ...             1        1\n",
              "10324       28550             1  ...             1        1\n",
              "\n",
              "[10325 rows x 9 columns]"
            ]
          },
          "metadata": {},
          "execution_count": 331
        }
      ]
    },
    {
      "cell_type": "code",
      "source": [
        "df_output_nps_.shape"
      ],
      "metadata": {
        "colab": {
          "base_uri": "https://localhost:8080/"
        },
        "id": "MjbIdy1wlkg_",
        "outputId": "6493548c-6dab-460e-aad5-d4c29104f49a"
      },
      "execution_count": null,
      "outputs": [
        {
          "output_type": "execute_result",
          "data": {
            "text/plain": [
              "(10325, 9)"
            ]
          },
          "metadata": {},
          "execution_count": 332
        }
      ]
    },
    {
      "cell_type": "code",
      "source": [
        "# Converte a coluna 'Nota' para INT\n",
        "df_output_nps_['Nota'] = pd.to_numeric(df_output_nps_['Nota'], errors='coerce').fillna(0).astype(np.int64)"
      ],
      "metadata": {
        "id": "66m0weCZBxRC"
      },
      "execution_count": null,
      "outputs": []
    },
    {
      "cell_type": "code",
      "source": [
        "###############################################################################################\n",
        "# Promotores nota de (9 e 10)"
      ],
      "metadata": {
        "id": "0PcTkmQDCa8p"
      },
      "execution_count": null,
      "outputs": []
    },
    {
      "cell_type": "code",
      "source": [
        "promotores_total = df_output_nps_.query('Nota >= 9 ')\n",
        "promotores_total.shape"
      ],
      "metadata": {
        "colab": {
          "base_uri": "https://localhost:8080/"
        },
        "id": "kms3zUCoy_PA",
        "outputId": "68a92015-9fb6-456e-b7b4-006b0387dd3d"
      },
      "execution_count": null,
      "outputs": [
        {
          "output_type": "execute_result",
          "data": {
            "text/plain": [
              "(9877, 9)"
            ]
          },
          "metadata": {},
          "execution_count": 365
        }
      ]
    },
    {
      "cell_type": "code",
      "source": [
        "# Promotores (9 e 10) (MultinomialNB) = Positivos\n",
        "promotores_MultinomialNB_pos = df_output_nps_.query('Nota >= 9 and MultinomialNB == 1 ')\n",
        "promotores_MultinomialNB_pos.shape"
      ],
      "metadata": {
        "colab": {
          "base_uri": "https://localhost:8080/"
        },
        "id": "LyBLCgWhSaMQ",
        "outputId": "6af17786-0e53-422d-d04c-5d3757f6fd4e"
      },
      "execution_count": null,
      "outputs": [
        {
          "output_type": "execute_result",
          "data": {
            "text/plain": [
              "(7196, 9)"
            ]
          },
          "metadata": {},
          "execution_count": 336
        }
      ]
    },
    {
      "cell_type": "code",
      "source": [
        "# Promotores (9 e 10) (Keras_30) = Positivos\n",
        "promotores_Keras_pos = df_output_nps_.query('Nota >= 9 and Keras_30 == 1 ')\n",
        "promotores_Keras_pos.shape"
      ],
      "metadata": {
        "colab": {
          "base_uri": "https://localhost:8080/"
        },
        "id": "kkLtfqOAANrG",
        "outputId": "73d20a19-2ff7-422f-e1db-6289ec2545d4"
      },
      "execution_count": null,
      "outputs": [
        {
          "output_type": "execute_result",
          "data": {
            "text/plain": [
              "(7294, 9)"
            ]
          },
          "metadata": {},
          "execution_count": 337
        }
      ]
    },
    {
      "cell_type": "code",
      "source": [
        "# Promotores (9 e 10) (MultinomialNB/Keras_30)  = Positivos\n",
        "promotores_MultinomialNB_Keras_pos = df_output_nps_.query('Nota >= 9 and MultinomialNB == 1 and Keras_30 == 1 ')\n",
        "promotores_MultinomialNB_Keras_pos.shape"
      ],
      "metadata": {
        "colab": {
          "base_uri": "https://localhost:8080/"
        },
        "id": "2mlUpKqbCARv",
        "outputId": "e94707ec-ad00-4782-d240-8db3875f25ae"
      },
      "execution_count": null,
      "outputs": [
        {
          "output_type": "execute_result",
          "data": {
            "text/plain": [
              "(7196, 9)"
            ]
          },
          "metadata": {},
          "execution_count": 201
        }
      ]
    },
    {
      "cell_type": "code",
      "source": [
        "# Promotores (9 e 10) (MultinomialNB) = Negativos\n",
        "promotores_MultinomialNB_neg = df_output_nps_.query('Nota >= 9 and MultinomialNB == 0 ')\n",
        "promotores_MultinomialNB_neg.shape"
      ],
      "metadata": {
        "colab": {
          "base_uri": "https://localhost:8080/"
        },
        "outputId": "7d835918-a1a6-41ea-b978-46c845575659",
        "id": "DcPnAW0SCfu9"
      },
      "execution_count": null,
      "outputs": [
        {
          "output_type": "execute_result",
          "data": {
            "text/plain": [
              "(2681, 9)"
            ]
          },
          "metadata": {},
          "execution_count": 340
        }
      ]
    },
    {
      "cell_type": "code",
      "source": [
        "# Promotores (9 e 10) (Keras_30) = Negativos\n",
        "promotores_Keras_neg = df_output_nps_.query('Nota >= 9 and Keras_30 == 0 ')\n",
        "promotores_Keras_neg.shape"
      ],
      "metadata": {
        "colab": {
          "base_uri": "https://localhost:8080/"
        },
        "outputId": "62fd5a8e-aab6-439b-a1da-954a964a57cb",
        "id": "IsSbRK_rCfu-"
      },
      "execution_count": null,
      "outputs": [
        {
          "output_type": "execute_result",
          "data": {
            "text/plain": [
              "(2583, 9)"
            ]
          },
          "metadata": {},
          "execution_count": 341
        }
      ]
    },
    {
      "cell_type": "code",
      "source": [
        "# Promotores (9 e 10) (MultinomialNB/Keras_30) = Negativos\n",
        "promotores_MultinomialNB_Keras_neg = df_output_nps_.query('Nota >= 9 and MultinomialNB == 0 and Keras_30 == 0 ')\n",
        "promotores_MultinomialNB_Keras_neg.shape"
      ],
      "metadata": {
        "colab": {
          "base_uri": "https://localhost:8080/"
        },
        "outputId": "62cf9945-db99-402c-d73d-e6d009a2b6c9",
        "id": "KUhWaHhiCfu_"
      },
      "execution_count": null,
      "outputs": [
        {
          "output_type": "execute_result",
          "data": {
            "text/plain": [
              "(1262, 9)"
            ]
          },
          "metadata": {},
          "execution_count": 342
        }
      ]
    },
    {
      "cell_type": "code",
      "source": [
        "# Promotores (9 e 10) (MultinomialNB/Keras_30)  = Diferença\n",
        "promotores_MultinomialNB_Keras_pos = df_output_nps_.query('Nota >= 9 and MultinomialNB != Keras_30 ')\n",
        "promotores_MultinomialNB_Keras_pos.shape"
      ],
      "metadata": {
        "colab": {
          "base_uri": "https://localhost:8080/"
        },
        "id": "ooLWztHWtpkF",
        "outputId": "7d059fdb-b038-4f4f-d55f-7aef88f7d8a8"
      },
      "execution_count": null,
      "outputs": [
        {
          "output_type": "execute_result",
          "data": {
            "text/plain": [
              "(2740, 9)"
            ]
          },
          "metadata": {},
          "execution_count": 344
        }
      ]
    },
    {
      "cell_type": "code",
      "source": [
        "###############################################################################################\n",
        "# Passivos nota de (7 e 8)"
      ],
      "metadata": {
        "id": "UVIYBf83CzjR"
      },
      "execution_count": null,
      "outputs": []
    },
    {
      "cell_type": "code",
      "source": [
        "passivos_total = df_output_nps_.query('Nota >= 7 and Nota <= 8 ')\n",
        "passivos_total.shape"
      ],
      "metadata": {
        "colab": {
          "base_uri": "https://localhost:8080/"
        },
        "id": "yDSvl-HlzGek",
        "outputId": "c5b6b19a-d5ff-4947-c319-900737ac20ca"
      },
      "execution_count": null,
      "outputs": [
        {
          "output_type": "execute_result",
          "data": {
            "text/plain": [
              "(197, 9)"
            ]
          },
          "metadata": {},
          "execution_count": 364
        }
      ]
    },
    {
      "cell_type": "code",
      "source": [
        "# Passivos (7 e 8) (MultinomialNB) = Positivos\n",
        "passivos_MultinomialNB_pos = df_output_nps_.query('Nota >= 7 and Nota <= 8 and MultinomialNB == 1 ')\n",
        "passivos_MultinomialNB_pos.shape"
      ],
      "metadata": {
        "colab": {
          "base_uri": "https://localhost:8080/"
        },
        "outputId": "0d9861cc-f113-4e73-ea92-f18efe17387f",
        "id": "9XlE6bwfDR3j"
      },
      "execution_count": null,
      "outputs": [
        {
          "output_type": "execute_result",
          "data": {
            "text/plain": [
              "(101, 9)"
            ]
          },
          "metadata": {},
          "execution_count": 345
        }
      ]
    },
    {
      "cell_type": "code",
      "source": [
        "# Passivos (7 e 8) (Keras_30) = Positivos\n",
        "passivos_Keras_pos = df_output_nps_.query('Nota >= 7 and Nota <= 8  and Keras_30 == 1 ')\n",
        "passivos_Keras_pos.shape"
      ],
      "metadata": {
        "colab": {
          "base_uri": "https://localhost:8080/"
        },
        "outputId": "fd532533-04cd-4ff9-c360-e05c93631ece",
        "id": "WC3tvRWoDR3k"
      },
      "execution_count": null,
      "outputs": [
        {
          "output_type": "execute_result",
          "data": {
            "text/plain": [
              "(128, 9)"
            ]
          },
          "metadata": {},
          "execution_count": 346
        }
      ]
    },
    {
      "cell_type": "code",
      "source": [
        "# Passivos (7 e 8) (MultinomialNB/Keras_30)  = Positivos\n",
        "passivos_MultinomialNB_Keras_pos = df_output_nps_.query('Nota >= 7 and Nota <= 8  and MultinomialNB == 1 and Keras_30 == 1 ')\n",
        "passivos_MultinomialNB_Keras_pos.shape"
      ],
      "metadata": {
        "colab": {
          "base_uri": "https://localhost:8080/"
        },
        "outputId": "49aec9fc-5c40-48df-b6d0-f9d66f10479b",
        "id": "HHa14puCDR3k"
      },
      "execution_count": null,
      "outputs": [
        {
          "output_type": "execute_result",
          "data": {
            "text/plain": [
              "(77, 9)"
            ]
          },
          "metadata": {},
          "execution_count": 347
        }
      ]
    },
    {
      "cell_type": "code",
      "source": [
        "# Passivos (7 e 8) (MultinomialNB) = Negativos\n",
        "passivos_MultinomialNB_neg = df_output_nps_.query('Nota >= 7 and Nota <= 8 and MultinomialNB == 0 ')\n",
        "passivos_MultinomialNB_neg.shape"
      ],
      "metadata": {
        "colab": {
          "base_uri": "https://localhost:8080/"
        },
        "outputId": "243c1cca-50a0-48f1-8067-4fdc47d11584",
        "id": "Zo4y3rMqDR3k"
      },
      "execution_count": null,
      "outputs": [
        {
          "output_type": "execute_result",
          "data": {
            "text/plain": [
              "(96, 9)"
            ]
          },
          "metadata": {},
          "execution_count": 348
        }
      ]
    },
    {
      "cell_type": "code",
      "source": [
        "# Passivos (7 e 8) (Keras_30) = Negativos\n",
        "passivos_Keras_neg = df_output_nps_.query('Nota >= 7 and Nota <= 8 and Keras_30 == 0 ')\n",
        "passivos_Keras_neg.shape"
      ],
      "metadata": {
        "colab": {
          "base_uri": "https://localhost:8080/"
        },
        "outputId": "d00abb20-0475-44ff-deca-bdeaf8c52e18",
        "id": "pxMlkAGNDR3l"
      },
      "execution_count": null,
      "outputs": [
        {
          "output_type": "execute_result",
          "data": {
            "text/plain": [
              "(69, 9)"
            ]
          },
          "metadata": {},
          "execution_count": 349
        }
      ]
    },
    {
      "cell_type": "code",
      "source": [
        "# Passivos (7 e 8) (MultinomialNB/Keras_30) = Negativos\n",
        "passivos_MultinomialNB_Keras_neg = df_output_nps_.query('Nota >= 7 and Nota <= 8 and MultinomialNB == 0 and Keras_30 == 0 ')\n",
        "passivos_MultinomialNB_Keras_neg.shape"
      ],
      "metadata": {
        "colab": {
          "base_uri": "https://localhost:8080/"
        },
        "outputId": "7f915854-8bc5-4b6f-f615-b2dbf9de70cb",
        "id": "SrEzADedDR3l"
      },
      "execution_count": null,
      "outputs": [
        {
          "output_type": "execute_result",
          "data": {
            "text/plain": [
              "(96, 9)"
            ]
          },
          "metadata": {},
          "execution_count": 211
        }
      ]
    },
    {
      "cell_type": "code",
      "source": [
        "# Passivos (7 e 8) (MultinomialNB/Keras_30) = Diferença\n",
        "passivos_MultinomialNB_Keras_neg = df_output_nps_.query('Nota >= 7 and Nota <= 8 and MultinomialNB != Keras_30 ')\n",
        "passivos_MultinomialNB_Keras_neg.shape"
      ],
      "metadata": {
        "colab": {
          "base_uri": "https://localhost:8080/"
        },
        "id": "E7jpqwSBuKWm",
        "outputId": "2e4d5d92-5c51-40f5-d2a4-ad3f35ae9768"
      },
      "execution_count": null,
      "outputs": [
        {
          "output_type": "execute_result",
          "data": {
            "text/plain": [
              "(75, 9)"
            ]
          },
          "metadata": {},
          "execution_count": 351
        }
      ]
    },
    {
      "cell_type": "code",
      "source": [
        "###############################################################################################\n",
        "# Detratores (nota de 0 a 6)"
      ],
      "metadata": {
        "id": "WWe8fOp3DHt3"
      },
      "execution_count": null,
      "outputs": []
    },
    {
      "cell_type": "code",
      "source": [
        "detratores_total = df_output_nps_.query('Nota >= 0 and Nota <= 6 ')\n",
        "detratores_total.shape"
      ],
      "metadata": {
        "colab": {
          "base_uri": "https://localhost:8080/"
        },
        "id": "SKMDJ6Y0zKeb",
        "outputId": "331dfb64-8acf-4960-a689-f72e5fdcf056"
      },
      "execution_count": null,
      "outputs": [
        {
          "output_type": "execute_result",
          "data": {
            "text/plain": [
              "(251, 9)"
            ]
          },
          "metadata": {},
          "execution_count": 363
        }
      ]
    },
    {
      "cell_type": "code",
      "source": [
        "# Detratores (0 a 6) (MultinomialNB) = Positivos\n",
        "detratores_MultinomialNB_pos = df_output_nps_.query('Nota >= 0 and Nota <= 6 and MultinomialNB == 1 ')\n",
        "detratores_MultinomialNB_pos.shape"
      ],
      "metadata": {
        "colab": {
          "base_uri": "https://localhost:8080/"
        },
        "outputId": "354cb428-0e90-4158-ffed-fd23b06483fc",
        "id": "REuTOxc3D7Aj"
      },
      "execution_count": null,
      "outputs": [
        {
          "output_type": "execute_result",
          "data": {
            "text/plain": [
              "(51, 9)"
            ]
          },
          "metadata": {},
          "execution_count": 352
        }
      ]
    },
    {
      "cell_type": "code",
      "source": [
        "# Detratores (0 a 6) (Keras_30) = Positivos\n",
        "detratores_Keras_pos = df_output_nps_.query('Nota >= 0 and Nota <= 6 and Keras_30 == 1 ')\n",
        "detratores_Keras_pos.shape"
      ],
      "metadata": {
        "colab": {
          "base_uri": "https://localhost:8080/"
        },
        "outputId": "281ce01f-5553-4b5c-95d2-9e7768c088ce",
        "id": "y8KT4f-fD7Ak"
      },
      "execution_count": null,
      "outputs": [
        {
          "output_type": "execute_result",
          "data": {
            "text/plain": [
              "(99, 9)"
            ]
          },
          "metadata": {},
          "execution_count": 353
        }
      ]
    },
    {
      "cell_type": "code",
      "source": [
        "# Detratores (0 a 6) (MultinomialNB/Keras_30)  = Positivos\n",
        "detratores_MultinomialNB_Keras_pos = df_output_nps_.query('Nota >= 0 and Nota <= 6 and MultinomialNB == 1 and Keras_30 == 1 ')\n",
        "detratores_MultinomialNB_Keras_pos.shape"
      ],
      "metadata": {
        "colab": {
          "base_uri": "https://localhost:8080/"
        },
        "outputId": "7d9b074b-be3c-45f7-a83f-ecb3cfc6cbc9",
        "id": "ri6nCBYgD7Ak"
      },
      "execution_count": null,
      "outputs": [
        {
          "output_type": "execute_result",
          "data": {
            "text/plain": [
              "(34, 9)"
            ]
          },
          "metadata": {},
          "execution_count": 354
        }
      ]
    },
    {
      "cell_type": "code",
      "source": [
        "# Detratores (0 a 6) (MultinomialNB) = Negativos\n",
        "detratores_MultinomialNB_neg = df_output_nps_.query('Nota >= 0 and Nota <= 6 and MultinomialNB == 0 ')\n",
        "detratores_MultinomialNB_neg.shape"
      ],
      "metadata": {
        "colab": {
          "base_uri": "https://localhost:8080/"
        },
        "outputId": "d94998c8-d8a5-447c-da43-613b7592a43c",
        "id": "HEwlDZdGD7Ak"
      },
      "execution_count": null,
      "outputs": [
        {
          "output_type": "execute_result",
          "data": {
            "text/plain": [
              "(200, 9)"
            ]
          },
          "metadata": {},
          "execution_count": 355
        }
      ]
    },
    {
      "cell_type": "code",
      "source": [
        "# Detratores (0 a 6) (Keras_30) = Negativos\n",
        "detratores_Keras_neg = df_output_nps_.query('Nota >= 0 and Nota <= 6 and Keras_30 == 0 ')\n",
        "detratores_Keras_neg.shape"
      ],
      "metadata": {
        "colab": {
          "base_uri": "https://localhost:8080/"
        },
        "outputId": "9c5fe0f7-7493-45f0-a475-a5502a497778",
        "id": "cCTl_wryD7Ak"
      },
      "execution_count": null,
      "outputs": [
        {
          "output_type": "execute_result",
          "data": {
            "text/plain": [
              "(152, 9)"
            ]
          },
          "metadata": {},
          "execution_count": 356
        }
      ]
    },
    {
      "cell_type": "code",
      "source": [
        "# Detratores (0 a 6) (MultinomialNB/Keras_30) = Negativos\n",
        "detratores_MultinomialNB_Keras_neg = df_output_nps_.query('Nota >= 0 and Nota <= 6 and MultinomialNB == 0 and Keras_30 == 0 ')\n",
        "detratores_MultinomialNB_Keras_neg.shape"
      ],
      "metadata": {
        "colab": {
          "base_uri": "https://localhost:8080/"
        },
        "outputId": "18374539-11c7-4bbe-8c43-bc3fb32d1b00",
        "id": "uS93O_3eD7Al"
      },
      "execution_count": null,
      "outputs": [
        {
          "output_type": "execute_result",
          "data": {
            "text/plain": [
              "(135, 9)"
            ]
          },
          "metadata": {},
          "execution_count": 357
        }
      ]
    },
    {
      "cell_type": "code",
      "source": [
        "# Detratores (0 a 6) (MultinomialNB/Keras_30) = Diferença\n",
        "detratores_MultinomialNB_Keras_neg = df_output_nps_.query('Nota >= 0 and Nota <= 6 and MultinomialNB != Keras_30 ')\n",
        "detratores_MultinomialNB_Keras_neg.shape"
      ],
      "metadata": {
        "colab": {
          "base_uri": "https://localhost:8080/"
        },
        "id": "k1KEp1ShuY-L",
        "outputId": "606145fb-cb36-4552-a8db-828dd9666052"
      },
      "execution_count": null,
      "outputs": [
        {
          "output_type": "execute_result",
          "data": {
            "text/plain": [
              "(82, 9)"
            ]
          },
          "metadata": {},
          "execution_count": 358
        }
      ]
    },
    {
      "cell_type": "code",
      "source": [
        ""
      ],
      "metadata": {
        "id": "8vbgfR6jbF-b"
      },
      "execution_count": null,
      "outputs": []
    }
  ],
  "metadata": {
    "accelerator": "GPU",
    "colab": {
      "collapsed_sections": [],
      "machine_shape": "hm",
      "name": "Extrair.ipynb",
      "provenance": [],
      "toc_visible": true
    },
    "interpreter": {
      "hash": "5f6c10c60de62843dc081b03eee6c66e3cd973187366879027e60b56edf49fc4"
    },
    "kernelspec": {
      "display_name": "Python 3.8.8 64-bit ('base': conda)",
      "name": "python3"
    },
    "language_info": {
      "codemirror_mode": {
        "name": "ipython",
        "version": 3
      },
      "file_extension": ".py",
      "mimetype": "text/x-python",
      "name": "python",
      "nbconvert_exporter": "python",
      "pygments_lexer": "ipython3",
      "version": "3.8.8"
    }
  },
  "nbformat": 4,
  "nbformat_minor": 0
}